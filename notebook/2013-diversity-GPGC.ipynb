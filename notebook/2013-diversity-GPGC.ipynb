{
 "metadata": {
  "name": "",
  "signature": "sha256:195c4c01e57c449f2278837d74d4104af24360f04206174f4cadea4ad3770ef1"
 },
 "nbformat": 3,
 "nbformat_minor": 0,
 "worksheets": [
  {
   "cells": [
    {
     "cell_type": "markdown",
     "metadata": {},
     "source": [
      "/mnt/scratch/tg/qingpeng/2014JGI_Data_Work/run/Small_1T/Get_Table/Table\n",
      "\n",
      "\n",
      "\n",
      "Get the IGS\n",
      "\n",
      "count_spectrum.qsub\n",
      "\n",
      "\n",
      "generate MAP.txt file\n",
      "qsub seperate_IGS.py.qsub \n"
     ]
    },
    {
     "cell_type": "code",
     "collapsed": false,
     "input": [],
     "language": "python",
     "metadata": {},
     "outputs": []
    },
    {
     "cell_type": "code",
     "collapsed": false,
     "input": [],
     "language": "python",
     "metadata": {},
     "outputs": []
    },
    {
     "cell_type": "code",
     "collapsed": false,
     "input": [],
     "language": "python",
     "metadata": {},
     "outputs": []
    },
    {
     "cell_type": "code",
     "collapsed": false,
     "input": [],
     "language": "python",
     "metadata": {},
     "outputs": []
    },
    {
     "cell_type": "code",
     "collapsed": false,
     "input": [],
     "language": "python",
     "metadata": {},
     "outputs": []
    },
    {
     "cell_type": "markdown",
     "metadata": {},
     "source": [
      "MetHM dataset"
     ]
    },
    {
     "cell_type": "markdown",
     "metadata": {},
     "source": []
    }
   ],
   "metadata": {}
  }
 ]
}