{
 "metadata": {
  "name": "",
  "signature": "sha256:7bec32b8aab709ac8f012ab0cb2ccd7072b30715a59cb2f385aa814e36c7ac2d"
 },
 "nbformat": 3,
 "nbformat_minor": 0,
 "worksheets": [
  {
   "cells": [
    {
     "cell_type": "code",
     "collapsed": false,
     "input": [],
     "language": "python",
     "metadata": {},
     "outputs": []
    }
   ],
   "metadata": {}
  }
 ]
}