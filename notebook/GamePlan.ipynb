{
 "metadata": {
  "name": "",
  "signature": "sha256:fe2f87caaff11a2b2c38b18e4b511fc8a12c2449a3f20d3786019cc51be384a9"
 },
 "nbformat": 3,
 "nbformat_minor": 0,
 "worksheets": [
  {
   "cells": [
    {
     "cell_type": "markdown",
     "metadata": {},
     "source": [
      "IGS based estimation of microbial diversity of metagenomics sample\n",
      "============\n",
      "\n",
      "\n",
      "definition of IGS\n",
      "---------\n",
      "\n",
      "alpha-diversity\n",
      "---------\n",
      "related to diginorm parameters choice....\n",
      "\n",
      "rarefaction curve.. based on IGS????? \n",
      "\n",
      "sequencing depth, \n",
      "\n",
      "beta-diversity\n",
      "----------\n",
      "comparison\n",
      "\n",
      "\n",
      "\n",
      "game plan\n",
      "-------------\n",
      "\n",
      "test datasets:\n",
      "\n",
      "1A, 1B, 1C... traditional datasets\n",
      "\n",
      "more realistic data sets\n",
      "\n",
      "GOS data set( this may be problem)\n",
      "\n",
      "\n",
      "Methit data set\n",
      "\n",
      "other testing data set\n",
      "\n",
      "\n",
      "Other project related\n",
      "-------\n",
      "\n",
      "- Virus\n",
      "\n",
      "\n",
      "- GPGC\n",
      "\n",
      "\n",
      "- Amazon\n",
      "\n",
      "Plan\n",
      "----------\n",
      "1. build pipeline.\n",
      "2. test pipeline using test data sets\n",
      "3. test on virus, GPGC\n",
      "\n",
      "possible usage in classification/binning???\n",
      "-----\n",
      "\n"
     ]
    },
    {
     "cell_type": "code",
     "collapsed": false,
     "input": [],
     "language": "python",
     "metadata": {},
     "outputs": []
    }
   ],
   "metadata": {}
  }
 ]
}