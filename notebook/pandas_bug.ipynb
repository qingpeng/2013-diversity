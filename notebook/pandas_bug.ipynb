{
 "metadata": {
  "name": "",
  "signature": "sha256:6b440350b58e625b7be0bbabe21447cdfda68fb0e9605b9a26643e8ebc64e267"
 },
 "nbformat": 3,
 "nbformat_minor": 0,
 "worksheets": [
  {
   "cells": [
    {
     "cell_type": "code",
     "collapsed": false,
     "input": [
      "import numpy as np\n",
      "from pandas import Series, DataFrame\n",
      "import pandas as pd\n",
      "pd.options.display.notebook_repr_html = False\n",
      "pd.show_versions()"
     ],
     "language": "python",
     "metadata": {},
     "outputs": [
      {
       "output_type": "stream",
       "stream": "stdout",
       "text": [
        "\n",
        "INSTALLED VERSIONS\n",
        "------------------\n",
        "commit: None\n",
        "python: 2.7.6.final.0\n",
        "python-bits: 64\n",
        "OS: Darwin\n",
        "OS-release: 14.1.0\n",
        "machine: x86_64\n",
        "processor: i386\n",
        "byteorder: little\n",
        "LC_ALL: None\n",
        "LANG: en_US.UTF-8\n",
        "\n",
        "pandas: 0.15.2\n",
        "nose: 1.3.4\n",
        "Cython: 0.19.2\n",
        "numpy: 1.8.1\n",
        "scipy: 0.14.0\n",
        "statsmodels: 0.5.0\n",
        "IPython: 2.0.0\n",
        "sphinx: 1.2.2\n",
        "patsy: 0.2.0\n",
        "dateutil: 2.2\n",
        "pytz: 2014.9\n",
        "bottleneck: None\n",
        "tables: 2.4.0\n",
        "numexpr: 2.2.2\n",
        "matplotlib: 1.4.0\n",
        "openpyxl: 1.8.5\n",
        "xlrd: 0.9.2\n",
        "xlwt: 0.7.5\n",
        "xlsxwriter: None\n",
        "lxml: 3.2.3\n",
        "bs4: 4.3.2\n",
        "html5lib: 0.95-dev\n",
        "httplib2: None\n",
        "apiclient: None\n",
        "rpy2: None\n",
        "sqlalchemy: 0.8.3\n",
        "pymysql: None\n",
        "psycopg2: None\n"
       ]
      },
      {
       "output_type": "stream",
       "stream": "stderr",
       "text": [
        "/Users/qingpeng/Library/Enthought/Canopy_64bit/User/lib/python2.7/site-packages/openpyxl/__init__.py:31: UserWarning: The installed version of lxml is too old to be used with openpyxl\n",
        "  warnings.warn(\"The installed version of lxml is too old to be used with openpyxl\")\n"
       ]
      }
     ],
     "prompt_number": 8
    },
    {
     "cell_type": "code",
     "collapsed": false,
     "input": [
      "df = DataFrame({'key1' : ['a', 'a', 'b', 'b', 'a'],\n",
      "                'key2' : ['one', 'two', 'one', 'two', 'one'],\n",
      "                'data1' : np.random.randn(5),\n",
      "                'data2' : np.random.randn(5)})\n",
      "df"
     ],
     "language": "python",
     "metadata": {},
     "outputs": [
      {
       "metadata": {},
       "output_type": "pyout",
       "prompt_number": 5,
       "text": [
        "      data1     data2 key1 key2\n",
        "0  0.894564  1.050070    a  one\n",
        "1  0.688548 -0.740128    a  two\n",
        "2  0.196103  0.041584    b  one\n",
        "3  0.413136  2.180567    b  two\n",
        "4 -0.489973 -0.274152    a  one"
       ]
      }
     ],
     "prompt_number": 5
    },
    {
     "cell_type": "code",
     "collapsed": false,
     "input": [
      "for key, value in df[['data2']].groupby(df['key1']):\n",
      "    print key\n",
      "    print value"
     ],
     "language": "python",
     "metadata": {},
     "outputs": [
      {
       "output_type": "stream",
       "stream": "stdout",
       "text": [
        "a\n",
        "      data2\n",
        "0  1.050070\n",
        "1 -0.740128\n",
        "4 -0.274152\n",
        "b\n",
        "      data2\n",
        "2  0.041584\n",
        "3  2.180567\n"
       ]
      }
     ],
     "prompt_number": 9
    },
    {
     "cell_type": "code",
     "collapsed": false,
     "input": [
      "for key, value in df.groupby('key1')[['data2']]:\n",
      "    print key\n",
      "    print value"
     ],
     "language": "python",
     "metadata": {},
     "outputs": [
      {
       "output_type": "stream",
       "stream": "stdout",
       "text": [
        "a\n",
        "      data1     data2 key1 key2\n",
        "0  0.894564  1.050070    a  one\n",
        "1  0.688548 -0.740128    a  two\n",
        "4 -0.489973 -0.274152    a  one\n",
        "b\n",
        "      data1     data2 key1 key2\n",
        "2  0.196103  0.041584    b  one\n",
        "3  0.413136  2.180567    b  two\n"
       ]
      }
     ],
     "prompt_number": 7
    },
    {
     "cell_type": "code",
     "collapsed": false,
     "input": [],
     "language": "python",
     "metadata": {},
     "outputs": []
    }
   ],
   "metadata": {}
  }
 ]
}