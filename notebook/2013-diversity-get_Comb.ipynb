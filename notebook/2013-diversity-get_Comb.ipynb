{
 "metadata": {
  "name": "",
  "signature": "sha256:d6bbf32087393f7c6a6c2c0e7a7b9a21a981739464b4af4fedb8aad2524c9766"
 },
 "nbformat": 3,
 "nbformat_minor": 0,
 "worksheets": [
  {
   "cells": [
    {
     "cell_type": "heading",
     "level": 1,
     "metadata": {},
     "source": [
      "Two approaches to get .comb files"
     ]
    },
    {
     "cell_type": "markdown",
     "metadata": {},
     "source": [
      "There are two approaches to get .comb files, which is the coverage in different samples of each read in a sample data set:\n",
      "\n",
      "###GS000a.fa.comb\n",
      "    JCVI_READ_838489 0 1 1 1 0 0 0 0 0 0 0 0 0 0 0 0 0 0 0 0 0 0 0 0 0 0 0 0 0 0 0 0 0 0 0 0 0 0 0 0 0 0 0 0\n",
      "    JCVI_READ_839879 0 1 0 0 0 0 0 0 0 0 0 0 0 0 0 0 0 0 0 0 0 0 0 0 0 0 0 0 0 0 0 0 0 0 0 0 0 0 0 0 0 0 0 0\n",
      "    JCVI_READ_839881 0 1 0 0 0 0 0 0 0 0 0 0 0 0 0 0 0 0 0 0 0 0 0 0 0 0 0 0 0 0 0 0 0 0 0 0 0 0 0 0 0 0 0 0\n",
      "    JCVI_READ_839880 0 1 0 0 0 0 0 0 0 0 0 0 0 0 0 0 0 0 0 0 0 0 0 0 0 0 0 0 0 0 0 0 0 0 0 0 0 0 0 0 0 0 0 0\n",
      "    JCVI_READ_839883 0 1 0 0 0 0 0 0 0 0 0 0 0 0 0 0 0 0 0 0 0 0 0 0 0 0 0 0 0 0 0 0 0 0 0 0 0 0 0 0 0 0 0 0\n",
      "    JCVI_READ_840623 0 1 1 0 0 0 0 0 0 0 0 0 0 0 0 0 0 0 0 0 0 1 0 0 0 0 0 0 1 0 1 0 1 0 0 0 0 0 0 0 0 0 0 0\n",
      "    JCVI_READ_840621 0 1 0 0 0 0 0 0 0 0 0 0 0 0 0 0 0 0 0 0 0 0 0 0 0 0 0 0 0 0 0 0 0 0 0 0 0 0 0 0 0 0 0 0\n",
      "    JCVI_READ_840620 0 2 0 1 0 0 0 0 0 0 0 0 0 0 0 0 0 0 0 0 0 0 0 0 0 0 0 0 0 0 0 0 0 0 0 1 0 0 0 0 0 0 0 0"
     ]
    },
    {
     "cell_type": "markdown",
     "metadata": {},
     "source": [
      "##1. Using get_comb_multi.py script to get the .comb files directly.\n",
      "\n",
      "###1.1 get graph file for each read file using load-into-counting.py\n",
      "\n",
      "###1.2 create the config.txt file\n",
      "\n",
      "###1.3 run get_comb_multi.py script\n",
      "\n"
     ]
    },
    {
     "cell_type": "markdown",
     "metadata": {},
     "source": [
      "    python ~/Dropbox/Manuscript/2013-diversity/scripts/get_comb_multi.py config.txt &"
     ]
    },
    {
     "cell_type": "markdown",
     "metadata": {},
     "source": [
      "This approach is good to smaller datasets. All the graph files for all the datasets will be loaded into memory altogether. For bigger datasets, this may not be pratical or efficient."
     ]
    },
    {
     "cell_type": "markdown",
     "metadata": {},
     "source": [
      "##2. Do pairwise counting firstly then generate the .comb files\n",
      "\n",
      "This is more appropriate to bigger datasets. \n",
      "\n",
      "- Each time only load one graph file for one sample\n",
      "- can be parallelized on HPC "
     ]
    },
    {
     "cell_type": "markdown",
     "metadata": {},
     "source": [
      " Here, use Methit data set as an example:\n",
      " \n",
      " \n",
      "    python ~/Dropbox/Manuscript/2013-diversity/scripts/generate_count_list_for_comb.py |bash\n",
      "\n",
      "run a bash script to submit the qsub for different list\n",
      "\n",
      "    bash  ~/Dropbox/Manuscript/2013-diversity/scripts/rebuild_freq_table_stream.sh\n",
      "    \n",
      "    \n",
      "    \n",
      "    python ~/Dropbox/Manuscript/2013-diversity/scripts/count_spectrum_freq_multiple_files.py comb.list GOS.freq\n",
      "\n",
      "\n",
      "Next: try to get the distance matrix from GOS.freq.IGS IGS table.\n",
      "\n",
      "    python /mnt/home/qingpeng/Dropbox/Manuscript/2013-diversity/scripts/get_distance_matrix_v2.py GOS.freq.IGS comb.list matrix.out\n"
     ]
    },
    {
     "cell_type": "code",
     "collapsed": false,
     "input": [],
     "language": "python",
     "metadata": {},
     "outputs": []
    }
   ],
   "metadata": {}
  }
 ]
}