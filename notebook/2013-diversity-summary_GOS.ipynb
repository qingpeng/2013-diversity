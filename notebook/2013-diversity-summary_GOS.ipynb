{
 "metadata": {
  "name": "",
  "signature": "sha256:9b5d96320c0e26a7c4b15e1c40203b71eb79471ff79e0fc4635a7b4760454474"
 },
 "nbformat": 3,
 "nbformat_minor": 0,
 "worksheets": [
  {
   "cells": [
    {
     "cell_type": "heading",
     "level": 1,
     "metadata": {},
     "source": [
      "Using IGS to do diversity analysis - GOS data set"
     ]
    },
    {
     "cell_type": "code",
     "collapsed": false,
     "input": [],
     "language": "python",
     "metadata": {},
     "outputs": []
    }
   ],
   "metadata": {}
  }
 ]
}