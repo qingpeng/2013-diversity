{
 "metadata": {
  "name": "",
  "signature": "sha256:5e3401604ebec6c8f9c65da97d945b6bbf508044604e0e73d82981c025fb4b0e"
 },
 "nbformat": 3,
 "nbformat_minor": 0,
 "worksheets": [
  {
   "cells": [
    {
     "cell_type": "heading",
     "level": 1,
     "metadata": {},
     "source": [
      "beta diversity analysis - GOS data set"
     ]
    },
    {
     "cell_type": "heading",
     "level": 2,
     "metadata": {},
     "source": [
      "1. get GOS data set"
     ]
    },
    {
     "cell_type": "heading",
     "level": 2,
     "metadata": {},
     "source": [
      "2. create graph files"
     ]
    },
    {
     "cell_type": "markdown",
     "metadata": {},
     "source": [
      "run_load.qsub: (qsub to run load-into-counting.py)\n",
      "    \n",
      "    [qingpeng@dev-intel14 GOS_Data]$ more run_load.qsub\n",
      "    #!/bin/bash -login\n",
      "    #PBS -l walltime=10:00:00,nodes=1:ppn=1,mem=3g\n",
      "    #PBS -q main\n",
      "    #PBS -M qingpeng@gmail.com\n",
      "    #PBS -m abe\n",
      "    #PBS -A ged-intel11\n",
      "\n",
      "    module load khmer\n",
      "    module load screed\n",
      "\n",
      "    cd $PBS_O_WORKDIR\n",
      "    python /mnt/home/qingpeng/bin/khmer/scripts/load-into-counting.py --ksize 20 --n_hashes 4 --hashsize 500000000 $htfile $seqfile\n",
      "\n",
      "write_qsub.py: (generate .sh file to submit run_load.qsub jobs, a sample.list file is required.)\n",
      "\n",
      "    [qingpeng@dev-intel14 GOS_Data]$ more write_qsub.py\n",
      "    filein = open('sample.list','r')\n",
      "\n",
      "    #qsub -v htfile=\"GS000a.fa.ht\",seqfile=\"GS000a.fa\" run_load.qsub\n",
      "\n",
      "    for line in filein:\n",
      "      line = line.rstrip()\n",
      "      to_print = \"qsub -v htfile=\\\"GS0\"+line+\".fa.ht\\\",seqfile=\\\"GS0\"+line+\".fa\\\" run_load.qsub\"\n",
      "      print to_print\n",
      "\n",
      "sample.list:\n",
      "\n",
      "    [qingpeng@dev-intel14 GOS_Data]$ more sample.list\n",
      "    00a\n",
      "    00b\n",
      "    00c\n",
      "    00d\n",
      "    01a\n",
      "    01b\n",
      "    01c\n",
      "    02\n",
      "    03\n",
      "    04\n",
      "    05\n",
      "    06\n",
      "    07\n",
      "    08\n",
      "    09\n",
      "    10\n",
      "    11\n",
      "\n",
      "  \n",
      "all_load_qsub.sh\n",
      "\n",
      "\n",
      "    [qingpeng@dev-intel14 GOS_Data]$ more all_load_qsub.sh\n",
      "    qsub -v htfile=\"GS000a.fa.ht\",seqfile=\"GS000a.fa\" run_load.qsub\n",
      "    qsub -v htfile=\"GS000b.fa.ht\",seqfile=\"GS000b.fa\" run_load.qsub\n",
      "    qsub -v htfile=\"GS000c.fa.ht\",seqfile=\"GS000c.fa\" run_load.qsub\n",
      "    qsub -v htfile=\"GS000d.fa.ht\",seqfile=\"GS000d.fa\" run_load.qsub\n",
      "    qsub -v htfile=\"GS001a.fa.ht\",seqfile=\"GS001a.fa\" run_load.qsub\n",
      "    qsub -v htfile=\"GS001b.fa.ht\",seqfile=\"GS001b.fa\" run_load.qsub\n",
      "    qsub -v htfile=\"GS001c.fa.ht\",seqfile=\"GS001c.fa\" run_load.qsub\n"
     ]
    },
    {
     "cell_type": "markdown",
     "metadata": {},
     "source": [
      "##3 generate config.txt for counting reads coverage spectrum\n",
      "\n",
      "####write_config.py ( to generate config.txt):\n",
      "    [qingpeng@dev-intel14 GOS_Data]$ more write_config.py\n",
      "    filein = open('sample.list','r')\n",
      "\n",
      "    #qsub -v htfile=\"GS000a.fa.ht\",seqfile=\"GS000a.fa\" run_load.qsub\n",
      "\n",
      "    for line in filein:\n",
      "      line = line.rstrip()\n",
      "      print \"GS0\"+line+\".fa.ht \",\n",
      "    print \"\\n\"\n",
      "\n",
      "    filein = open('sample.list','r')\n",
      "\n",
      "    #qsub -v htfile=\"GS000a.fa.ht\",seqfile=\"GS000a.fa\" run_load.qsub\n",
      "\n",
      "    for line in filein:\n",
      "      line = line.rstrip()\n",
      "      print \"GS0\"+line+\".fa \",\n",
      "    print \"\\n\"\n",
      "\n",
      "#### config-GOS.txt\n",
      "\n",
      "    [qingpeng@dev-intel14 GOS_Data]$ more config-GOS.txt\n",
      "    GS000a.fa.ht  GS000b.fa.ht  GS000c.fa.ht  GS000d.fa.ht  GS001a.fa.ht  GS001b.fa.ht  GS001c.fa.ht  GS002.fa.ht  GS003.fa.ht  GS004.fa.ht\n",
      "     GS005.fa.ht  GS006.fa.ht  GS007.fa.ht  GS008.fa.ht  GS009.fa.ht  GS010.fa.ht  GS011.fa.ht  GS012.fa.ht  GS013.fa.ht  GS014.fa.ht  GS015\n",
      "    .fa.ht  GS016.fa.ht  GS017.fa.ht  GS018.fa.ht  GS019.fa.ht  GS020.fa.ht  GS021.fa.ht  GS022.fa.ht  GS023.fa.ht  GS025.fa.ht  GS026.fa.ht\n",
      "      GS027.fa.ht  GS028.fa.ht  GS029.fa.ht  GS030.fa.ht  GS031.fa.ht  GS032.fa.ht  GS033.fa.ht  GS034.fa.ht  GS035.fa.ht  GS036.fa.ht  GS03\n",
      "    7.fa.ht  GS047.fa.ht  GS051.fa.ht\n",
      "    GS000a.fa  GS000b.fa  GS000c.fa  GS000d.fa  GS001a.fa  GS001b.fa  GS001c.fa  GS002.fa  GS003.fa  GS004.fa  GS005.fa  GS006.fa  GS007.fa\n",
      "     GS008.fa  GS009.fa  GS010.fa  GS011.fa  GS012.fa  GS013.fa  GS014.fa  GS015.fa  GS016.fa  GS017.fa  GS018.fa  GS019.fa  GS020.fa  GS021\n",
      "    .fa  GS022.fa  GS023.fa  GS025.fa  GS026.fa  GS027.fa  GS028.fa  GS029.fa  GS030.fa  GS031.fa  GS032.fa  GS033.fa  GS034.fa  GS035.fa  G\n",
      "    S036.fa  GS037.fa  GS047.fa  GS051.fa\n",
      "    100000000000\n"
     ]
    },
    {
     "cell_type": "heading",
     "level": 2,
     "metadata": {},
     "source": [
      "4. count reads coverage spectrum across species for each reads file(get .comb)"
     ]
    },
    {
     "cell_type": "markdown",
     "metadata": {},
     "source": [
      "####get_comb_multi.qsub:\n",
      "    #!/bin/bash -login\n",
      "    #PBS -l walltime=20:00:00,nodes=01:ppn=4,mem=110gb\n",
      "    #PBS -q main\n",
      "    #PBS -M qingpeng@gmail.com\n",
      "    #PBS -m abe\n",
      "    #PBS -A ged-intel11\n",
      "\n",
      "    module load khmer\n",
      "    module load screed\n",
      "    cd $PBS_O_WORKDIR\n",
      "    python get_comb_multi.py config-GOS.txt"
     ]
    },
    {
     "cell_type": "markdown",
     "metadata": {},
     "source": [
      "###GS000a.fa.comb\n",
      "    JCVI_READ_838489 0 1 1 1 0 0 0 0 0 0 0 0 0 0 0 0 0 0 0 0 0 0 0 0 0 0 0 0 0 0 0 0 0 0 0 0 0 0 0 0 0 0 0 0\n",
      "    JCVI_READ_839879 0 1 0 0 0 0 0 0 0 0 0 0 0 0 0 0 0 0 0 0 0 0 0 0 0 0 0 0 0 0 0 0 0 0 0 0 0 0 0 0 0 0 0 0\n",
      "    JCVI_READ_839881 0 1 0 0 0 0 0 0 0 0 0 0 0 0 0 0 0 0 0 0 0 0 0 0 0 0 0 0 0 0 0 0 0 0 0 0 0 0 0 0 0 0 0 0\n",
      "    JCVI_READ_839880 0 1 0 0 0 0 0 0 0 0 0 0 0 0 0 0 0 0 0 0 0 0 0 0 0 0 0 0 0 0 0 0 0 0 0 0 0 0 0 0 0 0 0 0\n",
      "    JCVI_READ_839883 0 1 0 0 0 0 0 0 0 0 0 0 0 0 0 0 0 0 0 0 0 0 0 0 0 0 0 0 0 0 0 0 0 0 0 0 0 0 0 0 0 0 0 0\n",
      "    JCVI_READ_840623 0 1 1 0 0 0 0 0 0 0 0 0 0 0 0 0 0 0 0 0 0 1 0 0 0 0 0 0 1 0 1 0 1 0 0 0 0 0 0 0 0 0 0 0\n",
      "    JCVI_READ_840621 0 1 0 0 0 0 0 0 0 0 0 0 0 0 0 0 0 0 0 0 0 0 0 0 0 0 0 0 0 0 0 0 0 0 0 0 0 0 0 0 0 0 0 0\n",
      "    JCVI_READ_840620 0 2 0 1 0 0 0 0 0 0 0 0 0 0 0 0 0 0 0 0 0 0 0 0 0 0 0 0 0 0 0 0 0 0 0 1 0 0 0 0 0 0 0 0"
     ]
    },
    {
     "cell_type": "heading",
     "level": 2,
     "metadata": {},
     "source": [
      "5.1 Get distance matrix ( method 1: use number of reads that are covered in another sample, similar to Compareads.)"
     ]
    },
    {
     "cell_type": "markdown",
     "metadata": {},
     "source": [
      "    python get_distance.py\n",
      "    cp distance.txt GOS_distance.txt\n",
      "\n"
     ]
    },
    {
     "cell_type": "heading",
     "level": 2,
     "metadata": {},
     "source": [
      "5.2 Using IGS-based method to get distance matrix"
     ]
    },
    {
     "cell_type": "markdown",
     "metadata": {},
     "source": [
      "###5.2.1 get .comb list file and get spectrum frequency across samples\n",
      "\n",
      "    ls *.comb >comb.list\n",
      "    python ~/Dropbox/Manuscript/2013-diversity/scripts/count_spectrum_freq_multiple_files.py comb.list GOS.freq "
     ]
    },
    {
     "cell_type": "markdown",
     "metadata": {},
     "source": [
      "### GOS.freq\n",
      "    8-3-0-7-0-1-0-0-0-0-0-0-0-0-0-0-0-0-0-0-6-4-8-8-12-0-0-3-4-8-9-1-0-0-2-0-0-0-0-0-0-0-0-0 0 0 0 0 0 0 0 0 0 0 0 0 0 0 0 0 0 0 0 0 1 0 0 0 0 0 0 0 0 0 0 0 0 0 0 0 0 0 0 0 0 0 0 0\n",
      "    8-3-0-7-0-1-0-0-0-0-0-0-0-0-0-0-0-0-0-0-6-4-8-8-12-0-0-4-5-8-9-1-0-0-2-0-0-0-0-0-0-0-0-0 0 0 0 0 0 0 0 0 0 0 0 0 0 0 0 0 0 0 0 0 1 0 0 0 0 0 0 0 0 0 0 0 0 0 0 0 0 0 0 0 0 0 0 0\n",
      "    8-3-0-7-0-1-0-0-0-0-0-0-0-0-0-0-0-0-0-1-5-4-7-8-11-0-0-3-4-8-9-1-0-0-2-0-0-0-0-0-0-0-0-0 0 0 0 0 0 0 0 0 0 0 0 0 0 0 0 0 0 0 0 0 0 0 0 0 0 0 0 0 0 1 0 0 0 0 0 0 0 0 0 0 0 0 0 0\n",
      "    8-3-0-7-0-1-0-0-0-0-0-0-0-0-0-0-0-0-0-1-5-4-8-9-12-0-0-3-5-8-10-0-0-0-2-0-0-0-0-0-0-0-0-0 0 0 0 0 0 0 0 0 0 0 0 0 0 0 0 0 0 0 0 0 0 0 0 0 0 0 0 0 0 0 1 0 0 0 0 0 0 0 0 0 0 0 0 0\n",
      "    8-3-0-7-0-1-0-0-0-0-0-0-0-0-0-0-0-0-0-1-6-4-8-8-12-0-0-3-4-8-9-1-0-0-2-0-0-0-0-0-0-0-0-0 0 0 0 0 0 0 0 0 0 0 0 0 0 0 0 0 0 0 0 0 0 0 0 0 0 0 0 0 0 0 0 0 0 0 1 0 0 0 0 0 0 0 0 0\n",
      "    8-3-0-7-0-1-0-0-0-0-0-0-0-0-0-0-0-0-0-1-6-4-8-8-12-0-0-4-4-8-9-0-0-0-2-0-0-0-0-0-0-0-0-0 0 0 0 0 0 0 0 0 0 0 0 0 0 0 0 0 0 0 0 0 0 0 0 0 1 0 0 0 0 0 0 0 0 0 0 0 0 0 0 0 0 0 0 0\n",
      "    8-3-0-7-0-2-0-0-0-0-0-0-0-0-0-0-0-0-0-1-5-4-7-8-11-0-0-3-3-8-9-1-0-0-2-0-0-0-0-0-0-0-0-0 0 0 0 0 0 1 0 0 0 0 0 0 0 0 0 0 0 0 0 0 0 0 0 0 0 0 0 0 0 0 0 0 0 0 0 0 0 0 0 0 0 0 0 0\n",
      "    8-3-0-8-0-1-0-0-0-0-0-0-0-0-0-0-0-0-0-0-5-4-8-9-12-0-0-3-5-8-10-0-0-0-2-0-0-0-0-0-0-0-0-0 0 0 0 0 0 0 0 0 0 0 0 0 0 0 0 0 0 0 0 0 0 0 0 0 0 0 0 0 0 0 1 0 0 0 0 0 0 0 0 0 0 0 0 0\n",
      "    8-3-1-11-2-2-1-0-0-0-0-0-0-0-0-0-0-0-0-1-14-4-12-7-7-0-0-6-9-6-7-1-0-0-0-0-0-0-1-0-0-0-0-0 0 0 0 0 0 0 0 0 0 0 0 0 0 0 0 0 0 0 0 0 0 0 0 0 0 0 0 0 0 0 1 0 0 0 0 0 0 0 0 0 0 0 0 0\n",
      "    8-3-1-17-0-2-0-0-0-0-0-0-0-0-0-0-0-0-0-1-7-9-16-6-11-0-1-3-9-5-6-3-1-1-0-0-0-0-3-0-0-1-3-0 0 0 0 0 0 0 0 0 0 0 0 0 0 0 0 0 0 0 0 0 0 0 0 0 0 0 0 0 1 0 0 0 0 0 0 0 0 0 0 0 0 0 0 0"
     ]
    },
    {
     "cell_type": "markdown",
     "metadata": {},
     "source": [
      "###5.2.1 get .IGS and .IGS_abund files from *.freq file, listing all the IGSs and get the IGS-abundance matrix\n",
      "\n",
      "    python ~/Dropbox/Manuscript/2013-diversity/scripts/seperate_IGS.py GOS.freq GOS_Map.txt "
     ]
    },
    {
     "cell_type": "markdown",
     "metadata": {},
     "source": [
      "#### Count the number of IGSs with that spectrum of coverage across samples (.IGS_abund file)\n",
      "\n",
      "For many \"coverage spectrum\", the number of \"normalized\" IGSs is smaller than 1. In the next step, we just discard those rare IGSs."
     ]
    },
    {
     "cell_type": "markdown",
     "metadata": {},
     "source": [
      "#####GOS.freq.IGS_abund\n",
      "\n",
      "    0-0-0-0-0-0-0-0-0-0-0-0-0-0-0-0-0-0-0-0-0-0-0-0-0-0-0-0-0-0-0-0-0-0-0-0-0-0-2-0-0-0-0-5 0.142857142857\n",
      "    0-0-0-0-0-0-0-0-0-0-0-0-0-0-0-0-0-0-0-0-0-0-0-0-0-0-0-0-0-0-0-0-0-0-0-0-0-0-2-0-0-0-1-0 27.0\n",
      "    0-0-0-0-0-0-0-0-0-0-0-0-0-0-0-0-0-0-0-0-0-0-0-0-0-0-0-0-0-0-0-0-0-0-0-0-0-0-2-0-0-0-1-1 0.25\n",
      "    0-0-0-0-0-0-0-0-0-0-0-0-0-0-0-0-0-0-0-0-0-0-0-0-0-0-0-0-0-0-0-0-0-0-0-0-0-0-2-0-0-0-2-0 3.25\n",
      "    0-0-0-0-0-0-0-0-0-0-0-0-0-0-0-0-0-0-0-0-0-0-0-0-0-0-0-0-0-0-0-0-0-0-0-0-0-0-2-0-0-1-0-0 17.3333333333\n",
      "    0-0-0-0-0-0-0-0-0-0-0-0-0-0-0-0-0-0-0-0-0-0-0-0-0-0-0-0-0-0-0-0-0-0-0-0-0-0-2-0-0-1-1-0 0.5\n",
      "    0-0-0-0-0-0-0-0-0-0-0-0-0-0-0-0-0-0-0-0-0-0-0-0-0-0-0-0-0-0-0-0-0-0-0-0-0-0-2-0-0-2-0-0 11.5\n",
      "    0-0-0-0-0-0-0-0-0-0-0-0-0-0-0-0-0-0-0-0-0-0-0-0-0-0-0-0-0-0-0-0-0-0-0-0-0-0-2-0-0-2-1-0 0.6\n",
      "    0-0-0-0-0-0-0-0-0-0-0-0-0-0-0-0-0-0-0-0-0-0-0-0-0-0-0-0-0-0-0-0-0-0-0-0-0-0-2-0-0-3-1-0 0.5\n",
      "    0-0-0-0-0-0-0-0-0-0-0-0-0-0-0-0-0-0-0-0-0-0-0-0-0-0-0-0-0-0-0-0-0-0-0-0-0-0-2-0-0-4-0-0 0.333333333333\n",
      "    0-0-0-0-0-0-0-0-0-0-0-0-0-0-0-0-0-0-0-0-0-0-0-0-0-0-0-0-0-0-0-0-0-0-0-0-0-0-2-0-0-4-1-0 0.142857142857\n",
      "    0-0-0-0-0-0-0-0-0-0-0-0-0-0-0-0-0-0-0-0-0-0-0-0-0-0-0-0-0-0-0-0-0-0-0-0-0-0-2-0-1-0-0-0 242.666666667\n",
      "    0-0-0-0-0-0-0-0-0-0-0-0-0-0-0-0-0-0-0-0-0-0-0-0-0-0-0-0-0-0-0-0-0-0-0-0-0-0-2-0-1-0-0-1 11.25\n",
      "    0-0-0-0-0-0-0-0-0-0-0-0-0-0-0-0-0-0-0-0-0-0-0-0-0-0-0-0-0-0-0-0-0-0-0-0-0-0-2-0-1-0-0-2 1.8\n",
      "    0-0-0-0-0-0-0-0-0-0-0-0-0-0-0-0-0-0-0-0-0-0-0-0-0-0-0-0-0-0-0-0-0-0-0-0-0-0-2-0-1-0-0-3 0.333333333333\n",
      "    0-0-0-0-0-0-0-0-0-0-0-0-0-0-0-0-0-0-0-0-0-0-0-0-0-0-0-0-0-0-0-0-0-0-0-0-0-0-2-0-1-0-0-5 0.125\n",
      "    0-0-0-0-0-0-0-0-0-0-0-0-0-0-0-0-0-0-0-0-0-0-0-0-0-0-0-0-0-0-0-0-0-0-0-0-0-0-2-0-1-0-1-0 0.5\n",
      "    0-0-0-0-0-0-0-0-0-0-0-0-0-0-0-0-0-0-0-0-0-0-0-0-0-0-0-0-0-0-0-0-0-0-0-0-0-0-2-0-1-1-0-0 0.25\n",
      "    0-0-0-0-0-0-0-0-0-0-0-0-0-0-0-0-0-0-0-0-0-0-0-0-0-0-0-0-0-0-0-0-0-0-0-0-0-0-2-0-1-1-1-0 0.4\n",
      "    0-0-0-0-0-0-0-0-0-0-0-0-0-0-0-0-0-0-0-0-0-0-0-0-0-0-0-0-0-0-0-0-0-0-0-0-0-0-2-0-1-2-0-0 0.4\n",
      "    0-0-0-0-0-0-0-0-0-0-0-0-0-0-0-0-0-0-0-0-0-0-0-0-0-0-0-0-0-0-0-0-0-0-0-0-0-0-2-0-1-4-0-0 0.142857142857\n",
      "    0-0-0-0-0-0-0-0-0-0-0-0-0-0-0-0-0-0-0-0-0-0-0-0-0-0-0-0-0-0-0-0-0-0-0-0-0-0-2-0-2-0-0-0 30.5"
     ]
    },
    {
     "cell_type": "markdown",
     "metadata": {},
     "source": [
      "####List the IGSs and abundance in samples (IGS-table) (*.IGS file)\n"
     ]
    },
    {
     "cell_type": "markdown",
     "metadata": {},
     "source": [
      "#####GOS.freq.IGS\n",
      "    4203559 9       0       1       0       0       0       0       0       0       0       0       0       0       0       0       0       0       0       0       0       0       0       0       0       0\n",
      "    4203560 9       0       1       0       0       0       0       0       0       0       0       0       0       0       0       0       0       0       0       0       0       0       0       0       0\n",
      "    4203561 9       0       1       0       0       0       0       0       0       0       0       0       0       0       0       0       0       0       0       0       0       0       0       0       0\n",
      "    4203562 9       0       1       0       0       0       0       0       0       0       0       0       0       0       0       0       0       0       0       0       0       0       0       0       0\n",
      "    4203563 9       0       2       0       0       0       0       0       0       0       0       0       0       0       0       0       0       0       0       0       0       0       0       0       0\n",
      "    4203564 9       0       2       0       0       0       0       0       0       0       0       0       0       0       0       0       0       0       0       0       0       0       0       0       0\n",
      "    4203565 9       0       2       0       0       0       0       0       0       0       0       0       0       0       0       0       0       0       0       0       0       0       0       0       0\n",
      "    4203566 9       0       2       0       0       0       0       0       0       0       0       0       0       0       0       0       0       0       0       0       0       0       0       0       0\n",
      "    4203567 9       1       0       0       0       0       0       0       0       0       0       0       0       0       0       0       0       0       0       0       0       0       0       0       0\n",
      "    4203568 9       1       0       0       0       0       0       0       0       0       0       0       0       0       0       0       0       0       0       0       0       0       0       0       0\n",
      "    "
     ]
    },
    {
     "cell_type": "markdown",
     "metadata": {},
     "source": [
      "###5.2.3 Get the similarity matrix. (Here we use braycurtis metric.)"
     ]
    },
    {
     "cell_type": "markdown",
     "metadata": {},
     "source": [
      "    python /mnt/home/qingpeng/Dropbox/Manuscript/2013-diversity/scripts/get_distance_matrix_v2.py GOS.freq.IGS comb.list matrix.out\n",
      "\n",
      "#####get_dm.qsub\n",
      "\n",
      "    qingpeng@dev-intel14 0824]$ more get_dm.qsub\n",
      "    #!/bin/bash -login\n",
      "    #PBS -l walltime=20:00:00,nodes=1:ppn=1,mem=10g\n",
      "    #PBS -q main\n",
      "    #PBS -M qingpeng@gmail.com\n",
      "    #PBS -m abe\n",
      "    #PBS -A ged-intel11\n",
      "\n",
      "    module load NumPy/1.8.1\n",
      "    module load matplotlib/1.1.0\n",
      "    module load SciPy/0.13.0\n",
      "    module h5py/2.1.3\n",
      "    source /mnt/home/qingpeng/env/bin/activate\n",
      "\n",
      "    cd $PBS_O_WORKDIR\n",
      "    python /mnt/home/qingpeng/Dropbox/Manuscript/2013-diversity/scripts/get_distance_matrix_v2.py GOS.freq.IGS comb.list matrix.out\n"
     ]
    },
    {
     "cell_type": "markdown",
     "metadata": {},
     "source": [
      "matrix.out is the distance matrix"
     ]
    },
    {
     "cell_type": "heading",
     "level": 2,
     "metadata": {},
     "source": [
      "6. Do clustering using distance matrix"
     ]
    },
    {
     "cell_type": "markdown",
     "metadata": {},
     "source": [
      "See other notebook \n",
      "\n"
     ]
    },
    {
     "cell_type": "code",
     "collapsed": false,
     "input": [],
     "language": "python",
     "metadata": {},
     "outputs": []
    }
   ],
   "metadata": {}
  }
 ]
}