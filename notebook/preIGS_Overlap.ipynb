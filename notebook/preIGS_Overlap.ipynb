{
 "metadata": {
  "name": "",
  "signature": "sha256:42fb4c0d0f2664fd3bceb83a633ea72c772def5a99d47ed092628bc9a3516cde"
 },
 "nbformat": 3,
 "nbformat_minor": 0,
 "worksheets": [
  {
   "cells": [
    {
     "cell_type": "code",
     "collapsed": false,
     "input": [
      "def get_ratio(filename):\n",
      "\n",
      "    #read_coverage1 = numpy.loadtxt('../data/evenness_1-Empirical.fna.gz.hist')\n",
      "    print filename\n",
      "    f_o= open(filename)\n",
      "    lines = f_o.readlines()\n",
      "    fields = lines[-1].split()\n",
      "    ratio = float(fields[2])/float(fields[1])\n",
      "    #print ratio\n",
      "    return ratio\n",
      "    #print 1A21B_E[-1,:]\n",
      "\n",
      "#plot(read_coverage1[:,0], read_coverage1[:,1],'bo-')\n",
      "#!ls ../data/"
     ],
     "language": "python",
     "metadata": {},
     "outputs": [],
     "prompt_number": 16
    },
    {
     "cell_type": "code",
     "collapsed": false,
     "input": [
      "E1A21B=get_ratio('../data/1A21B.sweep6X.keep.Empirical')\n",
      "E1A21C=get_ratio('../data/1A21C.sweep6X.keep.Empirical')\n",
      "E1B21A=get_ratio('../data/1B21A.sweep6X.keep.Empirical')\n",
      "E1B21C=get_ratio('../data/1B21C.sweep6X.keep.Empirical')\n",
      "E1C21A=get_ratio('../data/1C21A.sweep6X.keep.Empirical')\n",
      "E1C21B=get_ratio('../data/1C21B.sweep6X.keep.Empirical')\n",
      "\n",
      "X1A21B=get_ratio('../data/1A21B.sweep6X.keep.Exact')\n",
      "X1A21C=get_ratio('../data/1A21C.sweep6X.keep.Exact')\n",
      "X1B21A=get_ratio('../data/1B21A.sweep6X.keep.Exact')\n",
      "X1B21C=get_ratio('../data/1B21C.sweep6X.keep.Exact')\n",
      "X1C21A=get_ratio('../data/1C21A.sweep6X.keep.Exact')\n",
      "X1C21B=get_ratio('../data/1C21B.sweep6X.keep.Exact')\n"
     ],
     "language": "python",
     "metadata": {},
     "outputs": [
      {
       "output_type": "stream",
       "stream": "stdout",
       "text": [
        "../data/1A21B.sweep6X.keep.Empirical\n",
        "0.348823148148\n",
        "../data/1A21C.sweep6X.keep.Empirical\n",
        "0.682210185185\n",
        "../data/1B21A.sweep6X.keep.Empirical\n",
        "0.352523364486\n",
        "../data/1B21C.sweep6X.keep.Empirical\n",
        "0.0612166666667\n",
        "../data/1C21A.sweep6X.keep.Empirical\n",
        "0.581064485981\n",
        "../data/1C21B.sweep6X.keep.Empirical\n",
        "0.109590740741\n",
        "../data/1A21B.sweep6X.keep.Exact\n",
        "0.352854545455\n",
        "../data/1A21C.sweep6X.keep.Exact\n",
        "0.827737662338\n",
        "../data/1B21A.sweep6X.keep.Exact\n",
        "0.353057142857\n",
        "../data/1B21C.sweep6X.keep.Exact\n",
        "0.0859974025974\n",
        "../data/1C21A.sweep6X.keep.Exact\n",
        "0.763114285714\n",
        "../data/1C21B.sweep6X.keep.Exact\n",
        "0.117136363636\n"
       ]
      }
     ],
     "prompt_number": 26
    },
    {
     "cell_type": "markdown",
     "metadata": {},
     "source": [
      "\n",
      "We built 3 series of synthetic data sets:\n",
      "\n",
      "10 species\n",
      "\n",
      "Sample1A:\n",
      "    \n",
      "species IDs:  \n",
      "    \n",
      "* 1,2,3,4,5,6,7,8,9,10\n",
      "* relative abundance:\n",
      "* 20:18:16:4:3:2:2:2:2:2\n",
      "                                    \n",
      "6X 60:54:48:12:9:6:6:6:6:6\n",
      "                                    \n",
      "Sample1B:\n",
      "    \n",
      "species IDs:\n",
      "    \n",
      "* 1,2,3,14,15,16,17,18,19,20\n",
      "* relative abundance:\n",
      "* 20:18:16:4:3:2:2:2:2:2\n",
      "\n",
      "6X 60:54:48:12:9:6:6:6:6:6\n",
      "\n",
      "Sample1C:\n",
      "\n",
      "species IDs:\n",
      "\n",
      "* 21,22,3,4,5,6,7,8,9,10\n",
      "* relative abundance:\n",
      "* 2:2:2:2:2:3:4:16:18:20\n",
      "                               \n",
      "                                    \n",
      "                                    \n",
      "6X 6:6:6:6:6:9:12:48:54:60\n",
      "\n",
      "digital normalization --> 5X coverage\n"
     ]
    },
    {
     "cell_type": "markdown",
     "metadata": {},
     "source": [
      "with error"
     ]
    },
    {
     "cell_type": "code",
     "collapsed": false,
     "input": [
      "# B2A  how many A in B\n",
      "print '             sample1A    sample1B     sample1C'\n",
      "print 'sample1A     N/A       '+str(E1A21B)+'  '+str(E1A21C)+'\\n'\n",
      "print 'sample1B   '+str(E1B21A)+'    N/A      '+str(E1C21B)+'\\n'\n",
      "print 'sample1C   '+str(E1C21A)+'  '+str(E1C21B)+'   N/A   \\n'"
     ],
     "language": "python",
     "metadata": {},
     "outputs": [
      {
       "output_type": "stream",
       "stream": "stdout",
       "text": [
        "             sample1A    sample1B     sample1C\n",
        "sample1A     N/A       0.348823148148  0.682210185185\n",
        "\n",
        "sample1B   0.352523364486    N/A      0.109590740741\n",
        "\n",
        "sample1C   0.581064485981  0.109590740741   N/A   \n",
        "\n"
       ]
      }
     ],
     "prompt_number": 25
    },
    {
     "cell_type": "markdown",
     "metadata": {},
     "source": [
      "without error"
     ]
    },
    {
     "cell_type": "code",
     "collapsed": false,
     "input": [
      "# B2A  how many A in B\n",
      "print '             sample1A    sample1B     sample1C'\n",
      "print 'sample1A     N/A       '+str(X1A21B)+'  '+str(X1A21C)+'\\n'\n",
      "print 'sample1B   '+str(X1B21A)+'    N/A      '+str(X1C21B)+'\\n'\n",
      "print 'sample1C   '+str(X1C21A)+'  '+str(X1C21B)+'   N/A   \\n'"
     ],
     "language": "python",
     "metadata": {},
     "outputs": [
      {
       "output_type": "stream",
       "stream": "stdout",
       "text": [
        "             sample1A    sample1B     sample1C\n",
        "sample1A     N/A       0.352854545455  0.827737662338\n",
        "\n",
        "sample1B   0.353057142857    N/A      0.117136363636\n",
        "\n",
        "sample1C   0.763114285714  0.117136363636   N/A   \n",
        "\n"
       ]
      }
     ],
     "prompt_number": 27
    },
    {
     "cell_type": "markdown",
     "metadata": {},
     "source": [
      "\n",
      "* diginorm -> 6X coverage or more\n",
      "* high abundance species comparison"
     ]
    },
    {
     "cell_type": "code",
     "collapsed": false,
     "input": [],
     "language": "python",
     "metadata": {},
     "outputs": []
    }
   ],
   "metadata": {}
  }
 ]
}