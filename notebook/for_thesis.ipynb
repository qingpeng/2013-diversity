{
 "metadata": {
  "name": "",
  "signature": "sha256:e1c78e9ac56f1ed0e3f6862367981247e6b2f139e439f217768fa32b0d5c0893"
 },
 "nbformat": 3,
 "nbformat_minor": 0,
 "worksheets": [
  {
   "cells": [
    {
     "cell_type": "markdown",
     "metadata": {},
     "source": [
      "1. 10x, no error, low fpr, new method, get richness and mental testing.\n",
      "\n",
      "make-reads.py fixed, make sure all errors are not the same location\n",
      "\n",
      "\n",
      "\n"
     ]
    },
    {
     "cell_type": "heading",
     "level": 2,
     "metadata": {},
     "source": [
      "2. 10x, influence of error rate , and method to correct\n"
     ]
    },
    {
     "cell_type": "heading",
     "level": 3,
     "metadata": {},
     "source": [
      "3. 10x, influence of fpr, and to correct. "
     ]
    },
    {
     "cell_type": "markdown",
     "metadata": {},
     "source": [
      "4. 1% error rate with different coverage"
     ]
    },
    {
     "cell_type": "markdown",
     "metadata": {},
     "source": [
      "commet, compare,  0.1C 0% 0.1C 0% 10C 1% 10C 1%"
     ]
    }
   ],
   "metadata": {}
  }
 ]
}