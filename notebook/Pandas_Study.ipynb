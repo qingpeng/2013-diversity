{
 "metadata": {
  "name": "",
  "signature": "sha256:49d1285564dddd9348fdd357cd1abd29bcf1e28e39dc9a734a459afe7fa9cd88"
 },
 "nbformat": 3,
 "nbformat_minor": 0,
 "worksheets": [
  {
   "cells": [
    {
     "cell_type": "code",
     "collapsed": false,
     "input": [
      "# Import all libraries needed for the tutorial\n",
      "\n",
      "# General syntax to import specific functions in a library: \n",
      "##from (library) import (specific library function)\n",
      "from pandas import DataFrame, read_csv\n",
      "\n",
      "# General syntax to import a library but no functions: \n",
      "##import (library) as (give the library a nickname/alias)\n",
      "import matplotlib.pyplot as plt\n",
      "import pandas as pd #only needed to determine version number\n",
      "import sys #only needed to determine Python version number\n",
      "\n",
      "# Enable inline plotting\n",
      "%matplotlib inline"
     ],
     "language": "python",
     "metadata": {},
     "outputs": [],
     "prompt_number": 1
    },
    {
     "cell_type": "code",
     "collapsed": false,
     "input": [
      "print 'Python version ' + sys.version\n",
      "print 'Pandas version ' + pd.__version__"
     ],
     "language": "python",
     "metadata": {},
     "outputs": [
      {
       "output_type": "stream",
       "stream": "stdout",
       "text": [
        "Python version 2.7.6 | 64-bit | (default, Jan 29 2014, 17:09:48) \n",
        "[GCC 4.2.1 (Apple Inc. build 5666) (dot 3)]\n",
        "Pandas version 0.13.1\n"
       ]
      }
     ],
     "prompt_number": 2
    },
    {
     "cell_type": "code",
     "collapsed": false,
     "input": [
      "# The inital set of baby names and bith rates\n",
      "names = ['Bob','Jessica','Mary','John','Mel']\n",
      "births = [968, 155, 77, 578, 973]"
     ],
     "language": "python",
     "metadata": {},
     "outputs": [],
     "prompt_number": 3
    },
    {
     "cell_type": "code",
     "collapsed": false,
     "input": [
      "zip?\n"
     ],
     "language": "python",
     "metadata": {},
     "outputs": [],
     "prompt_number": 4
    },
    {
     "cell_type": "code",
     "collapsed": false,
     "input": [
      "BabyDataSet = zip(names,births)\n",
      "print BabyDataSet"
     ],
     "language": "python",
     "metadata": {},
     "outputs": [
      {
       "output_type": "stream",
       "stream": "stdout",
       "text": [
        "[('Bob', 968), ('Jessica', 155), ('Mary', 77), ('John', 578), ('Mel', 973)]\n"
       ]
      }
     ],
     "prompt_number": 5
    },
    {
     "cell_type": "code",
     "collapsed": false,
     "input": [
      "df = DataFrame(data = BabyDataSet, columns=['Names', 'Births'])\n",
      "df"
     ],
     "language": "python",
     "metadata": {},
     "outputs": [
      {
       "html": [
        "<div style=\"max-height:1000px;max-width:1500px;overflow:auto;\">\n",
        "<table border=\"1\" class=\"dataframe\">\n",
        "  <thead>\n",
        "    <tr style=\"text-align: right;\">\n",
        "      <th></th>\n",
        "      <th>Names</th>\n",
        "      <th>Births</th>\n",
        "    </tr>\n",
        "  </thead>\n",
        "  <tbody>\n",
        "    <tr>\n",
        "      <th>0</th>\n",
        "      <td>     Bob</td>\n",
        "      <td> 968</td>\n",
        "    </tr>\n",
        "    <tr>\n",
        "      <th>1</th>\n",
        "      <td> Jessica</td>\n",
        "      <td> 155</td>\n",
        "    </tr>\n",
        "    <tr>\n",
        "      <th>2</th>\n",
        "      <td>    Mary</td>\n",
        "      <td>  77</td>\n",
        "    </tr>\n",
        "    <tr>\n",
        "      <th>3</th>\n",
        "      <td>    John</td>\n",
        "      <td> 578</td>\n",
        "    </tr>\n",
        "    <tr>\n",
        "      <th>4</th>\n",
        "      <td>     Mel</td>\n",
        "      <td> 973</td>\n",
        "    </tr>\n",
        "  </tbody>\n",
        "</table>\n",
        "<p>5 rows \u00d7 2 columns</p>\n",
        "</div>"
       ],
       "metadata": {},
       "output_type": "pyout",
       "prompt_number": 6,
       "text": [
        "     Names  Births\n",
        "0      Bob     968\n",
        "1  Jessica     155\n",
        "2     Mary      77\n",
        "3     John     578\n",
        "4      Mel     973\n",
        "\n",
        "[5 rows x 2 columns]"
       ]
      }
     ],
     "prompt_number": 6
    },
    {
     "cell_type": "code",
     "collapsed": false,
     "input": [
      "df.to_csv('births1880.csv',index=False,header=False)"
     ],
     "language": "python",
     "metadata": {},
     "outputs": [],
     "prompt_number": 9
    },
    {
     "cell_type": "code",
     "collapsed": false,
     "input": [
      "Location = './births1880.csv'"
     ],
     "language": "python",
     "metadata": {},
     "outputs": [],
     "prompt_number": 10
    },
    {
     "cell_type": "code",
     "collapsed": false,
     "input": [
      "df = read_csv(Location)"
     ],
     "language": "python",
     "metadata": {},
     "outputs": [],
     "prompt_number": 11
    },
    {
     "cell_type": "code",
     "collapsed": false,
     "input": [
      "df"
     ],
     "language": "python",
     "metadata": {},
     "outputs": [
      {
       "html": [
        "<div style=\"max-height:1000px;max-width:1500px;overflow:auto;\">\n",
        "<table border=\"1\" class=\"dataframe\">\n",
        "  <thead>\n",
        "    <tr style=\"text-align: right;\">\n",
        "      <th></th>\n",
        "      <th>Bob</th>\n",
        "      <th>968</th>\n",
        "    </tr>\n",
        "  </thead>\n",
        "  <tbody>\n",
        "    <tr>\n",
        "      <th>0</th>\n",
        "      <td> Jessica</td>\n",
        "      <td> 155</td>\n",
        "    </tr>\n",
        "    <tr>\n",
        "      <th>1</th>\n",
        "      <td>    Mary</td>\n",
        "      <td>  77</td>\n",
        "    </tr>\n",
        "    <tr>\n",
        "      <th>2</th>\n",
        "      <td>    John</td>\n",
        "      <td> 578</td>\n",
        "    </tr>\n",
        "    <tr>\n",
        "      <th>3</th>\n",
        "      <td>     Mel</td>\n",
        "      <td> 973</td>\n",
        "    </tr>\n",
        "  </tbody>\n",
        "</table>\n",
        "<p>4 rows \u00d7 2 columns</p>\n",
        "</div>"
       ],
       "metadata": {},
       "output_type": "pyout",
       "prompt_number": 12,
       "text": [
        "       Bob  968\n",
        "0  Jessica  155\n",
        "1     Mary   77\n",
        "2     John  578\n",
        "3      Mel  973\n",
        "\n",
        "[4 rows x 2 columns]"
       ]
      }
     ],
     "prompt_number": 12
    },
    {
     "cell_type": "code",
     "collapsed": false,
     "input": [
      "df = read_csv(Location, header=None)\n",
      "df"
     ],
     "language": "python",
     "metadata": {},
     "outputs": [
      {
       "html": [
        "<div style=\"max-height:1000px;max-width:1500px;overflow:auto;\">\n",
        "<table border=\"1\" class=\"dataframe\">\n",
        "  <thead>\n",
        "    <tr style=\"text-align: right;\">\n",
        "      <th></th>\n",
        "      <th>0</th>\n",
        "      <th>1</th>\n",
        "    </tr>\n",
        "  </thead>\n",
        "  <tbody>\n",
        "    <tr>\n",
        "      <th>0</th>\n",
        "      <td>     Bob</td>\n",
        "      <td> 968</td>\n",
        "    </tr>\n",
        "    <tr>\n",
        "      <th>1</th>\n",
        "      <td> Jessica</td>\n",
        "      <td> 155</td>\n",
        "    </tr>\n",
        "    <tr>\n",
        "      <th>2</th>\n",
        "      <td>    Mary</td>\n",
        "      <td>  77</td>\n",
        "    </tr>\n",
        "    <tr>\n",
        "      <th>3</th>\n",
        "      <td>    John</td>\n",
        "      <td> 578</td>\n",
        "    </tr>\n",
        "    <tr>\n",
        "      <th>4</th>\n",
        "      <td>     Mel</td>\n",
        "      <td> 973</td>\n",
        "    </tr>\n",
        "  </tbody>\n",
        "</table>\n",
        "<p>5 rows \u00d7 2 columns</p>\n",
        "</div>"
       ],
       "metadata": {},
       "output_type": "pyout",
       "prompt_number": 13,
       "text": [
        "         0    1\n",
        "0      Bob  968\n",
        "1  Jessica  155\n",
        "2     Mary   77\n",
        "3     John  578\n",
        "4      Mel  973\n",
        "\n",
        "[5 rows x 2 columns]"
       ]
      }
     ],
     "prompt_number": 13
    },
    {
     "cell_type": "code",
     "collapsed": false,
     "input": [
      "df = read_csv(Location, names=['Names','Births'])"
     ],
     "language": "python",
     "metadata": {},
     "outputs": [],
     "prompt_number": 14
    },
    {
     "cell_type": "code",
     "collapsed": false,
     "input": [
      "df"
     ],
     "language": "python",
     "metadata": {},
     "outputs": [
      {
       "html": [
        "<div style=\"max-height:1000px;max-width:1500px;overflow:auto;\">\n",
        "<table border=\"1\" class=\"dataframe\">\n",
        "  <thead>\n",
        "    <tr style=\"text-align: right;\">\n",
        "      <th></th>\n",
        "      <th>Names</th>\n",
        "      <th>Births</th>\n",
        "    </tr>\n",
        "  </thead>\n",
        "  <tbody>\n",
        "    <tr>\n",
        "      <th>0</th>\n",
        "      <td>     Bob</td>\n",
        "      <td> 968</td>\n",
        "    </tr>\n",
        "    <tr>\n",
        "      <th>1</th>\n",
        "      <td> Jessica</td>\n",
        "      <td> 155</td>\n",
        "    </tr>\n",
        "    <tr>\n",
        "      <th>2</th>\n",
        "      <td>    Mary</td>\n",
        "      <td>  77</td>\n",
        "    </tr>\n",
        "    <tr>\n",
        "      <th>3</th>\n",
        "      <td>    John</td>\n",
        "      <td> 578</td>\n",
        "    </tr>\n",
        "    <tr>\n",
        "      <th>4</th>\n",
        "      <td>     Mel</td>\n",
        "      <td> 973</td>\n",
        "    </tr>\n",
        "  </tbody>\n",
        "</table>\n",
        "<p>5 rows \u00d7 2 columns</p>\n",
        "</div>"
       ],
       "metadata": {},
       "output_type": "pyout",
       "prompt_number": 15,
       "text": [
        "     Names  Births\n",
        "0      Bob     968\n",
        "1  Jessica     155\n",
        "2     Mary      77\n",
        "3     John     578\n",
        "4      Mel     973\n",
        "\n",
        "[5 rows x 2 columns]"
       ]
      }
     ],
     "prompt_number": 15
    },
    {
     "cell_type": "code",
     "collapsed": false,
     "input": [
      "import os\n",
      "os.remove(Location)"
     ],
     "language": "python",
     "metadata": {},
     "outputs": [],
     "prompt_number": 16
    },
    {
     "cell_type": "code",
     "collapsed": false,
     "input": [
      "print df.dtypes"
     ],
     "language": "python",
     "metadata": {},
     "outputs": [
      {
       "output_type": "stream",
       "stream": "stdout",
       "text": [
        "Names     object\n",
        "Births     int64\n",
        "dtype: object\n"
       ]
      }
     ],
     "prompt_number": 17
    },
    {
     "cell_type": "code",
     "collapsed": false,
     "input": [
      "df.Births.dtype"
     ],
     "language": "python",
     "metadata": {},
     "outputs": [
      {
       "metadata": {},
       "output_type": "pyout",
       "prompt_number": 18,
       "text": [
        "dtype('int64')"
       ]
      }
     ],
     "prompt_number": 18
    },
    {
     "cell_type": "code",
     "collapsed": false,
     "input": [
      "Sorted = df.sort(['Births'], ascending=[0])"
     ],
     "language": "python",
     "metadata": {},
     "outputs": [],
     "prompt_number": 19
    },
    {
     "cell_type": "code",
     "collapsed": false,
     "input": [
      "Sorted"
     ],
     "language": "python",
     "metadata": {},
     "outputs": [
      {
       "html": [
        "<div style=\"max-height:1000px;max-width:1500px;overflow:auto;\">\n",
        "<table border=\"1\" class=\"dataframe\">\n",
        "  <thead>\n",
        "    <tr style=\"text-align: right;\">\n",
        "      <th></th>\n",
        "      <th>Names</th>\n",
        "      <th>Births</th>\n",
        "    </tr>\n",
        "  </thead>\n",
        "  <tbody>\n",
        "    <tr>\n",
        "      <th>4</th>\n",
        "      <td>     Mel</td>\n",
        "      <td> 973</td>\n",
        "    </tr>\n",
        "    <tr>\n",
        "      <th>0</th>\n",
        "      <td>     Bob</td>\n",
        "      <td> 968</td>\n",
        "    </tr>\n",
        "    <tr>\n",
        "      <th>3</th>\n",
        "      <td>    John</td>\n",
        "      <td> 578</td>\n",
        "    </tr>\n",
        "    <tr>\n",
        "      <th>1</th>\n",
        "      <td> Jessica</td>\n",
        "      <td> 155</td>\n",
        "    </tr>\n",
        "    <tr>\n",
        "      <th>2</th>\n",
        "      <td>    Mary</td>\n",
        "      <td>  77</td>\n",
        "    </tr>\n",
        "  </tbody>\n",
        "</table>\n",
        "<p>5 rows \u00d7 2 columns</p>\n",
        "</div>"
       ],
       "metadata": {},
       "output_type": "pyout",
       "prompt_number": 20,
       "text": [
        "     Names  Births\n",
        "4      Mel     973\n",
        "0      Bob     968\n",
        "3     John     578\n",
        "1  Jessica     155\n",
        "2     Mary      77\n",
        "\n",
        "[5 rows x 2 columns]"
       ]
      }
     ],
     "prompt_number": 20
    },
    {
     "cell_type": "code",
     "collapsed": false,
     "input": [
      "Sorted.head(3)"
     ],
     "language": "python",
     "metadata": {},
     "outputs": [
      {
       "html": [
        "<div style=\"max-height:1000px;max-width:1500px;overflow:auto;\">\n",
        "<table border=\"1\" class=\"dataframe\">\n",
        "  <thead>\n",
        "    <tr style=\"text-align: right;\">\n",
        "      <th></th>\n",
        "      <th>Names</th>\n",
        "      <th>Births</th>\n",
        "    </tr>\n",
        "  </thead>\n",
        "  <tbody>\n",
        "    <tr>\n",
        "      <th>4</th>\n",
        "      <td>  Mel</td>\n",
        "      <td> 973</td>\n",
        "    </tr>\n",
        "    <tr>\n",
        "      <th>0</th>\n",
        "      <td>  Bob</td>\n",
        "      <td> 968</td>\n",
        "    </tr>\n",
        "    <tr>\n",
        "      <th>3</th>\n",
        "      <td> John</td>\n",
        "      <td> 578</td>\n",
        "    </tr>\n",
        "  </tbody>\n",
        "</table>\n",
        "<p>3 rows \u00d7 2 columns</p>\n",
        "</div>"
       ],
       "metadata": {},
       "output_type": "pyout",
       "prompt_number": 22,
       "text": [
        "  Names  Births\n",
        "4   Mel     973\n",
        "0   Bob     968\n",
        "3  John     578\n",
        "\n",
        "[3 rows x 2 columns]"
       ]
      }
     ],
     "prompt_number": 22
    },
    {
     "cell_type": "code",
     "collapsed": false,
     "input": [
      "df['Births'].max()"
     ],
     "language": "python",
     "metadata": {},
     "outputs": [
      {
       "metadata": {},
       "output_type": "pyout",
       "prompt_number": 24,
       "text": [
        "973"
       ]
      }
     ],
     "prompt_number": 24
    },
    {
     "cell_type": "code",
     "collapsed": false,
     "input": [
      "[df['Births'] == df['Births'].max()] "
     ],
     "language": "python",
     "metadata": {},
     "outputs": [
      {
       "metadata": {},
       "output_type": "pyout",
       "prompt_number": 25,
       "text": [
        "[0    False\n",
        " 1    False\n",
        " 2    False\n",
        " 3    False\n",
        " 4     True\n",
        " Name: Births, dtype: bool]"
       ]
      }
     ],
     "prompt_number": 25
    },
    {
     "cell_type": "code",
     "collapsed": false,
     "input": [
      "df"
     ],
     "language": "python",
     "metadata": {},
     "outputs": [
      {
       "html": [
        "<div style=\"max-height:1000px;max-width:1500px;overflow:auto;\">\n",
        "<table border=\"1\" class=\"dataframe\">\n",
        "  <thead>\n",
        "    <tr style=\"text-align: right;\">\n",
        "      <th></th>\n",
        "      <th>Names</th>\n",
        "      <th>Births</th>\n",
        "    </tr>\n",
        "  </thead>\n",
        "  <tbody>\n",
        "    <tr>\n",
        "      <th>0</th>\n",
        "      <td>     Bob</td>\n",
        "      <td> 968</td>\n",
        "    </tr>\n",
        "    <tr>\n",
        "      <th>1</th>\n",
        "      <td> Jessica</td>\n",
        "      <td> 155</td>\n",
        "    </tr>\n",
        "    <tr>\n",
        "      <th>2</th>\n",
        "      <td>    Mary</td>\n",
        "      <td>  77</td>\n",
        "    </tr>\n",
        "    <tr>\n",
        "      <th>3</th>\n",
        "      <td>    John</td>\n",
        "      <td> 578</td>\n",
        "    </tr>\n",
        "    <tr>\n",
        "      <th>4</th>\n",
        "      <td>     Mel</td>\n",
        "      <td> 973</td>\n",
        "    </tr>\n",
        "  </tbody>\n",
        "</table>\n",
        "<p>5 rows \u00d7 2 columns</p>\n",
        "</div>"
       ],
       "metadata": {},
       "output_type": "pyout",
       "prompt_number": 26,
       "text": [
        "     Names  Births\n",
        "0      Bob     968\n",
        "1  Jessica     155\n",
        "2     Mary      77\n",
        "3     John     578\n",
        "4      Mel     973\n",
        "\n",
        "[5 rows x 2 columns]"
       ]
      }
     ],
     "prompt_number": 26
    },
    {
     "cell_type": "code",
     "collapsed": false,
     "input": [
      "df['Names'][df['Births'] == df['Births'].max()]"
     ],
     "language": "python",
     "metadata": {},
     "outputs": [
      {
       "metadata": {},
       "output_type": "pyout",
       "prompt_number": 27,
       "text": [
        "4    Mel\n",
        "Name: Names, dtype: object"
       ]
      }
     ],
     "prompt_number": 27
    },
    {
     "cell_type": "code",
     "collapsed": false,
     "input": [
      "df['Names']"
     ],
     "language": "python",
     "metadata": {},
     "outputs": [
      {
       "metadata": {},
       "output_type": "pyout",
       "prompt_number": 28,
       "text": [
        "0        Bob\n",
        "1    Jessica\n",
        "2       Mary\n",
        "3       John\n",
        "4        Mel\n",
        "Name: Names, dtype: object"
       ]
      }
     ],
     "prompt_number": 28
    },
    {
     "cell_type": "code",
     "collapsed": false,
     "input": [
      "Sorted['Names'].head(1)"
     ],
     "language": "python",
     "metadata": {},
     "outputs": [
      {
       "metadata": {},
       "output_type": "pyout",
       "prompt_number": 33,
       "text": [
        "4    Mel\n",
        "Name: Names, dtype: object"
       ]
      }
     ],
     "prompt_number": 33
    },
    {
     "cell_type": "code",
     "collapsed": false,
     "input": [
      "df['Births'].plot()\n",
      "MaxValue = df['Births'].max()\n",
      "# Name associated with the maximum value\n",
      "MaxName = df['Names'][df['Births'] == df['Births'].max()].values\n",
      "\n",
      "# Text to display on graph\n",
      "Text = str(MaxValue) + \" - \" + MaxName\n",
      "\n",
      "# Add text to graph\n",
      "plt.annotate(Text, xy=(1, MaxValue), xytext=(8, 0), \n",
      "                 xycoords=('axes fraction', 'data'), textcoords='offset points')\n",
      "\n",
      "print \"The most popular name\"\n",
      "df[df['Births'] == df['Births'].max()]\n",
      "#Sorted.head(1) can also be used\n",
      "\n",
      "df['Births'] == df['Births'].max()"
     ],
     "language": "python",
     "metadata": {},
     "outputs": [
      {
       "output_type": "stream",
       "stream": "stdout",
       "text": [
        "The most popular name\n"
       ]
      },
      {
       "metadata": {},
       "output_type": "pyout",
       "prompt_number": 42,
       "text": [
        "0    False\n",
        "1    False\n",
        "2    False\n",
        "3    False\n",
        "4     True\n",
        "Name: Births, dtype: bool"
       ]
      },
      {
       "metadata": {},
       "output_type": "display_data",
       "png": "[encoded data removed]",
       "text": [
        "<matplotlib.figure.Figure at 0x10b6f93d0>"
       ]
      }
     ],
     "prompt_number": 42
    },
    {
     "cell_type": "code",
     "collapsed": false,
     "input": [
      "# The inital set of baby names\n",
      "names = ['Bob','Jessica','Mary','John','Mel']"
     ],
     "language": "python",
     "metadata": {},
     "outputs": [],
     "prompt_number": 43
    },
    {
     "cell_type": "code",
     "collapsed": false,
     "input": [
      "random.seed(500)\n",
      "random_names = [names[random.randint(low=0,high=len(names))] for i in range(1000)]\n",
      "\n",
      "# Print first 10 records\n",
      "print random_names[:10]"
     ],
     "language": "python",
     "metadata": {},
     "outputs": [
      {
       "output_type": "stream",
       "stream": "stdout",
       "text": [
        "['Mary', 'Jessica', 'Jessica', 'Bob', 'Jessica', 'Jessica', 'Jessica', 'Mary', 'Mary', 'Mary']\n"
       ]
      }
     ],
     "prompt_number": 44
    },
    {
     "cell_type": "code",
     "collapsed": false,
     "input": [
      "births = [random.randint(low=0,high=1000) for i in range(1000)]\n",
      "print births[:10]"
     ],
     "language": "python",
     "metadata": {},
     "outputs": [
      {
       "output_type": "stream",
       "stream": "stdout",
       "text": [
        "[968, 155, 77, 578, 973, 124, 155, 403, 199, 191]\n"
       ]
      }
     ],
     "prompt_number": 45
    },
    {
     "cell_type": "code",
     "collapsed": false,
     "input": [
      "BabyDataSet = zip(random_names,births)\n",
      "print BabyDataSet[:10]"
     ],
     "language": "python",
     "metadata": {},
     "outputs": [
      {
       "output_type": "stream",
       "stream": "stdout",
       "text": [
        "[('Mary', 968), ('Jessica', 155), ('Jessica', 77), ('Bob', 578), ('Jessica', 973), ('Jessica', 124), ('Jessica', 155), ('Mary', 403), ('Mary', 199), ('Mary', 191)]\n"
       ]
      }
     ],
     "prompt_number": 46
    },
    {
     "cell_type": "code",
     "collapsed": false,
     "input": [
      "df = DataFrame(data = BabyDataSet, columns=['Names', 'Births'])\n",
      "df[:10]"
     ],
     "language": "python",
     "metadata": {},
     "outputs": [
      {
       "html": [
        "<div style=\"max-height:1000px;max-width:1500px;overflow:auto;\">\n",
        "<table border=\"1\" class=\"dataframe\">\n",
        "  <thead>\n",
        "    <tr style=\"text-align: right;\">\n",
        "      <th></th>\n",
        "      <th>Names</th>\n",
        "      <th>Births</th>\n",
        "    </tr>\n",
        "  </thead>\n",
        "  <tbody>\n",
        "    <tr>\n",
        "      <th>0</th>\n",
        "      <td>    Mary</td>\n",
        "      <td> 968</td>\n",
        "    </tr>\n",
        "    <tr>\n",
        "      <th>1</th>\n",
        "      <td> Jessica</td>\n",
        "      <td> 155</td>\n",
        "    </tr>\n",
        "    <tr>\n",
        "      <th>2</th>\n",
        "      <td> Jessica</td>\n",
        "      <td>  77</td>\n",
        "    </tr>\n",
        "    <tr>\n",
        "      <th>3</th>\n",
        "      <td>     Bob</td>\n",
        "      <td> 578</td>\n",
        "    </tr>\n",
        "    <tr>\n",
        "      <th>4</th>\n",
        "      <td> Jessica</td>\n",
        "      <td> 973</td>\n",
        "    </tr>\n",
        "    <tr>\n",
        "      <th>5</th>\n",
        "      <td> Jessica</td>\n",
        "      <td> 124</td>\n",
        "    </tr>\n",
        "    <tr>\n",
        "      <th>6</th>\n",
        "      <td> Jessica</td>\n",
        "      <td> 155</td>\n",
        "    </tr>\n",
        "    <tr>\n",
        "      <th>7</th>\n",
        "      <td>    Mary</td>\n",
        "      <td> 403</td>\n",
        "    </tr>\n",
        "    <tr>\n",
        "      <th>8</th>\n",
        "      <td>    Mary</td>\n",
        "      <td> 199</td>\n",
        "    </tr>\n",
        "    <tr>\n",
        "      <th>9</th>\n",
        "      <td>    Mary</td>\n",
        "      <td> 191</td>\n",
        "    </tr>\n",
        "  </tbody>\n",
        "</table>\n",
        "<p>10 rows \u00d7 2 columns</p>\n",
        "</div>"
       ],
       "metadata": {},
       "output_type": "pyout",
       "prompt_number": 47,
       "text": [
        "     Names  Births\n",
        "0     Mary     968\n",
        "1  Jessica     155\n",
        "2  Jessica      77\n",
        "3      Bob     578\n",
        "4  Jessica     973\n",
        "5  Jessica     124\n",
        "6  Jessica     155\n",
        "7     Mary     403\n",
        "8     Mary     199\n",
        "9     Mary     191\n",
        "\n",
        "[10 rows x 2 columns]"
       ]
      }
     ],
     "prompt_number": 47
    },
    {
     "cell_type": "code",
     "collapsed": false,
     "input": [
      "df.to_csv('births1880.txt',index=False,header=False)"
     ],
     "language": "python",
     "metadata": {},
     "outputs": [],
     "prompt_number": 48
    },
    {
     "cell_type": "code",
     "collapsed": false,
     "input": [
      "Location = './births1880.txt'"
     ],
     "language": "python",
     "metadata": {},
     "outputs": [],
     "prompt_number": 49
    },
    {
     "cell_type": "code",
     "collapsed": false,
     "input": [
      "df = read_csv(Location)"
     ],
     "language": "python",
     "metadata": {},
     "outputs": [],
     "prompt_number": 50
    },
    {
     "cell_type": "code",
     "collapsed": false,
     "input": [
      "df.info()"
     ],
     "language": "python",
     "metadata": {},
     "outputs": [
      {
       "output_type": "stream",
       "stream": "stdout",
       "text": [
        "<class 'pandas.core.frame.DataFrame'>\n",
        "Int64Index: 999 entries, 0 to 998\n",
        "Data columns (total 2 columns):\n",
        "Mary    999 non-null object\n",
        "968     999 non-null int64\n",
        "dtypes: int64(1), object(1)"
       ]
      }
     ],
     "prompt_number": 51
    },
    {
     "cell_type": "code",
     "collapsed": false,
     "input": [
      "df.head()"
     ],
     "language": "python",
     "metadata": {},
     "outputs": [
      {
       "html": [
        "<div style=\"max-height:1000px;max-width:1500px;overflow:auto;\">\n",
        "<table border=\"1\" class=\"dataframe\">\n",
        "  <thead>\n",
        "    <tr style=\"text-align: right;\">\n",
        "      <th></th>\n",
        "      <th>Mary</th>\n",
        "      <th>968</th>\n",
        "    </tr>\n",
        "  </thead>\n",
        "  <tbody>\n",
        "    <tr>\n",
        "      <th>0</th>\n",
        "      <td> Jessica</td>\n",
        "      <td> 155</td>\n",
        "    </tr>\n",
        "    <tr>\n",
        "      <th>1</th>\n",
        "      <td> Jessica</td>\n",
        "      <td>  77</td>\n",
        "    </tr>\n",
        "    <tr>\n",
        "      <th>2</th>\n",
        "      <td>     Bob</td>\n",
        "      <td> 578</td>\n",
        "    </tr>\n",
        "    <tr>\n",
        "      <th>3</th>\n",
        "      <td> Jessica</td>\n",
        "      <td> 973</td>\n",
        "    </tr>\n",
        "    <tr>\n",
        "      <th>4</th>\n",
        "      <td> Jessica</td>\n",
        "      <td> 124</td>\n",
        "    </tr>\n",
        "  </tbody>\n",
        "</table>\n",
        "<p>5 rows \u00d7 2 columns</p>\n",
        "</div>"
       ],
       "metadata": {},
       "output_type": "pyout",
       "prompt_number": 52,
       "text": [
        "      Mary  968\n",
        "0  Jessica  155\n",
        "1  Jessica   77\n",
        "2      Bob  578\n",
        "3  Jessica  973\n",
        "4  Jessica  124\n",
        "\n",
        "[5 rows x 2 columns]"
       ]
      }
     ],
     "prompt_number": 52
    },
    {
     "cell_type": "code",
     "collapsed": false,
     "input": [
      "df = read_csv(Location, header=None)\n",
      "df.info()"
     ],
     "language": "python",
     "metadata": {},
     "outputs": [
      {
       "output_type": "stream",
       "stream": "stdout",
       "text": [
        "<class 'pandas.core.frame.DataFrame'>\n",
        "Int64Index: 1000 entries, 0 to 999\n",
        "Data columns (total 2 columns):\n",
        "0    1000 non-null object\n",
        "1    1000 non-null int64\n",
        "dtypes: int64(1), object(1)"
       ]
      }
     ],
     "prompt_number": 53
    },
    {
     "cell_type": "code",
     "collapsed": false,
     "input": [
      "df.tail()"
     ],
     "language": "python",
     "metadata": {},
     "outputs": [
      {
       "html": [
        "<div style=\"max-height:1000px;max-width:1500px;overflow:auto;\">\n",
        "<table border=\"1\" class=\"dataframe\">\n",
        "  <thead>\n",
        "    <tr style=\"text-align: right;\">\n",
        "      <th></th>\n",
        "      <th>0</th>\n",
        "      <th>1</th>\n",
        "    </tr>\n",
        "  </thead>\n",
        "  <tbody>\n",
        "    <tr>\n",
        "      <th>995</th>\n",
        "      <td>    John</td>\n",
        "      <td> 151</td>\n",
        "    </tr>\n",
        "    <tr>\n",
        "      <th>996</th>\n",
        "      <td> Jessica</td>\n",
        "      <td> 511</td>\n",
        "    </tr>\n",
        "    <tr>\n",
        "      <th>997</th>\n",
        "      <td>    John</td>\n",
        "      <td> 756</td>\n",
        "    </tr>\n",
        "    <tr>\n",
        "      <th>998</th>\n",
        "      <td> Jessica</td>\n",
        "      <td> 294</td>\n",
        "    </tr>\n",
        "    <tr>\n",
        "      <th>999</th>\n",
        "      <td>    John</td>\n",
        "      <td> 152</td>\n",
        "    </tr>\n",
        "  </tbody>\n",
        "</table>\n",
        "<p>5 rows \u00d7 2 columns</p>\n",
        "</div>"
       ],
       "metadata": {},
       "output_type": "pyout",
       "prompt_number": 54,
       "text": [
        "           0    1\n",
        "995     John  151\n",
        "996  Jessica  511\n",
        "997     John  756\n",
        "998  Jessica  294\n",
        "999     John  152\n",
        "\n",
        "[5 rows x 2 columns]"
       ]
      }
     ],
     "prompt_number": 54
    },
    {
     "cell_type": "code",
     "collapsed": false,
     "input": [
      "df = read_csv(Location, names=['Names','Births'])\n",
      "df.head(5)"
     ],
     "language": "python",
     "metadata": {},
     "outputs": [
      {
       "html": [
        "<div style=\"max-height:1000px;max-width:1500px;overflow:auto;\">\n",
        "<table border=\"1\" class=\"dataframe\">\n",
        "  <thead>\n",
        "    <tr style=\"text-align: right;\">\n",
        "      <th></th>\n",
        "      <th>Names</th>\n",
        "      <th>Births</th>\n",
        "    </tr>\n",
        "  </thead>\n",
        "  <tbody>\n",
        "    <tr>\n",
        "      <th>0</th>\n",
        "      <td>    Mary</td>\n",
        "      <td> 968</td>\n",
        "    </tr>\n",
        "    <tr>\n",
        "      <th>1</th>\n",
        "      <td> Jessica</td>\n",
        "      <td> 155</td>\n",
        "    </tr>\n",
        "    <tr>\n",
        "      <th>2</th>\n",
        "      <td> Jessica</td>\n",
        "      <td>  77</td>\n",
        "    </tr>\n",
        "    <tr>\n",
        "      <th>3</th>\n",
        "      <td>     Bob</td>\n",
        "      <td> 578</td>\n",
        "    </tr>\n",
        "    <tr>\n",
        "      <th>4</th>\n",
        "      <td> Jessica</td>\n",
        "      <td> 973</td>\n",
        "    </tr>\n",
        "  </tbody>\n",
        "</table>\n",
        "<p>5 rows \u00d7 2 columns</p>\n",
        "</div>"
       ],
       "metadata": {},
       "output_type": "pyout",
       "prompt_number": 55,
       "text": [
        "     Names  Births\n",
        "0     Mary     968\n",
        "1  Jessica     155\n",
        "2  Jessica      77\n",
        "3      Bob     578\n",
        "4  Jessica     973\n",
        "\n",
        "[5 rows x 2 columns]"
       ]
      }
     ],
     "prompt_number": 55
    },
    {
     "cell_type": "code",
     "collapsed": false,
     "input": [
      "import os\n",
      "os.remove(Location)"
     ],
     "language": "python",
     "metadata": {},
     "outputs": [],
     "prompt_number": 56
    },
    {
     "cell_type": "code",
     "collapsed": false,
     "input": [
      "df['Names'].unique()"
     ],
     "language": "python",
     "metadata": {},
     "outputs": [
      {
       "metadata": {},
       "output_type": "pyout",
       "prompt_number": 57,
       "text": [
        "array(['Mary', 'Jessica', 'Bob', 'John', 'Mel'], dtype=object)"
       ]
      }
     ],
     "prompt_number": 57
    },
    {
     "cell_type": "code",
     "collapsed": false,
     "input": [
      "for x in df['Names'].unique():\n",
      "    print x"
     ],
     "language": "python",
     "metadata": {},
     "outputs": [
      {
       "output_type": "stream",
       "stream": "stdout",
       "text": [
        "Mary\n",
        "Jessica\n",
        "Bob\n",
        "John\n",
        "Mel\n"
       ]
      }
     ],
     "prompt_number": 58
    },
    {
     "cell_type": "code",
     "collapsed": false,
     "input": [
      "print df['Names'].describe()"
     ],
     "language": "python",
     "metadata": {},
     "outputs": [
      {
       "output_type": "stream",
       "stream": "stdout",
       "text": [
        "count     1000\n",
        "unique       5\n",
        "top        Bob\n",
        "freq       206\n",
        "Name: Names, dtype: object\n"
       ]
      }
     ],
     "prompt_number": 59
    },
    {
     "cell_type": "code",
     "collapsed": false,
     "input": [
      "Name = df.groupby('Names')"
     ],
     "language": "python",
     "metadata": {},
     "outputs": [],
     "prompt_number": 60
    },
    {
     "cell_type": "code",
     "collapsed": false,
     "input": [
      "Name"
     ],
     "language": "python",
     "metadata": {},
     "outputs": [
      {
       "metadata": {},
       "output_type": "pyout",
       "prompt_number": 61,
       "text": [
        "<pandas.core.groupby.DataFrameGroupBy object at 0x10b4bd490>"
       ]
      }
     ],
     "prompt_number": 61
    },
    {
     "cell_type": "code",
     "collapsed": false,
     "input": [
      "df = Name.sum()\n",
      "df"
     ],
     "language": "python",
     "metadata": {},
     "outputs": [
      {
       "html": [
        "<div style=\"max-height:1000px;max-width:1500px;overflow:auto;\">\n",
        "<table border=\"1\" class=\"dataframe\">\n",
        "  <thead>\n",
        "    <tr style=\"text-align: right;\">\n",
        "      <th></th>\n",
        "      <th>Births</th>\n",
        "    </tr>\n",
        "    <tr>\n",
        "      <th>Names</th>\n",
        "      <th></th>\n",
        "    </tr>\n",
        "  </thead>\n",
        "  <tbody>\n",
        "    <tr>\n",
        "      <th>Bob</th>\n",
        "      <td> 106817</td>\n",
        "    </tr>\n",
        "    <tr>\n",
        "      <th>Jessica</th>\n",
        "      <td>  97826</td>\n",
        "    </tr>\n",
        "    <tr>\n",
        "      <th>John</th>\n",
        "      <td>  90705</td>\n",
        "    </tr>\n",
        "    <tr>\n",
        "      <th>Mary</th>\n",
        "      <td>  99438</td>\n",
        "    </tr>\n",
        "    <tr>\n",
        "      <th>Mel</th>\n",
        "      <td> 102319</td>\n",
        "    </tr>\n",
        "  </tbody>\n",
        "</table>\n",
        "<p>5 rows \u00d7 1 columns</p>\n",
        "</div>"
       ],
       "metadata": {},
       "output_type": "pyout",
       "prompt_number": 62,
       "text": [
        "         Births\n",
        "Names          \n",
        "Bob      106817\n",
        "Jessica   97826\n",
        "John      90705\n",
        "Mary      99438\n",
        "Mel      102319\n",
        "\n",
        "[5 rows x 1 columns]"
       ]
      }
     ],
     "prompt_number": 62
    },
    {
     "cell_type": "code",
     "collapsed": false,
     "input": [
      "Sorted = df.sort(['Births'], ascending=[0])\n",
      " "
     ],
     "language": "python",
     "metadata": {},
     "outputs": [],
     "prompt_number": 63
    },
    {
     "cell_type": "code",
     "collapsed": false,
     "input": [
      "Sorted"
     ],
     "language": "python",
     "metadata": {},
     "outputs": [
      {
       "html": [
        "<div style=\"max-height:1000px;max-width:1500px;overflow:auto;\">\n",
        "<table border=\"1\" class=\"dataframe\">\n",
        "  <thead>\n",
        "    <tr style=\"text-align: right;\">\n",
        "      <th></th>\n",
        "      <th>Births</th>\n",
        "    </tr>\n",
        "    <tr>\n",
        "      <th>Names</th>\n",
        "      <th></th>\n",
        "    </tr>\n",
        "  </thead>\n",
        "  <tbody>\n",
        "    <tr>\n",
        "      <th>Bob</th>\n",
        "      <td> 106817</td>\n",
        "    </tr>\n",
        "    <tr>\n",
        "      <th>Mel</th>\n",
        "      <td> 102319</td>\n",
        "    </tr>\n",
        "    <tr>\n",
        "      <th>Mary</th>\n",
        "      <td>  99438</td>\n",
        "    </tr>\n",
        "    <tr>\n",
        "      <th>Jessica</th>\n",
        "      <td>  97826</td>\n",
        "    </tr>\n",
        "    <tr>\n",
        "      <th>John</th>\n",
        "      <td>  90705</td>\n",
        "    </tr>\n",
        "  </tbody>\n",
        "</table>\n",
        "<p>5 rows \u00d7 1 columns</p>\n",
        "</div>"
       ],
       "metadata": {},
       "output_type": "pyout",
       "prompt_number": 64,
       "text": [
        "         Births\n",
        "Names          \n",
        "Bob      106817\n",
        "Mel      102319\n",
        "Mary      99438\n",
        "Jessica   97826\n",
        "John      90705\n",
        "\n",
        "[5 rows x 1 columns]"
       ]
      }
     ],
     "prompt_number": 64
    },
    {
     "cell_type": "code",
     "collapsed": false,
     "input": [
      "# Create graph\n",
      "df['Births'].plot(kind='bar')\n",
      "\n",
      "print \"The most popular name\"\n",
      "df.sort(columns = 'Births', ascending = False)"
     ],
     "language": "python",
     "metadata": {},
     "outputs": [
      {
       "output_type": "stream",
       "stream": "stdout",
       "text": [
        "The most popular name\n"
       ]
      },
      {
       "html": [
        "<div style=\"max-height:1000px;max-width:1500px;overflow:auto;\">\n",
        "<table border=\"1\" class=\"dataframe\">\n",
        "  <thead>\n",
        "    <tr style=\"text-align: right;\">\n",
        "      <th></th>\n",
        "      <th>Births</th>\n",
        "    </tr>\n",
        "    <tr>\n",
        "      <th>Names</th>\n",
        "      <th></th>\n",
        "    </tr>\n",
        "  </thead>\n",
        "  <tbody>\n",
        "    <tr>\n",
        "      <th>Bob</th>\n",
        "      <td> 106817</td>\n",
        "    </tr>\n",
        "    <tr>\n",
        "      <th>Mel</th>\n",
        "      <td> 102319</td>\n",
        "    </tr>\n",
        "    <tr>\n",
        "      <th>Mary</th>\n",
        "      <td>  99438</td>\n",
        "    </tr>\n",
        "    <tr>\n",
        "      <th>Jessica</th>\n",
        "      <td>  97826</td>\n",
        "    </tr>\n",
        "    <tr>\n",
        "      <th>John</th>\n",
        "      <td>  90705</td>\n",
        "    </tr>\n",
        "  </tbody>\n",
        "</table>\n",
        "<p>5 rows \u00d7 1 columns</p>\n",
        "</div>"
       ],
       "metadata": {},
       "output_type": "pyout",
       "prompt_number": 65,
       "text": [
        "         Births\n",
        "Names          \n",
        "Bob      106817\n",
        "Mel      102319\n",
        "Mary      99438\n",
        "Jessica   97826\n",
        "John      90705\n",
        "\n",
        "[5 rows x 1 columns]"
       ]
      },
      {
       "metadata": {},
       "output_type": "display_data",
       "png": "[encoded data removed]",
       "text": [
        "<matplotlib.figure.Figure at 0x10b4b9fd0>"
       ]
      }
     ],
     "prompt_number": 65
    },
    {
     "cell_type": "code",
     "collapsed": false,
     "input": [
      "# set seed\n",
      "from pandas import DataFrame, date_range, read_excel, concat\n",
      "import numpy.random as np\n",
      "np.seed(111)\n",
      "\n",
      "# Function to generate test data\n",
      "def CreateDataSet(Number=1):\n",
      "    \n",
      "    Output = []\n",
      "    \n",
      "    for i in range(Number):\n",
      "        \n",
      "        # Create a weekly (mondays) date range\n",
      "        rng = date_range(start='1/1/2009', end='12/31/2012', freq='W-MON')\n",
      "        \n",
      "        # Create random data\n",
      "        data = np.randint(low=25,high=1000,size=len(rng))\n",
      "        \n",
      "        # Status pool\n",
      "        status = [1,2,3]\n",
      "        \n",
      "        # Make a random list of statuses\n",
      "        random_status = [status[np.randint(low=0,high=len(status))] for i in range(len(rng))]\n",
      "        \n",
      "        # State pool\n",
      "        states = ['GA','FL','fl','NY','NJ','TX']\n",
      "        \n",
      "        # Make a random list of states \n",
      "        random_states = [states[np.randint(low=0,high=len(states))] for i in range(len(rng))]\n",
      "    \n",
      "        Output.extend(zip(random_states, random_status, data, rng))\n",
      "        \n",
      "    return Output"
     ],
     "language": "python",
     "metadata": {},
     "outputs": [],
     "prompt_number": 72
    },
    {
     "cell_type": "code",
     "collapsed": false,
     "input": [
      "dataset = CreateDataSet(4)"
     ],
     "language": "python",
     "metadata": {},
     "outputs": [],
     "prompt_number": 73
    },
    {
     "cell_type": "code",
     "collapsed": false,
     "input": [
      "dataset"
     ],
     "language": "python",
     "metadata": {},
     "outputs": [
      {
       "metadata": {},
       "output_type": "pyout",
       "prompt_number": 74,
       "text": [
        "[('GA', 1, 877, Timestamp('2009-01-05 00:00:00', tz=None)),\n",
        " ('FL', 1, 901, Timestamp('2009-01-12 00:00:00', tz=None)),\n",
        " ('fl', 3, 749, Timestamp('2009-01-19 00:00:00', tz=None)),\n",
        " ('FL', 3, 111, Timestamp('2009-01-26 00:00:00', tz=None)),\n",
        " ('GA', 1, 300, Timestamp('2009-02-02 00:00:00', tz=None)),\n",
        " ('FL', 2, 706, Timestamp('2009-02-09 00:00:00', tz=None)),\n",
        " ('TX', 3, 347, Timestamp('2009-02-16 00:00:00', tz=None)),\n",
        " ('fl', 2, 143, Timestamp('2009-02-23 00:00:00', tz=None)),\n",
        " ('FL', 3, 833, Timestamp('2009-03-02 00:00:00', tz=None)),\n",
        " ('NY', 1, 992, Timestamp('2009-03-09 00:00:00', tz=None)),\n",
        " ('fl', 2, 978, Timestamp('2009-03-16 00:00:00', tz=None)),\n",
        " ('TX', 2, 32, Timestamp('2009-03-23 00:00:00', tz=None)),\n",
        " ('GA', 2, 293, Timestamp('2009-03-30 00:00:00', tz=None)),\n",
        " ('fl', 1, 291, Timestamp('2009-04-06 00:00:00', tz=None)),\n",
        " ('fl', 3, 474, Timestamp('2009-04-13 00:00:00', tz=None)),\n",
        " ('NJ', 2, 905, Timestamp('2009-04-20 00:00:00', tz=None)),\n",
        " ('NJ', 1, 753, Timestamp('2009-04-27 00:00:00', tz=None)),\n",
        " ('GA', 3, 309, Timestamp('2009-05-04 00:00:00', tz=None)),\n",
        " ('fl', 2, 295, Timestamp('2009-05-11 00:00:00', tz=None)),\n",
        " ('NY', 3, 443, Timestamp('2009-05-18 00:00:00', tz=None)),\n",
        " ('TX', 1, 46, Timestamp('2009-05-25 00:00:00', tz=None)),\n",
        " ('GA', 3, 591, Timestamp('2009-06-01 00:00:00', tz=None)),\n",
        " ('FL', 2, 737, Timestamp('2009-06-08 00:00:00', tz=None)),\n",
        " ('NJ', 3, 62, Timestamp('2009-06-15 00:00:00', tz=None)),\n",
        " ('GA', 3, 997, Timestamp('2009-06-22 00:00:00', tz=None)),\n",
        " ('GA', 3, 767, Timestamp('2009-06-29 00:00:00', tz=None)),\n",
        " ('fl', 1, 723, Timestamp('2009-07-06 00:00:00', tz=None)),\n",
        " ('fl', 2, 293, Timestamp('2009-07-13 00:00:00', tz=None)),\n",
        " ('FL', 1, 710, Timestamp('2009-07-20 00:00:00', tz=None)),\n",
        " ('NJ', 1, 990, Timestamp('2009-07-27 00:00:00', tz=None)),\n",
        " ('TX', 2, 359, Timestamp('2009-08-03 00:00:00', tz=None)),\n",
        " ('GA', 1, 568, Timestamp('2009-08-10 00:00:00', tz=None)),\n",
        " ('TX', 2, 369, Timestamp('2009-08-17 00:00:00', tz=None)),\n",
        " ('fl', 1, 991, Timestamp('2009-08-24 00:00:00', tz=None)),\n",
        " ('fl', 2, 550, Timestamp('2009-08-31 00:00:00', tz=None)),\n",
        " ('FL', 3, 587, Timestamp('2009-09-07 00:00:00', tz=None)),\n",
        " ('NJ', 1, 772, Timestamp('2009-09-14 00:00:00', tz=None)),\n",
        " ('fl', 1, 495, Timestamp('2009-09-21 00:00:00', tz=None)),\n",
        " ('NJ', 1, 349, Timestamp('2009-09-28 00:00:00', tz=None)),\n",
        " ('fl', 1, 508, Timestamp('2009-10-05 00:00:00', tz=None)),\n",
        " ('NY', 1, 694, Timestamp('2009-10-12 00:00:00', tz=None)),\n",
        " ('TX', 3, 768, Timestamp('2009-10-19 00:00:00', tz=None)),\n",
        " ('FL', 3, 930, Timestamp('2009-10-26 00:00:00', tz=None)),\n",
        " ('FL', 3, 195, Timestamp('2009-11-02 00:00:00', tz=None)),\n",
        " ('TX', 2, 940, Timestamp('2009-11-09 00:00:00', tz=None)),\n",
        " ('NJ', 2, 634, Timestamp('2009-11-16 00:00:00', tz=None)),\n",
        " ('NJ', 2, 959, Timestamp('2009-11-23 00:00:00', tz=None)),\n",
        " ('fl', 2, 596, Timestamp('2009-11-30 00:00:00', tz=None)),\n",
        " ('GA', 3, 881, Timestamp('2009-12-07 00:00:00', tz=None)),\n",
        " ('FL', 3, 510, Timestamp('2009-12-14 00:00:00', tz=None)),\n",
        " ('NJ', 3, 285, Timestamp('2009-12-21 00:00:00', tz=None)),\n",
        " ('fl', 3, 298, Timestamp('2009-12-28 00:00:00', tz=None)),\n",
        " ('FL', 1, 99, Timestamp('2010-01-04 00:00:00', tz=None)),\n",
        " ('NJ', 2, 164, Timestamp('2010-01-11 00:00:00', tz=None)),\n",
        " ('fl', 3, 714, Timestamp('2010-01-18 00:00:00', tz=None)),\n",
        " ('NY', 1, 640, Timestamp('2010-01-25 00:00:00', tz=None)),\n",
        " ('NY', 2, 881, Timestamp('2010-02-01 00:00:00', tz=None)),\n",
        " ('GA', 3, 404, Timestamp('2010-02-08 00:00:00', tz=None)),\n",
        " ('TX', 1, 148, Timestamp('2010-02-15 00:00:00', tz=None)),\n",
        " ('GA', 3, 256, Timestamp('2010-02-22 00:00:00', tz=None)),\n",
        " ('FL', 1, 871, Timestamp('2010-03-01 00:00:00', tz=None)),\n",
        " ('FL', 2, 757, Timestamp('2010-03-08 00:00:00', tz=None)),\n",
        " ('NJ', 3, 671, Timestamp('2010-03-15 00:00:00', tz=None)),\n",
        " ('fl', 3, 247, Timestamp('2010-03-22 00:00:00', tz=None)),\n",
        " ('NJ', 3, 454, Timestamp('2010-03-29 00:00:00', tz=None)),\n",
        " ('TX', 2, 212, Timestamp('2010-04-05 00:00:00', tz=None)),\n",
        " ('NJ', 1, 375, Timestamp('2010-04-12 00:00:00', tz=None)),\n",
        " ('fl', 2, 502, Timestamp('2010-04-19 00:00:00', tz=None)),\n",
        " ('NJ', 2, 536, Timestamp('2010-04-26 00:00:00', tz=None)),\n",
        " ('FL', 2, 225, Timestamp('2010-05-03 00:00:00', tz=None)),\n",
        " ('NY', 2, 756, Timestamp('2010-05-10 00:00:00', tz=None)),\n",
        " ('GA', 1, 89, Timestamp('2010-05-17 00:00:00', tz=None)),\n",
        " ('NY', 1, 538, Timestamp('2010-05-24 00:00:00', tz=None)),\n",
        " ('TX', 2, 162, Timestamp('2010-05-31 00:00:00', tz=None)),\n",
        " ('NY', 2, 421, Timestamp('2010-06-07 00:00:00', tz=None)),\n",
        " ('NJ', 3, 668, Timestamp('2010-06-14 00:00:00', tz=None)),\n",
        " ('fl', 3, 765, Timestamp('2010-06-21 00:00:00', tz=None)),\n",
        " ('TX', 2, 198, Timestamp('2010-06-28 00:00:00', tz=None)),\n",
        " ('GA', 2, 830, Timestamp('2010-07-05 00:00:00', tz=None)),\n",
        " ('fl', 2, 990, Timestamp('2010-07-12 00:00:00', tz=None)),\n",
        " ('TX', 1, 94, Timestamp('2010-07-19 00:00:00', tz=None)),\n",
        " ('NY', 1, 314, Timestamp('2010-07-26 00:00:00', tz=None)),\n",
        " ('NJ', 1, 261, Timestamp('2010-08-02 00:00:00', tz=None)),\n",
        " ('TX', 1, 185, Timestamp('2010-08-09 00:00:00', tz=None)),\n",
        " ('TX', 2, 160, Timestamp('2010-08-16 00:00:00', tz=None)),\n",
        " ('TX', 2, 763, Timestamp('2010-08-23 00:00:00', tz=None)),\n",
        " ('NJ', 1, 79, Timestamp('2010-08-30 00:00:00', tz=None)),\n",
        " ('NJ', 1, 708, Timestamp('2010-09-06 00:00:00', tz=None)),\n",
        " ('GA', 2, 615, Timestamp('2010-09-13 00:00:00', tz=None)),\n",
        " ('FL', 2, 642, Timestamp('2010-09-20 00:00:00', tz=None)),\n",
        " ('fl', 3, 480, Timestamp('2010-09-27 00:00:00', tz=None)),\n",
        " ('NY', 1, 843, Timestamp('2010-10-04 00:00:00', tz=None)),\n",
        " ('TX', 2, 87, Timestamp('2010-10-11 00:00:00', tz=None)),\n",
        " ('TX', 3, 100, Timestamp('2010-10-18 00:00:00', tz=None)),\n",
        " ('GA', 2, 321, Timestamp('2010-10-25 00:00:00', tz=None)),\n",
        " ('FL', 1, 451, Timestamp('2010-11-01 00:00:00', tz=None)),\n",
        " ('FL', 1, 75, Timestamp('2010-11-08 00:00:00', tz=None)),\n",
        " ('FL', 2, 116, Timestamp('2010-11-15 00:00:00', tz=None)),\n",
        " ('fl', 2, 739, Timestamp('2010-11-22 00:00:00', tz=None)),\n",
        " ('NY', 3, 67, Timestamp('2010-11-29 00:00:00', tz=None)),\n",
        " ('FL', 2, 705, Timestamp('2010-12-06 00:00:00', tz=None)),\n",
        " ('TX', 3, 453, Timestamp('2010-12-13 00:00:00', tz=None)),\n",
        " ('GA', 1, 402, Timestamp('2010-12-20 00:00:00', tz=None)),\n",
        " ('NY', 2, 202, Timestamp('2010-12-27 00:00:00', tz=None)),\n",
        " ('NY', 2, 308, Timestamp('2011-01-03 00:00:00', tz=None)),\n",
        " ('NJ', 3, 656, Timestamp('2011-01-10 00:00:00', tz=None)),\n",
        " ('NY', 3, 605, Timestamp('2011-01-17 00:00:00', tz=None)),\n",
        " ('TX', 2, 166, Timestamp('2011-01-24 00:00:00', tz=None)),\n",
        " ('FL', 2, 959, Timestamp('2011-01-31 00:00:00', tz=None)),\n",
        " ('NJ', 1, 588, Timestamp('2011-02-07 00:00:00', tz=None)),\n",
        " ('GA', 1, 533, Timestamp('2011-02-14 00:00:00', tz=None)),\n",
        " ('fl', 1, 130, Timestamp('2011-02-21 00:00:00', tz=None)),\n",
        " ('FL', 2, 882, Timestamp('2011-02-28 00:00:00', tz=None)),\n",
        " ('NJ', 1, 926, Timestamp('2011-03-07 00:00:00', tz=None)),\n",
        " ('TX', 1, 889, Timestamp('2011-03-14 00:00:00', tz=None)),\n",
        " ('fl', 1, 342, Timestamp('2011-03-21 00:00:00', tz=None)),\n",
        " ('NJ', 1, 198, Timestamp('2011-03-28 00:00:00', tz=None)),\n",
        " ('NY', 3, 329, Timestamp('2011-04-04 00:00:00', tz=None)),\n",
        " ('NJ', 2, 571, Timestamp('2011-04-11 00:00:00', tz=None)),\n",
        " ('NJ', 1, 894, Timestamp('2011-04-18 00:00:00', tz=None)),\n",
        " ('GA', 3, 342, Timestamp('2011-04-25 00:00:00', tz=None)),\n",
        " ('TX', 1, 887, Timestamp('2011-05-02 00:00:00', tz=None)),\n",
        " ('NJ', 3, 706, Timestamp('2011-05-09 00:00:00', tz=None)),\n",
        " ('NJ', 2, 825, Timestamp('2011-05-16 00:00:00', tz=None)),\n",
        " ('GA', 1, 491, Timestamp('2011-05-23 00:00:00', tz=None)),\n",
        " ('fl', 3, 416, Timestamp('2011-05-30 00:00:00', tz=None)),\n",
        " ('fl', 1, 388, Timestamp('2011-06-06 00:00:00', tz=None)),\n",
        " ('FL', 2, 798, Timestamp('2011-06-13 00:00:00', tz=None)),\n",
        " ('fl', 3, 515, Timestamp('2011-06-20 00:00:00', tz=None)),\n",
        " ('fl', 1, 135, Timestamp('2011-06-27 00:00:00', tz=None)),\n",
        " ('GA', 2, 941, Timestamp('2011-07-04 00:00:00', tz=None)),\n",
        " ('GA', 2, 544, Timestamp('2011-07-11 00:00:00', tz=None)),\n",
        " ('NY', 2, 536, Timestamp('2011-07-18 00:00:00', tz=None)),\n",
        " ('GA', 3, 924, Timestamp('2011-07-25 00:00:00', tz=None)),\n",
        " ('NY', 1, 244, Timestamp('2011-08-01 00:00:00', tz=None)),\n",
        " ('fl', 2, 513, Timestamp('2011-08-08 00:00:00', tz=None)),\n",
        " ('NY', 1, 148, Timestamp('2011-08-15 00:00:00', tz=None)),\n",
        " ('TX', 2, 327, Timestamp('2011-08-22 00:00:00', tz=None)),\n",
        " ('NY', 1, 890, Timestamp('2011-08-29 00:00:00', tz=None)),\n",
        " ('TX', 3, 329, Timestamp('2011-09-05 00:00:00', tz=None)),\n",
        " ('TX', 1, 955, Timestamp('2011-09-12 00:00:00', tz=None)),\n",
        " ('fl', 2, 138, Timestamp('2011-09-19 00:00:00', tz=None)),\n",
        " ('fl', 3, 181, Timestamp('2011-09-26 00:00:00', tz=None)),\n",
        " ('FL', 1, 491, Timestamp('2011-10-03 00:00:00', tz=None)),\n",
        " ('NY', 3, 737, Timestamp('2011-10-10 00:00:00', tz=None)),\n",
        " ('GA', 2, 742, Timestamp('2011-10-17 00:00:00', tz=None)),\n",
        " ('NJ', 3, 784, Timestamp('2011-10-24 00:00:00', tz=None)),\n",
        " ('fl', 1, 95, Timestamp('2011-10-31 00:00:00', tz=None)),\n",
        " ('fl', 1, 33, Timestamp('2011-11-07 00:00:00', tz=None)),\n",
        " ('NY', 2, 949, Timestamp('2011-11-14 00:00:00', tz=None)),\n",
        " ('FL', 3, 847, Timestamp('2011-11-21 00:00:00', tz=None)),\n",
        " ('NY', 3, 105, Timestamp('2011-11-28 00:00:00', tz=None)),\n",
        " ('NY', 1, 941, Timestamp('2011-12-05 00:00:00', tz=None)),\n",
        " ('fl', 1, 453, Timestamp('2011-12-12 00:00:00', tz=None)),\n",
        " ('GA', 1, 623, Timestamp('2011-12-19 00:00:00', tz=None)),\n",
        " ('GA', 2, 462, Timestamp('2011-12-26 00:00:00', tz=None)),\n",
        " ('TX', 1, 123, Timestamp('2012-01-02 00:00:00', tz=None)),\n",
        " ('TX', 1, 564, Timestamp('2012-01-09 00:00:00', tz=None)),\n",
        " ('NJ', 3, 530, Timestamp('2012-01-16 00:00:00', tz=None)),\n",
        " ('FL', 2, 85, Timestamp('2012-01-23 00:00:00', tz=None)),\n",
        " ('FL', 3, 883, Timestamp('2012-01-30 00:00:00', tz=None)),\n",
        " ('GA', 1, 724, Timestamp('2012-02-06 00:00:00', tz=None)),\n",
        " ('GA', 1, 56, Timestamp('2012-02-13 00:00:00', tz=None)),\n",
        " ('FL', 2, 784, Timestamp('2012-02-20 00:00:00', tz=None)),\n",
        " ('TX', 1, 957, Timestamp('2012-02-27 00:00:00', tz=None)),\n",
        " ('FL', 1, 888, Timestamp('2012-03-05 00:00:00', tz=None)),\n",
        " ('FL', 3, 109, Timestamp('2012-03-12 00:00:00', tz=None)),\n",
        " ('NY', 1, 91, Timestamp('2012-03-19 00:00:00', tz=None)),\n",
        " ('TX', 3, 999, Timestamp('2012-03-26 00:00:00', tz=None)),\n",
        " ('GA', 1, 375, Timestamp('2012-04-02 00:00:00', tz=None)),\n",
        " ('FL', 1, 318, Timestamp('2012-04-09 00:00:00', tz=None)),\n",
        " ('FL', 2, 899, Timestamp('2012-04-16 00:00:00', tz=None)),\n",
        " ('fl', 1, 852, Timestamp('2012-04-23 00:00:00', tz=None)),\n",
        " ('FL', 2, 257, Timestamp('2012-04-30 00:00:00', tz=None)),\n",
        " ('fl', 1, 710, Timestamp('2012-05-07 00:00:00', tz=None)),\n",
        " ('fl', 3, 782, Timestamp('2012-05-14 00:00:00', tz=None)),\n",
        " ('fl', 3, 585, Timestamp('2012-05-21 00:00:00', tz=None)),\n",
        " ('NY', 3, 616, Timestamp('2012-05-28 00:00:00', tz=None)),\n",
        " ('TX', 2, 370, Timestamp('2012-06-04 00:00:00', tz=None)),\n",
        " ('fl', 2, 128, Timestamp('2012-06-11 00:00:00', tz=None)),\n",
        " ('NY', 2, 687, Timestamp('2012-06-18 00:00:00', tz=None)),\n",
        " ('fl', 2, 291, Timestamp('2012-06-25 00:00:00', tz=None)),\n",
        " ('NJ', 1, 491, Timestamp('2012-07-02 00:00:00', tz=None)),\n",
        " ('fl', 3, 754, Timestamp('2012-07-09 00:00:00', tz=None)),\n",
        " ('GA', 1, 154, Timestamp('2012-07-16 00:00:00', tz=None)),\n",
        " ('TX', 3, 104, Timestamp('2012-07-23 00:00:00', tz=None)),\n",
        " ('NY', 1, 169, Timestamp('2012-07-30 00:00:00', tz=None)),\n",
        " ('fl', 2, 869, Timestamp('2012-08-06 00:00:00', tz=None)),\n",
        " ('TX', 2, 511, Timestamp('2012-08-13 00:00:00', tz=None)),\n",
        " ('NJ', 3, 708, Timestamp('2012-08-20 00:00:00', tz=None)),\n",
        " ('GA', 3, 163, Timestamp('2012-08-27 00:00:00', tz=None)),\n",
        " ('TX', 1, 89, Timestamp('2012-09-03 00:00:00', tz=None)),\n",
        " ('NY', 1, 747, Timestamp('2012-09-10 00:00:00', tz=None)),\n",
        " ('NJ', 2, 264, Timestamp('2012-09-17 00:00:00', tz=None)),\n",
        " ('FL', 1, 381, Timestamp('2012-09-24 00:00:00', tz=None)),\n",
        " ('FL', 2, 315, Timestamp('2012-10-01 00:00:00', tz=None)),\n",
        " ('fl', 2, 981, Timestamp('2012-10-08 00:00:00', tz=None)),\n",
        " ('fl', 2, 941, Timestamp('2012-10-15 00:00:00', tz=None)),\n",
        " ('NJ', 1, 203, Timestamp('2012-10-22 00:00:00', tz=None)),\n",
        " ('NJ', 3, 247, Timestamp('2012-10-29 00:00:00', tz=None)),\n",
        " ('GA', 3, 564, Timestamp('2012-11-05 00:00:00', tz=None)),\n",
        " ('NJ', 2, 875, Timestamp('2012-11-12 00:00:00', tz=None)),\n",
        " ('NJ', 3, 573, Timestamp('2012-11-19 00:00:00', tz=None)),\n",
        " ('NJ', 1, 748, Timestamp('2012-11-26 00:00:00', tz=None)),\n",
        " ('FL', 3, 222, Timestamp('2012-12-03 00:00:00', tz=None)),\n",
        " ('NJ', 1, 500, Timestamp('2012-12-10 00:00:00', tz=None)),\n",
        " ('NJ', 2, 595, Timestamp('2012-12-17 00:00:00', tz=None)),\n",
        " ('FL', 2, 969, Timestamp('2012-12-24 00:00:00', tz=None)),\n",
        " ('FL', 3, 888, Timestamp('2012-12-31 00:00:00', tz=None)),\n",
        " ('fl', 3, 122, Timestamp('2009-01-05 00:00:00', tz=None)),\n",
        " ('fl', 3, 955, Timestamp('2009-01-12 00:00:00', tz=None)),\n",
        " ('NY', 1, 522, Timestamp('2009-01-19 00:00:00', tz=None)),\n",
        " ('fl', 3, 436, Timestamp('2009-01-26 00:00:00', tz=None)),\n",
        " ('TX', 2, 398, Timestamp('2009-02-02 00:00:00', tz=None)),\n",
        " ('fl', 3, 263, Timestamp('2009-02-09 00:00:00', tz=None)),\n",
        " ('GA', 2, 458, Timestamp('2009-02-16 00:00:00', tz=None)),\n",
        " ('fl', 3, 434, Timestamp('2009-02-23 00:00:00', tz=None)),\n",
        " ('NY', 3, 941, Timestamp('2009-03-02 00:00:00', tz=None)),\n",
        " ('NJ', 3, 606, Timestamp('2009-03-09 00:00:00', tz=None)),\n",
        " ('NY', 1, 355, Timestamp('2009-03-16 00:00:00', tz=None)),\n",
        " ('GA', 1, 972, Timestamp('2009-03-23 00:00:00', tz=None)),\n",
        " ('NY', 2, 35, Timestamp('2009-03-30 00:00:00', tz=None)),\n",
        " ('fl', 3, 251, Timestamp('2009-04-06 00:00:00', tz=None)),\n",
        " ('fl', 3, 997, Timestamp('2009-04-13 00:00:00', tz=None)),\n",
        " ('NY', 1, 820, Timestamp('2009-04-20 00:00:00', tz=None)),\n",
        " ('NY', 1, 447, Timestamp('2009-04-27 00:00:00', tz=None)),\n",
        " ('TX', 2, 781, Timestamp('2009-05-04 00:00:00', tz=None)),\n",
        " ('NY', 1, 987, Timestamp('2009-05-11 00:00:00', tz=None)),\n",
        " ('TX', 1, 377, Timestamp('2009-05-18 00:00:00', tz=None)),\n",
        " ('NY', 1, 378, Timestamp('2009-05-25 00:00:00', tz=None)),\n",
        " ('GA', 2, 528, Timestamp('2009-06-01 00:00:00', tz=None)),\n",
        " ('TX', 1, 45, Timestamp('2009-06-08 00:00:00', tz=None)),\n",
        " ('FL', 3, 897, Timestamp('2009-06-15 00:00:00', tz=None)),\n",
        " ('TX', 1, 896, Timestamp('2009-06-22 00:00:00', tz=None)),\n",
        " ('FL', 3, 531, Timestamp('2009-06-29 00:00:00', tz=None)),\n",
        " ('NJ', 3, 270, Timestamp('2009-07-06 00:00:00', tz=None)),\n",
        " ('fl', 2, 75, Timestamp('2009-07-13 00:00:00', tz=None)),\n",
        " ('NJ', 3, 491, Timestamp('2009-07-20 00:00:00', tz=None)),\n",
        " ('NJ', 3, 705, Timestamp('2009-07-27 00:00:00', tz=None)),\n",
        " ('TX', 3, 670, Timestamp('2009-08-03 00:00:00', tz=None)),\n",
        " ('TX', 3, 563, Timestamp('2009-08-10 00:00:00', tz=None)),\n",
        " ('TX', 2, 341, Timestamp('2009-08-17 00:00:00', tz=None)),\n",
        " ('TX', 3, 840, Timestamp('2009-08-24 00:00:00', tz=None)),\n",
        " ('NJ', 1, 602, Timestamp('2009-08-31 00:00:00', tz=None)),\n",
        " ('FL', 1, 307, Timestamp('2009-09-07 00:00:00', tz=None)),\n",
        " ('TX', 2, 238, Timestamp('2009-09-14 00:00:00', tz=None)),\n",
        " ('GA', 3, 854, Timestamp('2009-09-21 00:00:00', tz=None)),\n",
        " ('fl', 1, 952, Timestamp('2009-09-28 00:00:00', tz=None)),\n",
        " ('FL', 1, 145, Timestamp('2009-10-05 00:00:00', tz=None)),\n",
        " ('NY', 3, 315, Timestamp('2009-10-12 00:00:00', tz=None)),\n",
        " ('TX', 3, 640, Timestamp('2009-10-19 00:00:00', tz=None)),\n",
        " ('GA', 1, 844, Timestamp('2009-10-26 00:00:00', tz=None)),\n",
        " ('NJ', 3, 752, Timestamp('2009-11-02 00:00:00', tz=None)),\n",
        " ('NJ', 3, 458, Timestamp('2009-11-09 00:00:00', tz=None)),\n",
        " ('GA', 2, 382, Timestamp('2009-11-16 00:00:00', tz=None)),\n",
        " ('GA', 2, 184, Timestamp('2009-11-23 00:00:00', tz=None)),\n",
        " ('GA', 1, 458, Timestamp('2009-11-30 00:00:00', tz=None)),\n",
        " ('GA', 3, 50, Timestamp('2009-12-07 00:00:00', tz=None)),\n",
        " ('fl', 3, 610, Timestamp('2009-12-14 00:00:00', tz=None)),\n",
        " ('NY', 2, 28, Timestamp('2009-12-21 00:00:00', tz=None)),\n",
        " ('FL', 3, 788, Timestamp('2009-12-28 00:00:00', tz=None)),\n",
        " ('NY', 3, 277, Timestamp('2010-01-04 00:00:00', tz=None)),\n",
        " ('fl', 1, 419, Timestamp('2010-01-11 00:00:00', tz=None)),\n",
        " ('GA', 1, 792, Timestamp('2010-01-18 00:00:00', tz=None)),\n",
        " ('NJ', 3, 493, Timestamp('2010-01-25 00:00:00', tz=None)),\n",
        " ('fl', 2, 739, Timestamp('2010-02-01 00:00:00', tz=None)),\n",
        " ('GA', 3, 365, Timestamp('2010-02-08 00:00:00', tz=None)),\n",
        " ('FL', 1, 758, Timestamp('2010-02-15 00:00:00', tz=None)),\n",
        " ('TX', 2, 537, Timestamp('2010-02-22 00:00:00', tz=None)),\n",
        " ('TX', 1, 414, Timestamp('2010-03-01 00:00:00', tz=None)),\n",
        " ('fl', 1, 154, Timestamp('2010-03-08 00:00:00', tz=None)),\n",
        " ('FL', 1, 32, Timestamp('2010-03-15 00:00:00', tz=None)),\n",
        " ('fl', 3, 221, Timestamp('2010-03-22 00:00:00', tz=None)),\n",
        " ('fl', 3, 685, Timestamp('2010-03-29 00:00:00', tz=None)),\n",
        " ('TX', 1, 654, Timestamp('2010-04-05 00:00:00', tz=None)),\n",
        " ('NJ', 2, 782, Timestamp('2010-04-12 00:00:00', tz=None)),\n",
        " ('TX', 3, 769, Timestamp('2010-04-19 00:00:00', tz=None)),\n",
        " ('fl', 1, 599, Timestamp('2010-04-26 00:00:00', tz=None)),\n",
        " ('FL', 3, 53, Timestamp('2010-05-03 00:00:00', tz=None)),\n",
        " ('TX', 2, 440, Timestamp('2010-05-10 00:00:00', tz=None)),\n",
        " ('GA', 1, 478, Timestamp('2010-05-17 00:00:00', tz=None)),\n",
        " ('FL', 2, 948, Timestamp('2010-05-24 00:00:00', tz=None)),\n",
        " ('TX', 1, 749, Timestamp('2010-05-31 00:00:00', tz=None)),\n",
        " ('TX', 3, 634, Timestamp('2010-06-07 00:00:00', tz=None)),\n",
        " ('NJ', 3, 896, Timestamp('2010-06-14 00:00:00', tz=None)),\n",
        " ('TX', 2, 811, Timestamp('2010-06-21 00:00:00', tz=None)),\n",
        " ('TX', 3, 620, Timestamp('2010-06-28 00:00:00', tz=None)),\n",
        " ('FL', 1, 784, Timestamp('2010-07-05 00:00:00', tz=None)),\n",
        " ('fl', 3, 475, Timestamp('2010-07-12 00:00:00', tz=None)),\n",
        " ('NJ', 3, 425, Timestamp('2010-07-19 00:00:00', tz=None)),\n",
        " ('FL', 1, 474, Timestamp('2010-07-26 00:00:00', tz=None)),\n",
        " ('TX', 2, 894, Timestamp('2010-08-02 00:00:00', tz=None)),\n",
        " ('fl', 2, 57, Timestamp('2010-08-09 00:00:00', tz=None)),\n",
        " ('fl', 3, 995, Timestamp('2010-08-16 00:00:00', tz=None)),\n",
        " ('FL', 2, 646, Timestamp('2010-08-23 00:00:00', tz=None)),\n",
        " ('NY', 2, 817, Timestamp('2010-08-30 00:00:00', tz=None)),\n",
        " ('GA', 1, 600, Timestamp('2010-09-06 00:00:00', tz=None)),\n",
        " ('fl', 2, 849, Timestamp('2010-09-13 00:00:00', tz=None)),\n",
        " ('fl', 1, 134, Timestamp('2010-09-20 00:00:00', tz=None)),\n",
        " ('NJ', 1, 307, Timestamp('2010-09-27 00:00:00', tz=None)),\n",
        " ('FL', 1, 273, Timestamp('2010-10-04 00:00:00', tz=None)),\n",
        " ('NY', 1, 629, Timestamp('2010-10-11 00:00:00', tz=None)),\n",
        " ('NJ', 1, 816, Timestamp('2010-10-18 00:00:00', tz=None)),\n",
        " ('FL', 2, 374, Timestamp('2010-10-25 00:00:00', tz=None)),\n",
        " ('GA', 1, 788, Timestamp('2010-11-01 00:00:00', tz=None)),\n",
        " ('fl', 1, 696, Timestamp('2010-11-08 00:00:00', tz=None)),\n",
        " ('GA', 3, 505, Timestamp('2010-11-15 00:00:00', tz=None)),\n",
        " ('FL', 3, 92, Timestamp('2010-11-22 00:00:00', tz=None)),\n",
        " ('NY', 2, 65, Timestamp('2010-11-29 00:00:00', tz=None)),\n",
        " ('GA', 3, 574, Timestamp('2010-12-06 00:00:00', tz=None)),\n",
        " ('fl', 2, 753, Timestamp('2010-12-13 00:00:00', tz=None)),\n",
        " ('FL', 1, 867, Timestamp('2010-12-20 00:00:00', tz=None)),\n",
        " ('fl', 2, 650, Timestamp('2010-12-27 00:00:00', tz=None)),\n",
        " ('NJ', 1, 51, Timestamp('2011-01-03 00:00:00', tz=None)),\n",
        " ('GA', 2, 269, Timestamp('2011-01-10 00:00:00', tz=None)),\n",
        " ('GA', 1, 240, Timestamp('2011-01-17 00:00:00', tz=None)),\n",
        " ('fl', 2, 402, Timestamp('2011-01-24 00:00:00', tz=None)),\n",
        " ('GA', 3, 412, Timestamp('2011-01-31 00:00:00', tz=None)),\n",
        " ('NY', 2, 370, Timestamp('2011-02-07 00:00:00', tz=None)),\n",
        " ('TX', 1, 289, Timestamp('2011-02-14 00:00:00', tz=None)),\n",
        " ('FL', 1, 376, Timestamp('2011-02-21 00:00:00', tz=None)),\n",
        " ('NY', 1, 336, Timestamp('2011-02-28 00:00:00', tz=None)),\n",
        " ('TX', 3, 425, Timestamp('2011-03-07 00:00:00', tz=None)),\n",
        " ('FL', 2, 162, Timestamp('2011-03-14 00:00:00', tz=None)),\n",
        " ('TX', 3, 930, Timestamp('2011-03-21 00:00:00', tz=None)),\n",
        " ('FL', 2, 431, Timestamp('2011-03-28 00:00:00', tz=None)),\n",
        " ('GA', 1, 54, Timestamp('2011-04-04 00:00:00', tz=None)),\n",
        " ('NY', 2, 427, Timestamp('2011-04-11 00:00:00', tz=None)),\n",
        " ('NY', 1, 973, Timestamp('2011-04-18 00:00:00', tz=None)),\n",
        " ('NJ', 2, 809, Timestamp('2011-04-25 00:00:00', tz=None)),\n",
        " ('TX', 3, 76, Timestamp('2011-05-02 00:00:00', tz=None)),\n",
        " ('fl', 2, 94, Timestamp('2011-05-09 00:00:00', tz=None)),\n",
        " ('FL', 1, 45, Timestamp('2011-05-16 00:00:00', tz=None)),\n",
        " ('FL', 1, 778, Timestamp('2011-05-23 00:00:00', tz=None)),\n",
        " ('TX', 3, 120, Timestamp('2011-05-30 00:00:00', tz=None)),\n",
        " ('GA', 3, 95, Timestamp('2011-06-06 00:00:00', tz=None)),\n",
        " ('TX', 3, 82, Timestamp('2011-06-13 00:00:00', tz=None)),\n",
        " ('fl', 1, 370, Timestamp('2011-06-20 00:00:00', tz=None)),\n",
        " ('NJ', 1, 688, Timestamp('2011-06-27 00:00:00', tz=None)),\n",
        " ('FL', 2, 86, Timestamp('2011-07-04 00:00:00', tz=None)),\n",
        " ('TX', 3, 665, Timestamp('2011-07-11 00:00:00', tz=None)),\n",
        " ('fl', 3, 340, Timestamp('2011-07-18 00:00:00', tz=None)),\n",
        " ('NY', 2, 417, Timestamp('2011-07-25 00:00:00', tz=None)),\n",
        " ('FL', 1, 397, Timestamp('2011-08-01 00:00:00', tz=None)),\n",
        " ('NY', 2, 823, Timestamp('2011-08-08 00:00:00', tz=None)),\n",
        " ('GA', 3, 196, Timestamp('2011-08-15 00:00:00', tz=None)),\n",
        " ('NY', 3, 856, Timestamp('2011-08-22 00:00:00', tz=None)),\n",
        " ('NJ', 1, 956, Timestamp('2011-08-29 00:00:00', tz=None)),\n",
        " ('NJ', 2, 92, Timestamp('2011-09-05 00:00:00', tz=None)),\n",
        " ('GA', 1, 310, Timestamp('2011-09-12 00:00:00', tz=None)),\n",
        " ('TX', 3, 766, Timestamp('2011-09-19 00:00:00', tz=None)),\n",
        " ('NY', 1, 140, Timestamp('2011-09-26 00:00:00', tz=None)),\n",
        " ('TX', 1, 346, Timestamp('2011-10-03 00:00:00', tz=None)),\n",
        " ('GA', 2, 68, Timestamp('2011-10-10 00:00:00', tz=None)),\n",
        " ('NJ', 2, 101, Timestamp('2011-10-17 00:00:00', tz=None)),\n",
        " ('GA', 3, 541, Timestamp('2011-10-24 00:00:00', tz=None)),\n",
        " ('fl', 3, 207, Timestamp('2011-10-31 00:00:00', tz=None)),\n",
        " ('TX', 1, 49, Timestamp('2011-11-07 00:00:00', tz=None)),\n",
        " ('NJ', 2, 633, Timestamp('2011-11-14 00:00:00', tz=None)),\n",
        " ('GA', 2, 885, Timestamp('2011-11-21 00:00:00', tz=None)),\n",
        " ('NY', 3, 671, Timestamp('2011-11-28 00:00:00', tz=None)),\n",
        " ('NJ', 3, 757, Timestamp('2011-12-05 00:00:00', tz=None)),\n",
        " ('TX', 3, 843, Timestamp('2011-12-12 00:00:00', tz=None)),\n",
        " ('NJ', 3, 530, Timestamp('2011-12-19 00:00:00', tz=None)),\n",
        " ('TX', 1, 175, Timestamp('2011-12-26 00:00:00', tz=None)),\n",
        " ('NY', 2, 732, Timestamp('2012-01-02 00:00:00', tz=None)),\n",
        " ('GA', 2, 375, Timestamp('2012-01-09 00:00:00', tz=None)),\n",
        " ('TX', 2, 303, Timestamp('2012-01-16 00:00:00', tz=None)),\n",
        " ('GA', 2, 765, Timestamp('2012-01-23 00:00:00', tz=None)),\n",
        " ('NY', 2, 98, Timestamp('2012-01-30 00:00:00', tz=None)),\n",
        " ('GA', 2, 962, Timestamp('2012-02-06 00:00:00', tz=None)),\n",
        " ('GA', 3, 76, Timestamp('2012-02-13 00:00:00', tz=None)),\n",
        " ('fl', 1, 260, Timestamp('2012-02-20 00:00:00', tz=None)),\n",
        " ('fl', 1, 328, Timestamp('2012-02-27 00:00:00', tz=None)),\n",
        " ('NY', 2, 584, Timestamp('2012-03-05 00:00:00', tz=None)),\n",
        " ('TX', 1, 217, Timestamp('2012-03-12 00:00:00', tz=None)),\n",
        " ('FL', 3, 534, Timestamp('2012-03-19 00:00:00', tz=None)),\n",
        " ('NJ', 3, 503, Timestamp('2012-03-26 00:00:00', tz=None)),\n",
        " ('NJ', 1, 971, Timestamp('2012-04-02 00:00:00', tz=None)),\n",
        " ('GA', 1, 979, Timestamp('2012-04-09 00:00:00', tz=None)),\n",
        " ('TX', 2, 797, Timestamp('2012-04-16 00:00:00', tz=None)),\n",
        " ('FL', 3, 870, Timestamp('2012-04-23 00:00:00', tz=None)),\n",
        " ('TX', 3, 669, Timestamp('2012-04-30 00:00:00', tz=None)),\n",
        " ('TX', 2, 507, Timestamp('2012-05-07 00:00:00', tz=None)),\n",
        " ('fl', 1, 368, Timestamp('2012-05-14 00:00:00', tz=None)),\n",
        " ('NY', 3, 606, Timestamp('2012-05-21 00:00:00', tz=None)),\n",
        " ('TX', 2, 806, Timestamp('2012-05-28 00:00:00', tz=None)),\n",
        " ('GA', 1, 321, Timestamp('2012-06-04 00:00:00', tz=None)),\n",
        " ('fl', 2, 958, Timestamp('2012-06-11 00:00:00', tz=None)),\n",
        " ('NY', 2, 726, Timestamp('2012-06-18 00:00:00', tz=None)),\n",
        " ('FL', 3, 676, Timestamp('2012-06-25 00:00:00', tz=None)),\n",
        " ('GA', 2, 479, Timestamp('2012-07-02 00:00:00', tz=None)),\n",
        " ('NY', 1, 461, Timestamp('2012-07-09 00:00:00', tz=None)),\n",
        " ('fl', 3, 294, Timestamp('2012-07-16 00:00:00', tz=None)),\n",
        " ('GA', 3, 224, Timestamp('2012-07-23 00:00:00', tz=None)),\n",
        " ('NJ', 3, 678, Timestamp('2012-07-30 00:00:00', tz=None)),\n",
        " ('NY', 3, 836, Timestamp('2012-08-06 00:00:00', tz=None)),\n",
        " ('fl', 2, 381, Timestamp('2012-08-13 00:00:00', tz=None)),\n",
        " ('FL', 1, 518, Timestamp('2012-08-20 00:00:00', tz=None)),\n",
        " ('NY', 2, 898, Timestamp('2012-08-27 00:00:00', tz=None)),\n",
        " ('NY', 1, 344, Timestamp('2012-09-03 00:00:00', tz=None)),\n",
        " ('NJ', 2, 204, Timestamp('2012-09-10 00:00:00', tz=None)),\n",
        " ('FL', 1, 304, Timestamp('2012-09-17 00:00:00', tz=None)),\n",
        " ('FL', 1, 968, Timestamp('2012-09-24 00:00:00', tz=None)),\n",
        " ('TX', 2, 466, Timestamp('2012-10-01 00:00:00', tz=None)),\n",
        " ('FL', 2, 276, Timestamp('2012-10-08 00:00:00', tz=None)),\n",
        " ('FL', 3, 257, Timestamp('2012-10-15 00:00:00', tz=None)),\n",
        " ('TX', 3, 544, Timestamp('2012-10-22 00:00:00', tz=None)),\n",
        " ('TX', 1, 183, Timestamp('2012-10-29 00:00:00', tz=None)),\n",
        " ('FL', 3, 569, Timestamp('2012-11-05 00:00:00', tz=None)),\n",
        " ('FL', 1, 963, Timestamp('2012-11-12 00:00:00', tz=None)),\n",
        " ('GA', 1, 136, Timestamp('2012-11-19 00:00:00', tz=None)),\n",
        " ('GA', 2, 973, Timestamp('2012-11-26 00:00:00', tz=None)),\n",
        " ('GA', 3, 355, Timestamp('2012-12-03 00:00:00', tz=None)),\n",
        " ('NY', 2, 809, Timestamp('2012-12-10 00:00:00', tz=None)),\n",
        " ('FL', 2, 82, Timestamp('2012-12-17 00:00:00', tz=None)),\n",
        " ('NY', 3, 850, Timestamp('2012-12-24 00:00:00', tz=None)),\n",
        " ('fl', 2, 334, Timestamp('2012-12-31 00:00:00', tz=None)),\n",
        " ('FL', 3, 638, Timestamp('2009-01-05 00:00:00', tz=None)),\n",
        " ('GA', 3, 813, Timestamp('2009-01-12 00:00:00', tz=None)),\n",
        " ('TX', 3, 771, Timestamp('2009-01-19 00:00:00', tz=None)),\n",
        " ('NJ', 2, 999, Timestamp('2009-01-26 00:00:00', tz=None)),\n",
        " ('fl', 1, 653, Timestamp('2009-02-02 00:00:00', tz=None)),\n",
        " ('NJ', 2, 500, Timestamp('2009-02-09 00:00:00', tz=None)),\n",
        " ('GA', 2, 221, Timestamp('2009-02-16 00:00:00', tz=None)),\n",
        " ('NJ', 1, 710, Timestamp('2009-02-23 00:00:00', tz=None)),\n",
        " ('NJ', 3, 728, Timestamp('2009-03-02 00:00:00', tz=None)),\n",
        " ('GA', 3, 759, Timestamp('2009-03-09 00:00:00', tz=None)),\n",
        " ('fl', 2, 744, Timestamp('2009-03-16 00:00:00', tz=None)),\n",
        " ('fl', 1, 752, Timestamp('2009-03-23 00:00:00', tz=None)),\n",
        " ('NJ', 1, 863, Timestamp('2009-03-30 00:00:00', tz=None)),\n",
        " ('GA', 3, 355, Timestamp('2009-04-06 00:00:00', tz=None)),\n",
        " ('TX', 2, 447, Timestamp('2009-04-13 00:00:00', tz=None)),\n",
        " ('GA', 2, 161, Timestamp('2009-04-20 00:00:00', tz=None)),\n",
        " ('NJ', 3, 497, Timestamp('2009-04-27 00:00:00', tz=None)),\n",
        " ('GA', 2, 54, Timestamp('2009-05-04 00:00:00', tz=None)),\n",
        " ('NY', 1, 580, Timestamp('2009-05-11 00:00:00', tz=None)),\n",
        " ('FL', 2, 695, Timestamp('2009-05-18 00:00:00', tz=None)),\n",
        " ('GA', 2, 562, Timestamp('2009-05-25 00:00:00', tz=None)),\n",
        " ('TX', 2, 484, Timestamp('2009-06-01 00:00:00', tz=None)),\n",
        " ('fl', 1, 649, Timestamp('2009-06-08 00:00:00', tz=None)),\n",
        " ('TX', 2, 163, Timestamp('2009-06-15 00:00:00', tz=None)),\n",
        " ('NY', 2, 898, Timestamp('2009-06-22 00:00:00', tz=None)),\n",
        " ('GA', 3, 545, Timestamp('2009-06-29 00:00:00', tz=None)),\n",
        " ('FL', 3, 237, Timestamp('2009-07-06 00:00:00', tz=None)),\n",
        " ('NJ', 2, 589, Timestamp('2009-07-13 00:00:00', tz=None)),\n",
        " ('NJ', 1, 509, Timestamp('2009-07-20 00:00:00', tz=None)),\n",
        " ('NY', 2, 116, Timestamp('2009-07-27 00:00:00', tz=None)),\n",
        " ('NJ', 3, 383, Timestamp('2009-08-03 00:00:00', tz=None)),\n",
        " ('fl', 1, 498, Timestamp('2009-08-10 00:00:00', tz=None)),\n",
        " ('GA', 1, 233, Timestamp('2009-08-17 00:00:00', tz=None)),\n",
        " ('FL', 1, 911, Timestamp('2009-08-24 00:00:00', tz=None)),\n",
        " ('TX', 2, 158, Timestamp('2009-08-31 00:00:00', tz=None)),\n",
        " ('fl', 3, 996, Timestamp('2009-09-07 00:00:00', tz=None)),\n",
        " ('GA', 1, 668, Timestamp('2009-09-14 00:00:00', tz=None)),\n",
        " ('NJ', 3, 166, Timestamp('2009-09-21 00:00:00', tz=None)),\n",
        " ('NJ', 3, 148, Timestamp('2009-09-28 00:00:00', tz=None)),\n",
        " ('TX', 2, 333, Timestamp('2009-10-05 00:00:00', tz=None)),\n",
        " ('NY', 1, 319, Timestamp('2009-10-12 00:00:00', tz=None)),\n",
        " ('TX', 3, 520, Timestamp('2009-10-19 00:00:00', tz=None)),\n",
        " ('TX', 3, 822, Timestamp('2009-10-26 00:00:00', tz=None)),\n",
        " ('fl', 1, 36, Timestamp('2009-11-02 00:00:00', tz=None)),\n",
        " ('GA', 3, 490, Timestamp('2009-11-09 00:00:00', tz=None)),\n",
        " ('NJ', 2, 561, Timestamp('2009-11-16 00:00:00', tz=None)),\n",
        " ('FL', 2, 195, Timestamp('2009-11-23 00:00:00', tz=None)),\n",
        " ('fl', 2, 472, Timestamp('2009-11-30 00:00:00', tz=None)),\n",
        " ('fl', 3, 581, Timestamp('2009-12-07 00:00:00', tz=None)),\n",
        " ('FL', 2, 48, Timestamp('2009-12-14 00:00:00', tz=None)),\n",
        " ('FL', 2, 666, Timestamp('2009-12-21 00:00:00', tz=None)),\n",
        " ('NJ', 3, 997, Timestamp('2009-12-28 00:00:00', tz=None)),\n",
        " ('NJ', 1, 323, Timestamp('2010-01-04 00:00:00', tz=None)),\n",
        " ('FL', 1, 573, Timestamp('2010-01-11 00:00:00', tz=None)),\n",
        " ('NY', 1, 988, Timestamp('2010-01-18 00:00:00', tz=None)),\n",
        " ('NJ', 3, 685, Timestamp('2010-01-25 00:00:00', tz=None)),\n",
        " ('TX', 2, 602, Timestamp('2010-02-01 00:00:00', tz=None)),\n",
        " ('GA', 2, 167, Timestamp('2010-02-08 00:00:00', tz=None)),\n",
        " ('GA', 2, 161, Timestamp('2010-02-15 00:00:00', tz=None)),\n",
        " ('fl', 1, 968, Timestamp('2010-02-22 00:00:00', tz=None)),\n",
        " ('GA', 1, 63, Timestamp('2010-03-01 00:00:00', tz=None)),\n",
        " ('NJ', 2, 524, Timestamp('2010-03-08 00:00:00', tz=None)),\n",
        " ('GA', 3, 988, Timestamp('2010-03-15 00:00:00', tz=None)),\n",
        " ('GA', 3, 485, Timestamp('2010-03-22 00:00:00', tz=None)),\n",
        " ('TX', 2, 203, Timestamp('2010-03-29 00:00:00', tz=None)),\n",
        " ('FL', 3, 225, Timestamp('2010-04-05 00:00:00', tz=None)),\n",
        " ('NJ', 3, 225, Timestamp('2010-04-12 00:00:00', tz=None)),\n",
        " ('NY', 3, 694, Timestamp('2010-04-19 00:00:00', tz=None)),\n",
        " ('NJ', 3, 893, Timestamp('2010-04-26 00:00:00', tz=None)),\n",
        " ('TX', 1, 951, Timestamp('2010-05-03 00:00:00', tz=None)),\n",
        " ('FL', 1, 30, Timestamp('2010-05-10 00:00:00', tz=None)),\n",
        " ('GA', 1, 215, Timestamp('2010-05-17 00:00:00', tz=None)),\n",
        " ('FL', 1, 881, Timestamp('2010-05-24 00:00:00', tz=None)),\n",
        " ('fl', 1, 665, Timestamp('2010-05-31 00:00:00', tz=None)),\n",
        " ('GA', 2, 556, Timestamp('2010-06-07 00:00:00', tz=None)),\n",
        " ('GA', 1, 374, Timestamp('2010-06-14 00:00:00', tz=None)),\n",
        " ('FL', 3, 59, Timestamp('2010-06-21 00:00:00', tz=None)),\n",
        " ('FL', 3, 365, Timestamp('2010-06-28 00:00:00', tz=None)),\n",
        " ('FL', 1, 816, Timestamp('2010-07-05 00:00:00', tz=None)),\n",
        " ('fl', 3, 198, Timestamp('2010-07-12 00:00:00', tz=None)),\n",
        " ('FL', 2, 277, Timestamp('2010-07-19 00:00:00', tz=None)),\n",
        " ('fl', 1, 920, Timestamp('2010-07-26 00:00:00', tz=None)),\n",
        " ('NY', 3, 287, Timestamp('2010-08-02 00:00:00', tz=None)),\n",
        " ('GA', 3, 186, Timestamp('2010-08-09 00:00:00', tz=None)),\n",
        " ('NY', 3, 356, Timestamp('2010-08-16 00:00:00', tz=None)),\n",
        " ('GA', 2, 170, Timestamp('2010-08-23 00:00:00', tz=None)),\n",
        " ('FL', 1, 360, Timestamp('2010-08-30 00:00:00', tz=None)),\n",
        " ('NJ', 3, 111, Timestamp('2010-09-06 00:00:00', tz=None)),\n",
        " ('FL', 1, 291, Timestamp('2010-09-13 00:00:00', tz=None)),\n",
        " ('NY', 2, 525, Timestamp('2010-09-20 00:00:00', tz=None)),\n",
        " ('NJ', 1, 126, Timestamp('2010-09-27 00:00:00', tz=None)),\n",
        " ('GA', 1, 800, Timestamp('2010-10-04 00:00:00', tz=None)),\n",
        " ('fl', 2, 618, Timestamp('2010-10-11 00:00:00', tz=None)),\n",
        " ('FL', 2, 947, Timestamp('2010-10-18 00:00:00', tz=None)),\n",
        " ('GA', 1, 685, Timestamp('2010-10-25 00:00:00', tz=None)),\n",
        " ('NY', 3, 765, Timestamp('2010-11-01 00:00:00', tz=None)),\n",
        " ('GA', 2, 62, Timestamp('2010-11-08 00:00:00', tz=None)),\n",
        " ('GA', 2, 946, Timestamp('2010-11-15 00:00:00', tz=None)),\n",
        " ('GA', 3, 904, Timestamp('2010-11-22 00:00:00', tz=None)),\n",
        " ('NY', 1, 160, Timestamp('2010-11-29 00:00:00', tz=None)),\n",
        " ('fl', 3, 886, Timestamp('2010-12-06 00:00:00', tz=None)),\n",
        " ('FL', 2, 740, Timestamp('2010-12-13 00:00:00', tz=None)),\n",
        " ('NY', 3, 76, Timestamp('2010-12-20 00:00:00', tz=None)),\n",
        " ('NY', 3, 265, Timestamp('2010-12-27 00:00:00', tz=None)),\n",
        " ('TX', 2, 299, Timestamp('2011-01-03 00:00:00', tz=None)),\n",
        " ('NJ', 1, 295, Timestamp('2011-01-10 00:00:00', tz=None)),\n",
        " ('NY', 1, 813, Timestamp('2011-01-17 00:00:00', tz=None)),\n",
        " ('fl', 3, 925, Timestamp('2011-01-24 00:00:00', tz=None)),\n",
        " ('GA', 3, 494, Timestamp('2011-01-31 00:00:00', tz=None)),\n",
        " ('NY', 2, 220, Timestamp('2011-02-07 00:00:00', tz=None)),\n",
        " ('FL', 3, 728, Timestamp('2011-02-14 00:00:00', tz=None)),\n",
        " ('TX', 2, 275, Timestamp('2011-02-21 00:00:00', tz=None)),\n",
        " ('GA', 3, 591, Timestamp('2011-02-28 00:00:00', tz=None)),\n",
        " ('GA', 3, 764, Timestamp('2011-03-07 00:00:00', tz=None)),\n",
        " ('GA', 2, 39, Timestamp('2011-03-14 00:00:00', tz=None)),\n",
        " ('NY', 2, 562, Timestamp('2011-03-21 00:00:00', tz=None)),\n",
        " ('TX', 2, 977, Timestamp('2011-03-28 00:00:00', tz=None)),\n",
        " ('NY', 1, 297, Timestamp('2011-04-04 00:00:00', tz=None)),\n",
        " ('TX', 3, 462, Timestamp('2011-04-11 00:00:00', tz=None)),\n",
        " ('TX', 3, 148, Timestamp('2011-04-18 00:00:00', tz=None)),\n",
        " ('NY', 2, 691, Timestamp('2011-04-25 00:00:00', tz=None)),\n",
        " ('NY', 1, 27, Timestamp('2011-05-02 00:00:00', tz=None)),\n",
        " ('GA', 1, 821, Timestamp('2011-05-09 00:00:00', tz=None)),\n",
        " ('FL', 1, 535, Timestamp('2011-05-16 00:00:00', tz=None)),\n",
        " ('NY', 2, 112, Timestamp('2011-05-23 00:00:00', tz=None)),\n",
        " ('NY', 3, 561, Timestamp('2011-05-30 00:00:00', tz=None)),\n",
        " ('FL', 2, 733, Timestamp('2011-06-06 00:00:00', tz=None)),\n",
        " ('TX', 2, 570, Timestamp('2011-06-13 00:00:00', tz=None)),\n",
        " ('fl', 3, 869, Timestamp('2011-06-20 00:00:00', tz=None)),\n",
        " ('fl', 2, 120, Timestamp('2011-06-27 00:00:00', tz=None)),\n",
        " ('TX', 2, 215, Timestamp('2011-07-04 00:00:00', tz=None)),\n",
        " ('fl', 1, 241, Timestamp('2011-07-11 00:00:00', tz=None)),\n",
        " ('FL', 2, 144, Timestamp('2011-07-18 00:00:00', tz=None)),\n",
        " ('FL', 1, 624, Timestamp('2011-07-25 00:00:00', tz=None)),\n",
        " ('fl', 3, 663, Timestamp('2011-08-01 00:00:00', tz=None)),\n",
        " ('NJ', 3, 481, Timestamp('2011-08-08 00:00:00', tz=None)),\n",
        " ('TX', 1, 271, Timestamp('2011-08-15 00:00:00', tz=None)),\n",
        " ('FL', 2, 707, Timestamp('2011-08-22 00:00:00', tz=None)),\n",
        " ('NY', 3, 202, Timestamp('2011-08-29 00:00:00', tz=None)),\n",
        " ('fl', 1, 552, Timestamp('2011-09-05 00:00:00', tz=None)),\n",
        " ('fl', 1, 107, Timestamp('2011-09-12 00:00:00', tz=None)),\n",
        " ('fl', 2, 190, Timestamp('2011-09-19 00:00:00', tz=None)),\n",
        " ('fl', 2, 97, Timestamp('2011-09-26 00:00:00', tz=None)),\n",
        " ('NJ', 2, 937, Timestamp('2011-10-03 00:00:00', tz=None)),\n",
        " ('NJ', 2, 662, Timestamp('2011-10-10 00:00:00', tz=None)),\n",
        " ('fl', 3, 589, Timestamp('2011-10-17 00:00:00', tz=None)),\n",
        " ('NY', 1, 259, Timestamp('2011-10-24 00:00:00', tz=None)),\n",
        " ('FL', 1, 997, Timestamp('2011-10-31 00:00:00', tz=None)),\n",
        " ('TX', 3, 290, Timestamp('2011-11-07 00:00:00', tz=None)),\n",
        " ('NY', 2, 346, Timestamp('2011-11-14 00:00:00', tz=None)),\n",
        " ('NJ', 2, 445, Timestamp('2011-11-21 00:00:00', tz=None)),\n",
        " ('NY', 3, 434, Timestamp('2011-11-28 00:00:00', tz=None)),\n",
        " ('NJ', 2, 553, Timestamp('2011-12-05 00:00:00', tz=None)),\n",
        " ('GA', 2, 131, Timestamp('2011-12-12 00:00:00', tz=None)),\n",
        " ('fl', 3, 375, Timestamp('2011-12-19 00:00:00', tz=None)),\n",
        " ('NY', 3, 499, Timestamp('2011-12-26 00:00:00', tz=None)),\n",
        " ('NY', 1, 577, Timestamp('2012-01-02 00:00:00', tz=None)),\n",
        " ('GA', 3, 812, Timestamp('2012-01-09 00:00:00', tz=None)),\n",
        " ('FL', 3, 153, Timestamp('2012-01-16 00:00:00', tz=None)),\n",
        " ('NJ', 3, 902, Timestamp('2012-01-23 00:00:00', tz=None)),\n",
        " ('TX', 2, 688, Timestamp('2012-01-30 00:00:00', tz=None)),\n",
        " ('FL', 1, 688, Timestamp('2012-02-06 00:00:00', tz=None)),\n",
        " ('FL', 1, 495, Timestamp('2012-02-13 00:00:00', tz=None)),\n",
        " ('GA', 1, 719, Timestamp('2012-02-20 00:00:00', tz=None)),\n",
        " ('NY', 3, 140, Timestamp('2012-02-27 00:00:00', tz=None)),\n",
        " ('fl', 2, 603, Timestamp('2012-03-05 00:00:00', tz=None)),\n",
        " ('NJ', 2, 170, Timestamp('2012-03-12 00:00:00', tz=None)),\n",
        " ('fl', 1, 423, Timestamp('2012-03-19 00:00:00', tz=None)),\n",
        " ('TX', 3, 778, Timestamp('2012-03-26 00:00:00', tz=None)),\n",
        " ('FL', 3, 47, Timestamp('2012-04-02 00:00:00', tz=None)),\n",
        " ('NY', 3, 725, Timestamp('2012-04-09 00:00:00', tz=None)),\n",
        " ('GA', 3, 504, Timestamp('2012-04-16 00:00:00', tz=None)),\n",
        " ('FL', 3, 643, Timestamp('2012-04-23 00:00:00', tz=None)),\n",
        " ('fl', 1, 623, Timestamp('2012-04-30 00:00:00', tz=None)),\n",
        " ('NY', 2, 540, Timestamp('2012-05-07 00:00:00', tz=None)),\n",
        " ('NJ', 2, 200, Timestamp('2012-05-14 00:00:00', tz=None)),\n",
        " ('NY', 3, 919, Timestamp('2012-05-21 00:00:00', tz=None)),\n",
        " ('NJ', 1, 555, Timestamp('2012-05-28 00:00:00', tz=None)),\n",
        " ('NY', 2, 873, Timestamp('2012-06-04 00:00:00', tz=None)),\n",
        " ('TX', 2, 408, Timestamp('2012-06-11 00:00:00', tz=None)),\n",
        " ('fl', 1, 595, Timestamp('2012-06-18 00:00:00', tz=None)),\n",
        " ('TX', 2, 948, Timestamp('2012-06-25 00:00:00', tz=None)),\n",
        " ('TX', 2, 29, Timestamp('2012-07-02 00:00:00', tz=None)),\n",
        " ('GA', 3, 515, Timestamp('2012-07-09 00:00:00', tz=None)),\n",
        " ('NJ', 1, 452, Timestamp('2012-07-16 00:00:00', tz=None)),\n",
        " ('TX', 2, 142, Timestamp('2012-07-23 00:00:00', tz=None)),\n",
        " ('NY', 1, 610, Timestamp('2012-07-30 00:00:00', tz=None)),\n",
        " ('TX', 3, 638, Timestamp('2012-08-06 00:00:00', tz=None)),\n",
        " ('NY', 2, 578, Timestamp('2012-08-13 00:00:00', tz=None)),\n",
        " ('GA', 3, 42, Timestamp('2012-08-20 00:00:00', tz=None)),\n",
        " ('TX', 1, 100, Timestamp('2012-08-27 00:00:00', tz=None)),\n",
        " ('NJ', 2, 555, Timestamp('2012-09-03 00:00:00', tz=None)),\n",
        " ('NY', 1, 65, Timestamp('2012-09-10 00:00:00', tz=None)),\n",
        " ('NJ', 3, 529, Timestamp('2012-09-17 00:00:00', tz=None)),\n",
        " ('NJ', 2, 693, Timestamp('2012-09-24 00:00:00', tz=None)),\n",
        " ('fl', 1, 895, Timestamp('2012-10-01 00:00:00', tz=None)),\n",
        " ('TX', 3, 129, Timestamp('2012-10-08 00:00:00', tz=None)),\n",
        " ('NY', 2, 810, Timestamp('2012-10-15 00:00:00', tz=None)),\n",
        " ('fl', 2, 980, Timestamp('2012-10-22 00:00:00', tz=None)),\n",
        " ('TX', 2, 133, Timestamp('2012-10-29 00:00:00', tz=None)),\n",
        " ('NY', 1, 162, Timestamp('2012-11-05 00:00:00', tz=None)),\n",
        " ('NJ', 3, 201, Timestamp('2012-11-12 00:00:00', tz=None)),\n",
        " ('NJ', 2, 962, Timestamp('2012-11-19 00:00:00', tz=None)),\n",
        " ('GA', 1, 367, Timestamp('2012-11-26 00:00:00', tz=None)),\n",
        " ('NY', 2, 833, Timestamp('2012-12-03 00:00:00', tz=None)),\n",
        " ('GA', 1, 769, Timestamp('2012-12-10 00:00:00', tz=None)),\n",
        " ('NJ', 3, 874, Timestamp('2012-12-17 00:00:00', tz=None)),\n",
        " ('GA', 3, 668, Timestamp('2012-12-24 00:00:00', tz=None)),\n",
        " ('FL', 3, 706, Timestamp('2012-12-31 00:00:00', tz=None)),\n",
        " ('NY', 2, 882, Timestamp('2009-01-05 00:00:00', tz=None)),\n",
        " ('FL', 3, 682, Timestamp('2009-01-12 00:00:00', tz=None)),\n",
        " ('fl', 3, 146, Timestamp('2009-01-19 00:00:00', tz=None)),\n",
        " ('GA', 2, 755, Timestamp('2009-01-26 00:00:00', tz=None)),\n",
        " ('fl', 3, 853, Timestamp('2009-02-02 00:00:00', tz=None)),\n",
        " ('TX', 2, 69, Timestamp('2009-02-09 00:00:00', tz=None)),\n",
        " ('GA', 2, 957, Timestamp('2009-02-16 00:00:00', tz=None)),\n",
        " ('GA', 3, 673, Timestamp('2009-02-23 00:00:00', tz=None)),\n",
        " ('NJ', 2, 385, Timestamp('2009-03-02 00:00:00', tz=None)),\n",
        " ('TX', 2, 570, Timestamp('2009-03-09 00:00:00', tz=None)),\n",
        " ('fl', 2, 990, Timestamp('2009-03-16 00:00:00', tz=None)),\n",
        " ('NJ', 1, 728, Timestamp('2009-03-23 00:00:00', tz=None)),\n",
        " ('fl', 2, 541, Timestamp('2009-03-30 00:00:00', tz=None)),\n",
        " ('FL', 1, 795, Timestamp('2009-04-06 00:00:00', tz=None)),\n",
        " ('NJ', 1, 520, Timestamp('2009-04-13 00:00:00', tz=None)),\n",
        " ('NJ', 1, 937, Timestamp('2009-04-20 00:00:00', tz=None)),\n",
        " ('TX', 2, 523, Timestamp('2009-04-27 00:00:00', tz=None)),\n",
        " ('NJ', 1, 497, Timestamp('2009-05-04 00:00:00', tz=None)),\n",
        " ('NJ', 2, 553, Timestamp('2009-05-11 00:00:00', tz=None)),\n",
        " ('GA', 3, 156, Timestamp('2009-05-18 00:00:00', tz=None)),\n",
        " ('GA', 2, 577, Timestamp('2009-05-25 00:00:00', tz=None)),\n",
        " ('fl', 3, 732, Timestamp('2009-06-01 00:00:00', tz=None)),\n",
        " ('GA', 3, 686, Timestamp('2009-06-08 00:00:00', tz=None)),\n",
        " ('NJ', 3, 842, Timestamp('2009-06-15 00:00:00', tz=None)),\n",
        " ('fl', 2, 63, Timestamp('2009-06-22 00:00:00', tz=None)),\n",
        " ('GA', 2, 471, Timestamp('2009-06-29 00:00:00', tz=None)),\n",
        " ('NY', 1, 506, Timestamp('2009-07-06 00:00:00', tz=None)),\n",
        " ('FL', 1, 727, Timestamp('2009-07-13 00:00:00', tz=None)),\n",
        " ('FL', 2, 607, Timestamp('2009-07-20 00:00:00', tz=None)),\n",
        " ('GA', 1, 717, Timestamp('2009-07-27 00:00:00', tz=None)),\n",
        " ('NJ', 2, 622, Timestamp('2009-08-03 00:00:00', tz=None)),\n",
        " ('TX', 3, 215, Timestamp('2009-08-10 00:00:00', tz=None)),\n",
        " ('NJ', 1, 413, Timestamp('2009-08-17 00:00:00', tz=None)),\n",
        " ('fl', 3, 330, Timestamp('2009-08-24 00:00:00', tz=None)),\n",
        " ('NJ', 3, 298, Timestamp('2009-08-31 00:00:00', tz=None)),\n",
        " ('GA', 1, 422, Timestamp('2009-09-07 00:00:00', tz=None)),\n",
        " ('fl', 1, 185, Timestamp('2009-09-14 00:00:00', tz=None)),\n",
        " ('NJ', 1, 219, Timestamp('2009-09-21 00:00:00', tz=None)),\n",
        " ('FL', 2, 564, Timestamp('2009-09-28 00:00:00', tz=None)),\n",
        " ('NY', 1, 432, Timestamp('2009-10-05 00:00:00', tz=None)),\n",
        " ('NY', 3, 860, Timestamp('2009-10-12 00:00:00', tz=None)),\n",
        " ('NJ', 1, 240, Timestamp('2009-10-19 00:00:00', tz=None)),\n",
        " ('GA', 2, 694, Timestamp('2009-10-26 00:00:00', tz=None)),\n",
        " ('fl', 2, 696, Timestamp('2009-11-02 00:00:00', tz=None)),\n",
        " ('fl', 3, 984, Timestamp('2009-11-09 00:00:00', tz=None)),\n",
        " ('NY', 3, 737, Timestamp('2009-11-16 00:00:00', tz=None)),\n",
        " ('NY', 1, 462, Timestamp('2009-11-23 00:00:00', tz=None)),\n",
        " ('GA', 3, 475, Timestamp('2009-11-30 00:00:00', tz=None)),\n",
        " ('FL', 1, 537, Timestamp('2009-12-07 00:00:00', tz=None)),\n",
        " ('NY', 1, 848, Timestamp('2009-12-14 00:00:00', tz=None)),\n",
        " ('FL', 3, 508, Timestamp('2009-12-21 00:00:00', tz=None)),\n",
        " ('GA', 3, 743, Timestamp('2009-12-28 00:00:00', tz=None)),\n",
        " ('NY', 3, 105, Timestamp('2010-01-04 00:00:00', tz=None)),\n",
        " ('NJ', 2, 195, Timestamp('2010-01-11 00:00:00', tz=None)),\n",
        " ('GA', 3, 291, Timestamp('2010-01-18 00:00:00', tz=None)),\n",
        " ('NY', 3, 125, Timestamp('2010-01-25 00:00:00', tz=None)),\n",
        " ('GA', 3, 273, Timestamp('2010-02-01 00:00:00', tz=None)),\n",
        " ('FL', 1, 564, Timestamp('2010-02-08 00:00:00', tz=None)),\n",
        " ('TX', 2, 147, Timestamp('2010-02-15 00:00:00', tz=None)),\n",
        " ('FL', 2, 996, Timestamp('2010-02-22 00:00:00', tz=None)),\n",
        " ('NY', 3, 914, Timestamp('2010-03-01 00:00:00', tz=None)),\n",
        " ('FL', 2, 199, Timestamp('2010-03-08 00:00:00', tz=None)),\n",
        " ('GA', 2, 516, Timestamp('2010-03-15 00:00:00', tz=None)),\n",
        " ('GA', 2, 979, Timestamp('2010-03-22 00:00:00', tz=None)),\n",
        " ('NY', 3, 667, Timestamp('2010-03-29 00:00:00', tz=None)),\n",
        " ('GA', 1, 205, Timestamp('2010-04-05 00:00:00', tz=None)),\n",
        " ('NY', 1, 218, Timestamp('2010-04-12 00:00:00', tz=None)),\n",
        " ('fl', 2, 201, Timestamp('2010-04-19 00:00:00', tz=None)),\n",
        " ('NJ', 2, 853, Timestamp('2010-04-26 00:00:00', tz=None)),\n",
        " ('GA', 3, 768, Timestamp('2010-05-03 00:00:00', tz=None)),\n",
        " ('TX', 3, 110, Timestamp('2010-05-10 00:00:00', tz=None)),\n",
        " ('TX', 2, 238, Timestamp('2010-05-17 00:00:00', tz=None)),\n",
        " ('fl', 3, 965, Timestamp('2010-05-24 00:00:00', tz=None)),\n",
        " ('GA', 3, 408, Timestamp('2010-05-31 00:00:00', tz=None)),\n",
        " ('FL', 2, 602, Timestamp('2010-06-07 00:00:00', tz=None)),\n",
        " ('NY', 2, 586, Timestamp('2010-06-14 00:00:00', tz=None)),\n",
        " ('FL', 3, 678, Timestamp('2010-06-21 00:00:00', tz=None)),\n",
        " ('fl', 1, 847, Timestamp('2010-06-28 00:00:00', tz=None)),\n",
        " ('FL', 3, 676, Timestamp('2010-07-05 00:00:00', tz=None)),\n",
        " ('GA', 3, 200, Timestamp('2010-07-12 00:00:00', tz=None)),\n",
        " ('NY', 1, 153, Timestamp('2010-07-19 00:00:00', tz=None)),\n",
        " ('GA', 2, 746, Timestamp('2010-07-26 00:00:00', tz=None)),\n",
        " ('GA', 2, 738, Timestamp('2010-08-02 00:00:00', tz=None)),\n",
        " ('fl', 3, 635, Timestamp('2010-08-09 00:00:00', tz=None)),\n",
        " ('TX', 1, 547, Timestamp('2010-08-16 00:00:00', tz=None)),\n",
        " ('NJ', 3, 321, Timestamp('2010-08-23 00:00:00', tz=None)),\n",
        " ('GA', 1, 823, Timestamp('2010-08-30 00:00:00', tz=None)),\n",
        " ('TX', 3, 522, Timestamp('2010-09-06 00:00:00', tz=None)),\n",
        " ('TX', 1, 787, Timestamp('2010-09-13 00:00:00', tz=None)),\n",
        " ('GA', 1, 191, Timestamp('2010-09-20 00:00:00', tz=None)),\n",
        " ('fl', 1, 753, Timestamp('2010-09-27 00:00:00', tz=None)),\n",
        " ('fl', 3, 836, Timestamp('2010-10-04 00:00:00', tz=None)),\n",
        " ('FL', 1, 800, Timestamp('2010-10-11 00:00:00', tz=None)),\n",
        " ('GA', 1, 722, Timestamp('2010-10-18 00:00:00', tz=None)),\n",
        " ('NY', 2, 199, Timestamp('2010-10-25 00:00:00', tz=None)),\n",
        " ('NJ', 1, 826, Timestamp('2010-11-01 00:00:00', tz=None)),\n",
        " ('TX', 2, 151, Timestamp('2010-11-08 00:00:00', tz=None)),\n",
        " ('FL', 1, 336, Timestamp('2010-11-15 00:00:00', tz=None)),\n",
        " ('FL', 2, 81, Timestamp('2010-11-22 00:00:00', tz=None)),\n",
        " ('fl', 1, 366, Timestamp('2010-11-29 00:00:00', tz=None)),\n",
        " ('FL', 2, 51, Timestamp('2010-12-06 00:00:00', tz=None)),\n",
        " ('FL', 3, 950, Timestamp('2010-12-13 00:00:00', tz=None)),\n",
        " ('TX', 2, 504, Timestamp('2010-12-20 00:00:00', tz=None)),\n",
        " ('FL', 3, 51, Timestamp('2010-12-27 00:00:00', tz=None)),\n",
        " ('NY', 3, 921, Timestamp('2011-01-03 00:00:00', tz=None)),\n",
        " ('fl', 2, 582, Timestamp('2011-01-10 00:00:00', tz=None)),\n",
        " ('GA', 3, 988, Timestamp('2011-01-17 00:00:00', tz=None)),\n",
        " ('fl', 2, 108, Timestamp('2011-01-24 00:00:00', tz=None)),\n",
        " ('TX', 3, 504, Timestamp('2011-01-31 00:00:00', tz=None)),\n",
        " ('GA', 1, 371, Timestamp('2011-02-07 00:00:00', tz=None)),\n",
        " ('TX', 3, 66, Timestamp('2011-02-14 00:00:00', tz=None)),\n",
        " ('GA', 1, 699, Timestamp('2011-02-21 00:00:00', tz=None)),\n",
        " ('NJ', 3, 975, Timestamp('2011-02-28 00:00:00', tz=None)),\n",
        " ('FL', 2, 880, Timestamp('2011-03-07 00:00:00', tz=None)),\n",
        " ('FL', 1, 333, Timestamp('2011-03-14 00:00:00', tz=None)),\n",
        " ('GA', 2, 703, Timestamp('2011-03-21 00:00:00', tz=None)),\n",
        " ('NJ', 3, 409, Timestamp('2011-03-28 00:00:00', tz=None)),\n",
        " ('fl', 3, 451, Timestamp('2011-04-04 00:00:00', tz=None)),\n",
        " ('fl', 2, 71, Timestamp('2011-04-11 00:00:00', tz=None)),\n",
        " ('FL', 1, 398, Timestamp('2011-04-18 00:00:00', tz=None)),\n",
        " ('GA', 1, 910, Timestamp('2011-04-25 00:00:00', tz=None)),\n",
        " ('GA', 3, 659, Timestamp('2011-05-02 00:00:00', tz=None)),\n",
        " ('TX', 2, 691, Timestamp('2011-05-09 00:00:00', tz=None)),\n",
        " ('NJ', 2, 174, Timestamp('2011-05-16 00:00:00', tz=None)),\n",
        " ('GA', 3, 872, Timestamp('2011-05-23 00:00:00', tz=None)),\n",
        " ('TX', 1, 126, Timestamp('2011-05-30 00:00:00', tz=None)),\n",
        " ('TX', 2, 579, Timestamp('2011-06-06 00:00:00', tz=None)),\n",
        " ('GA', 2, 797, Timestamp('2011-06-13 00:00:00', tz=None)),\n",
        " ('TX', 3, 401, Timestamp('2011-06-20 00:00:00', tz=None)),\n",
        " ('FL', 3, 125, Timestamp('2011-06-27 00:00:00', tz=None)),\n",
        " ('NJ', 1, 998, Timestamp('2011-07-04 00:00:00', tz=None)),\n",
        " ('NJ', 1, 878, Timestamp('2011-07-11 00:00:00', tz=None)),\n",
        " ('FL', 3, 306, Timestamp('2011-07-18 00:00:00', tz=None)),\n",
        " ('NY', 2, 462, Timestamp('2011-07-25 00:00:00', tz=None)),\n",
        " ('NJ', 3, 746, Timestamp('2011-08-01 00:00:00', tz=None)),\n",
        " ('GA', 1, 223, Timestamp('2011-08-08 00:00:00', tz=None)),\n",
        " ('NJ', 1, 730, Timestamp('2011-08-15 00:00:00', tz=None)),\n",
        " ('GA', 3, 626, Timestamp('2011-08-22 00:00:00', tz=None)),\n",
        " ('FL', 1, 865, Timestamp('2011-08-29 00:00:00', tz=None)),\n",
        " ('TX', 2, 41, Timestamp('2011-09-05 00:00:00', tz=None)),\n",
        " ('NJ', 2, 909, Timestamp('2011-09-12 00:00:00', tz=None)),\n",
        " ('fl', 3, 187, Timestamp('2011-09-19 00:00:00', tz=None)),\n",
        " ('NJ', 3, 825, Timestamp('2011-09-26 00:00:00', tz=None)),\n",
        " ('FL', 1, 742, Timestamp('2011-10-03 00:00:00', tz=None)),\n",
        " ('FL', 3, 348, Timestamp('2011-10-10 00:00:00', tz=None)),\n",
        " ('FL', 3, 214, Timestamp('2011-10-17 00:00:00', tz=None)),\n",
        " ('TX', 2, 47, Timestamp('2011-10-24 00:00:00', tz=None)),\n",
        " ('FL', 2, 667, Timestamp('2011-10-31 00:00:00', tz=None)),\n",
        " ('NY', 3, 455, Timestamp('2011-11-07 00:00:00', tz=None)),\n",
        " ('NY', 1, 747, Timestamp('2011-11-14 00:00:00', tz=None)),\n",
        " ('FL', 2, 141, Timestamp('2011-11-21 00:00:00', tz=None)),\n",
        " ('fl', 1, 142, Timestamp('2011-11-28 00:00:00', tz=None)),\n",
        " ('FL', 1, 606, Timestamp('2011-12-05 00:00:00', tz=None)),\n",
        " ('NJ', 2, 549, Timestamp('2011-12-12 00:00:00', tz=None)),\n",
        " ('FL', 2, 279, Timestamp('2011-12-19 00:00:00', tz=None)),\n",
        " ('FL', 3, 225, Timestamp('2011-12-26 00:00:00', tz=None)),\n",
        " ('NJ', 1, 784, Timestamp('2012-01-02 00:00:00', tz=None)),\n",
        " ('NJ', 3, 510, Timestamp('2012-01-09 00:00:00', tz=None)),\n",
        " ('GA', 1, 240, Timestamp('2012-01-16 00:00:00', tz=None)),\n",
        " ('fl', 2, 211, Timestamp('2012-01-23 00:00:00', tz=None)),\n",
        " ('GA', 2, 973, Timestamp('2012-01-30 00:00:00', tz=None)),\n",
        " ('NJ', 1, 649, Timestamp('2012-02-06 00:00:00', tz=None)),\n",
        " ('NJ', 2, 743, Timestamp('2012-02-13 00:00:00', tz=None)),\n",
        " ('NJ', 3, 669, Timestamp('2012-02-20 00:00:00', tz=None)),\n",
        " ('fl', 3, 360, Timestamp('2012-02-27 00:00:00', tz=None)),\n",
        " ('NJ', 1, 433, Timestamp('2012-03-05 00:00:00', tz=None)),\n",
        " ('NJ', 1, 858, Timestamp('2012-03-12 00:00:00', tz=None)),\n",
        " ('NY', 1, 607, Timestamp('2012-03-19 00:00:00', tz=None)),\n",
        " ('fl', 2, 904, Timestamp('2012-03-26 00:00:00', tz=None)),\n",
        " ('TX', 3, 175, Timestamp('2012-04-02 00:00:00', tz=None)),\n",
        " ('TX', 2, 513, Timestamp('2012-04-09 00:00:00', tz=None)),\n",
        " ('NJ', 3, 486, Timestamp('2012-04-16 00:00:00', tz=None)),\n",
        " ('TX', 1, 516, Timestamp('2012-04-23 00:00:00', tz=None)),\n",
        " ('TX', 1, 471, Timestamp('2012-04-30 00:00:00', tz=None)),\n",
        " ('FL', 1, 670, Timestamp('2012-05-07 00:00:00', tz=None)),\n",
        " ('FL', 3, 500, Timestamp('2012-05-14 00:00:00', tz=None)),\n",
        " ('NY', 3, 457, Timestamp('2012-05-21 00:00:00', tz=None)),\n",
        " ('TX', 2, 789, Timestamp('2012-05-28 00:00:00', tz=None)),\n",
        " ('NY', 1, 410, Timestamp('2012-06-04 00:00:00', tz=None)),\n",
        " ('FL', 3, 100, Timestamp('2012-06-11 00:00:00', tz=None)),\n",
        " ('fl', 1, 669, Timestamp('2012-06-18 00:00:00', tz=None)),\n",
        " ('fl', 2, 348, Timestamp('2012-06-25 00:00:00', tz=None)),\n",
        " ('fl', 3, 336, Timestamp('2012-07-02 00:00:00', tz=None)),\n",
        " ('NJ', 3, 393, Timestamp('2012-07-09 00:00:00', tz=None)),\n",
        " ('FL', 3, 210, Timestamp('2012-07-16 00:00:00', tz=None)),\n",
        " ('FL', 3, 363, Timestamp('2012-07-23 00:00:00', tz=None)),\n",
        " ('fl', 3, 995, Timestamp('2012-07-30 00:00:00', tz=None)),\n",
        " ('TX', 1, 178, Timestamp('2012-08-06 00:00:00', tz=None)),\n",
        " ('NJ', 3, 26, Timestamp('2012-08-13 00:00:00', tz=None)),\n",
        " ('TX', 1, 248, Timestamp('2012-08-20 00:00:00', tz=None)),\n",
        " ('NY', 2, 74, Timestamp('2012-08-27 00:00:00', tz=None)),\n",
        " ('FL', 3, 46, Timestamp('2012-09-03 00:00:00', tz=None)),\n",
        " ('fl', 3, 920, Timestamp('2012-09-10 00:00:00', tz=None)),\n",
        " ('NJ', 2, 623, Timestamp('2012-09-17 00:00:00', tz=None)),\n",
        " ('TX', 3, 784, Timestamp('2012-09-24 00:00:00', tz=None)),\n",
        " ('fl', 3, 924, Timestamp('2012-10-01 00:00:00', tz=None)),\n",
        " ('fl', 1, 716, Timestamp('2012-10-08 00:00:00', tz=None)),\n",
        " ('fl', 3, 428, Timestamp('2012-10-15 00:00:00', tz=None)),\n",
        " ('NJ', 1, 955, Timestamp('2012-10-22 00:00:00', tz=None)),\n",
        " ('GA', 2, 380, Timestamp('2012-10-29 00:00:00', tz=None)),\n",
        " ('fl', 2, 105, Timestamp('2012-11-05 00:00:00', tz=None)),\n",
        " ('NJ', 3, 772, Timestamp('2012-11-12 00:00:00', tz=None)),\n",
        " ('FL', 2, 390, Timestamp('2012-11-19 00:00:00', tz=None)),\n",
        " ('FL', 3, 513, Timestamp('2012-11-26 00:00:00', tz=None)),\n",
        " ('NY', 2, 122, Timestamp('2012-12-03 00:00:00', tz=None)),\n",
        " ('TX', 2, 887, Timestamp('2012-12-10 00:00:00', tz=None)),\n",
        " ('TX', 2, 988, Timestamp('2012-12-17 00:00:00', tz=None)),\n",
        " ('GA', 3, 946, Timestamp('2012-12-24 00:00:00', tz=None)),\n",
        " ('FL', 2, 970, Timestamp('2012-12-31 00:00:00', tz=None))]"
       ]
      }
     ],
     "prompt_number": 74
    },
    {
     "cell_type": "code",
     "collapsed": false,
     "input": [
      "s=[]"
     ],
     "language": "python",
     "metadata": {},
     "outputs": [],
     "prompt_number": 75
    },
    {
     "cell_type": "code",
     "collapsed": false,
     "input": [
      "s.extend([1,2])"
     ],
     "language": "python",
     "metadata": {},
     "outputs": [],
     "prompt_number": 76
    },
    {
     "cell_type": "code",
     "collapsed": false,
     "input": [
      "s"
     ],
     "language": "python",
     "metadata": {},
     "outputs": [
      {
       "metadata": {},
       "output_type": "pyout",
       "prompt_number": 77,
       "text": [
        "[1, 2]"
       ]
      }
     ],
     "prompt_number": 77
    },
    {
     "cell_type": "code",
     "collapsed": false,
     "input": [
      "s.extend([5,6,(8,9)])"
     ],
     "language": "python",
     "metadata": {},
     "outputs": [],
     "prompt_number": 78
    },
    {
     "cell_type": "code",
     "collapsed": false,
     "input": [
      "s"
     ],
     "language": "python",
     "metadata": {},
     "outputs": [
      {
       "metadata": {},
       "output_type": "pyout",
       "prompt_number": 79,
       "text": [
        "[1, 2, 5, 6, (8, 9)]"
       ]
      }
     ],
     "prompt_number": 79
    },
    {
     "cell_type": "code",
     "collapsed": false,
     "input": [
      "df = DataFrame(data=dataset, columns=['State','Status','CustomerCount','StatusDate'])"
     ],
     "language": "python",
     "metadata": {},
     "outputs": [],
     "prompt_number": 80
    },
    {
     "cell_type": "code",
     "collapsed": false,
     "input": [
      "df.info()"
     ],
     "language": "python",
     "metadata": {},
     "outputs": [
      {
       "output_type": "stream",
       "stream": "stdout",
       "text": [
        "<class 'pandas.core.frame.DataFrame'>\n",
        "Int64Index: 836 entries, 0 to 835\n",
        "Data columns (total 4 columns):\n",
        "State            836 non-null object\n",
        "Status           836 non-null int64\n",
        "CustomerCount    836 non-null int64\n",
        "StatusDate       836 non-null datetime64[ns]\n",
        "dtypes: datetime64[ns](1), int64(2), object(1)"
       ]
      }
     ],
     "prompt_number": 82
    },
    {
     "cell_type": "code",
     "collapsed": false,
     "input": [
      "df.head()"
     ],
     "language": "python",
     "metadata": {},
     "outputs": [
      {
       "html": [
        "<div style=\"max-height:1000px;max-width:1500px;overflow:auto;\">\n",
        "<table border=\"1\" class=\"dataframe\">\n",
        "  <thead>\n",
        "    <tr style=\"text-align: right;\">\n",
        "      <th></th>\n",
        "      <th>State</th>\n",
        "      <th>Status</th>\n",
        "      <th>CustomerCount</th>\n",
        "      <th>StatusDate</th>\n",
        "    </tr>\n",
        "  </thead>\n",
        "  <tbody>\n",
        "    <tr>\n",
        "      <th>0</th>\n",
        "      <td> GA</td>\n",
        "      <td> 1</td>\n",
        "      <td> 877</td>\n",
        "      <td>2009-01-05</td>\n",
        "    </tr>\n",
        "    <tr>\n",
        "      <th>1</th>\n",
        "      <td> FL</td>\n",
        "      <td> 1</td>\n",
        "      <td> 901</td>\n",
        "      <td>2009-01-12</td>\n",
        "    </tr>\n",
        "    <tr>\n",
        "      <th>2</th>\n",
        "      <td> fl</td>\n",
        "      <td> 3</td>\n",
        "      <td> 749</td>\n",
        "      <td>2009-01-19</td>\n",
        "    </tr>\n",
        "    <tr>\n",
        "      <th>3</th>\n",
        "      <td> FL</td>\n",
        "      <td> 3</td>\n",
        "      <td> 111</td>\n",
        "      <td>2009-01-26</td>\n",
        "    </tr>\n",
        "    <tr>\n",
        "      <th>4</th>\n",
        "      <td> GA</td>\n",
        "      <td> 1</td>\n",
        "      <td> 300</td>\n",
        "      <td>2009-02-02</td>\n",
        "    </tr>\n",
        "  </tbody>\n",
        "</table>\n",
        "<p>5 rows \u00d7 4 columns</p>\n",
        "</div>"
       ],
       "metadata": {},
       "output_type": "pyout",
       "prompt_number": 84,
       "text": [
        "  State  Status  CustomerCount StatusDate\n",
        "0    GA       1            877 2009-01-05\n",
        "1    FL       1            901 2009-01-12\n",
        "2    fl       3            749 2009-01-19\n",
        "3    FL       3            111 2009-01-26\n",
        "4    GA       1            300 2009-02-02\n",
        "\n",
        "[5 rows x 4 columns]"
       ]
      }
     ],
     "prompt_number": 84
    },
    {
     "cell_type": "code",
     "collapsed": false,
     "input": [
      "df.to_excel('Lesson3.xlsx', index=False)\n",
      "print 'Done'"
     ],
     "language": "python",
     "metadata": {},
     "outputs": [
      {
       "output_type": "stream",
       "stream": "stdout",
       "text": [
        "Done\n"
       ]
      },
      {
       "output_type": "stream",
       "stream": "stderr",
       "text": [
        "/Users/qingpeng/Library/Enthought/Canopy_64bit/User/lib/python2.7/site-packages/openpyxl/__init__.py:31: UserWarning: The installed version of lxml is too old to be used with openpyxl\n",
        "  warnings.warn(\"The installed version of lxml is too old to be used with openpyxl\")\n"
       ]
      }
     ],
     "prompt_number": 85
    },
    {
     "cell_type": "code",
     "collapsed": false,
     "input": [
      "Location = './Lesson3.xlsx'\n",
      "\n",
      "# Parse a specific sheet\n",
      "df = read_excel(Location, 0, index_col='StatusDate')\n",
      "df.dtypes"
     ],
     "language": "python",
     "metadata": {},
     "outputs": [
      {
       "metadata": {},
       "output_type": "pyout",
       "prompt_number": 96,
       "text": [
        "State            object\n",
        "Status            int64\n",
        "CustomerCount     int64\n",
        "dtype: object"
       ]
      }
     ],
     "prompt_number": 96
    },
    {
     "cell_type": "code",
     "collapsed": false,
     "input": [
      "df.index"
     ],
     "language": "python",
     "metadata": {},
     "outputs": [
      {
       "metadata": {},
       "output_type": "pyout",
       "prompt_number": 97,
       "text": [
        "<class 'pandas.tseries.index.DatetimeIndex'>\n",
        "[2009-01-05, ..., 2012-12-31]\n",
        "Length: 836, Freq: None, Timezone: None"
       ]
      }
     ],
     "prompt_number": 97
    },
    {
     "cell_type": "code",
     "collapsed": false,
     "input": [
      "df.head()"
     ],
     "language": "python",
     "metadata": {},
     "outputs": [
      {
       "html": [
        "<div style=\"max-height:1000px;max-width:1500px;overflow:auto;\">\n",
        "<table border=\"1\" class=\"dataframe\">\n",
        "  <thead>\n",
        "    <tr style=\"text-align: right;\">\n",
        "      <th></th>\n",
        "      <th>State</th>\n",
        "      <th>Status</th>\n",
        "      <th>CustomerCount</th>\n",
        "    </tr>\n",
        "    <tr>\n",
        "      <th>StatusDate</th>\n",
        "      <th></th>\n",
        "      <th></th>\n",
        "      <th></th>\n",
        "    </tr>\n",
        "  </thead>\n",
        "  <tbody>\n",
        "    <tr>\n",
        "      <th>2009-01-05</th>\n",
        "      <td> GA</td>\n",
        "      <td> 1</td>\n",
        "      <td> 877</td>\n",
        "    </tr>\n",
        "    <tr>\n",
        "      <th>2009-01-12</th>\n",
        "      <td> FL</td>\n",
        "      <td> 1</td>\n",
        "      <td> 901</td>\n",
        "    </tr>\n",
        "    <tr>\n",
        "      <th>2009-01-19</th>\n",
        "      <td> fl</td>\n",
        "      <td> 3</td>\n",
        "      <td> 749</td>\n",
        "    </tr>\n",
        "    <tr>\n",
        "      <th>2009-01-26</th>\n",
        "      <td> FL</td>\n",
        "      <td> 3</td>\n",
        "      <td> 111</td>\n",
        "    </tr>\n",
        "    <tr>\n",
        "      <th>2009-02-02</th>\n",
        "      <td> GA</td>\n",
        "      <td> 1</td>\n",
        "      <td> 300</td>\n",
        "    </tr>\n",
        "  </tbody>\n",
        "</table>\n",
        "<p>5 rows \u00d7 3 columns</p>\n",
        "</div>"
       ],
       "metadata": {},
       "output_type": "pyout",
       "prompt_number": 98,
       "text": [
        "           State  Status  CustomerCount\n",
        "StatusDate                             \n",
        "2009-01-05    GA       1            877\n",
        "2009-01-12    FL       1            901\n",
        "2009-01-19    fl       3            749\n",
        "2009-01-26    FL       3            111\n",
        "2009-02-02    GA       1            300\n",
        "\n",
        "[5 rows x 3 columns]"
       ]
      }
     ],
     "prompt_number": 98
    },
    {
     "cell_type": "code",
     "collapsed": false,
     "input": [
      "df['State'].unique()"
     ],
     "language": "python",
     "metadata": {},
     "outputs": [
      {
       "metadata": {},
       "output_type": "pyout",
       "prompt_number": 99,
       "text": [
        "array([u'GA', u'FL', u'fl', u'TX', u'NY', u'NJ'], dtype=object)"
       ]
      }
     ],
     "prompt_number": 99
    },
    {
     "cell_type": "code",
     "collapsed": false,
     "input": [
      "df['State'] = df.State.apply(lambda x: x.upper())"
     ],
     "language": "python",
     "metadata": {},
     "outputs": [],
     "prompt_number": 100
    },
    {
     "cell_type": "code",
     "collapsed": false,
     "input": [
      "df['State'].unique()"
     ],
     "language": "python",
     "metadata": {},
     "outputs": [
      {
       "metadata": {},
       "output_type": "pyout",
       "prompt_number": 102,
       "text": [
        "array([u'GA', u'FL', u'TX', u'NY', u'NJ'], dtype=object)"
       ]
      }
     ],
     "prompt_number": 102
    },
    {
     "cell_type": "code",
     "collapsed": false,
     "input": [
      "mask = df['Status'] == 1\n",
      "df = df[mask]"
     ],
     "language": "python",
     "metadata": {},
     "outputs": [],
     "prompt_number": 103
    },
    {
     "cell_type": "code",
     "collapsed": false,
     "input": [
      "mask = df.State == 'NJ'\n",
      "df['State'][mask] = 'NY'"
     ],
     "language": "python",
     "metadata": {},
     "outputs": [],
     "prompt_number": 109
    },
    {
     "cell_type": "code",
     "collapsed": false,
     "input": [
      "df['CustomerCount'].plot();"
     ],
     "language": "python",
     "metadata": {},
     "outputs": [
      {
       "metadata": {},
       "output_type": "display_data",
       "png": "[encoded data removed]",
       "text": [
        "<matplotlib.figure.Figure at 0x10bf153d0>"
       ]
      }
     ],
     "prompt_number": 111
    },
    {
     "cell_type": "code",
     "collapsed": false,
     "input": [
      "\n",
      "sortdf = df[df['State']=='NY'].sort(axis=0)\n",
      "sortdf.head(10)"
     ],
     "language": "python",
     "metadata": {},
     "outputs": [
      {
       "html": [
        "<div style=\"max-height:1000px;max-width:1500px;overflow:auto;\">\n",
        "<table border=\"1\" class=\"dataframe\">\n",
        "  <thead>\n",
        "    <tr style=\"text-align: right;\">\n",
        "      <th></th>\n",
        "      <th>State</th>\n",
        "      <th>Status</th>\n",
        "      <th>CustomerCount</th>\n",
        "    </tr>\n",
        "    <tr>\n",
        "      <th>StatusDate</th>\n",
        "      <th></th>\n",
        "      <th></th>\n",
        "      <th></th>\n",
        "    </tr>\n",
        "  </thead>\n",
        "  <tbody>\n",
        "    <tr>\n",
        "      <th>2009-01-19</th>\n",
        "      <td> NY</td>\n",
        "      <td> 1</td>\n",
        "      <td> 522</td>\n",
        "    </tr>\n",
        "    <tr>\n",
        "      <th>2009-02-23</th>\n",
        "      <td> NY</td>\n",
        "      <td> 1</td>\n",
        "      <td> 710</td>\n",
        "    </tr>\n",
        "    <tr>\n",
        "      <th>2009-03-09</th>\n",
        "      <td> NY</td>\n",
        "      <td> 1</td>\n",
        "      <td> 992</td>\n",
        "    </tr>\n",
        "    <tr>\n",
        "      <th>2009-03-16</th>\n",
        "      <td> NY</td>\n",
        "      <td> 1</td>\n",
        "      <td> 355</td>\n",
        "    </tr>\n",
        "    <tr>\n",
        "      <th>2009-03-23</th>\n",
        "      <td> NY</td>\n",
        "      <td> 1</td>\n",
        "      <td> 728</td>\n",
        "    </tr>\n",
        "    <tr>\n",
        "      <th>2009-03-30</th>\n",
        "      <td> NY</td>\n",
        "      <td> 1</td>\n",
        "      <td> 863</td>\n",
        "    </tr>\n",
        "    <tr>\n",
        "      <th>2009-04-13</th>\n",
        "      <td> NY</td>\n",
        "      <td> 1</td>\n",
        "      <td> 520</td>\n",
        "    </tr>\n",
        "    <tr>\n",
        "      <th>2009-04-20</th>\n",
        "      <td> NY</td>\n",
        "      <td> 1</td>\n",
        "      <td> 820</td>\n",
        "    </tr>\n",
        "    <tr>\n",
        "      <th>2009-04-20</th>\n",
        "      <td> NY</td>\n",
        "      <td> 1</td>\n",
        "      <td> 937</td>\n",
        "    </tr>\n",
        "    <tr>\n",
        "      <th>2009-04-27</th>\n",
        "      <td> NY</td>\n",
        "      <td> 1</td>\n",
        "      <td> 447</td>\n",
        "    </tr>\n",
        "  </tbody>\n",
        "</table>\n",
        "<p>10 rows \u00d7 3 columns</p>\n",
        "</div>"
       ],
       "metadata": {},
       "output_type": "pyout",
       "prompt_number": 115,
       "text": [
        "           State  Status  CustomerCount\n",
        "StatusDate                             \n",
        "2009-01-19    NY       1            522\n",
        "2009-02-23    NY       1            710\n",
        "2009-03-09    NY       1            992\n",
        "2009-03-16    NY       1            355\n",
        "2009-03-23    NY       1            728\n",
        "2009-03-30    NY       1            863\n",
        "2009-04-13    NY       1            520\n",
        "2009-04-20    NY       1            820\n",
        "2009-04-20    NY       1            937\n",
        "2009-04-27    NY       1            447\n",
        "\n",
        "[10 rows x 3 columns]"
       ]
      }
     ],
     "prompt_number": 115
    },
    {
     "cell_type": "code",
     "collapsed": false,
     "input": [],
     "language": "python",
     "metadata": {},
     "outputs": []
    }
   ],
   "metadata": {}
  }
 ]
}