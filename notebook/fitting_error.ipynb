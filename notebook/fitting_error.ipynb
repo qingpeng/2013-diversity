{
 "metadata": {
  "name": "",
  "signature": "sha256:1914a6b76256e291b24a3796e565e42fc4716e685d6bd46b1cb8d1a064e408bc"
 },
 "nbformat": 3,
 "nbformat_minor": 0,
 "worksheets": [
  {
   "cells": [
    {
     "cell_type": "code",
     "collapsed": false,
     "input": [
      ">>> from scipy.stats import binom\n",
      ">>> import matplotlib.pyplot as plt\n",
      ">>> fig, ax = plt.subplots(1, 1)\n",
      "import pandas\n",
      "import matplotlib.pyplot as plt"
     ],
     "language": "python",
     "metadata": {},
     "outputs": [
      {
       "metadata": {},
       "output_type": "display_data",
       "png": "[encoded data removed]",
       "text": [
        "<matplotlib.figure.Figure at 0x111532ed0>"
       ]
      }
     ],
     "prompt_number": 234
    },
    {
     "cell_type": "code",
     "collapsed": false,
     "input": [
      "n, p = 100, 0.01"
     ],
     "language": "python",
     "metadata": {},
     "outputs": [],
     "prompt_number": 277
    },
    {
     "cell_type": "code",
     "collapsed": false,
     "input": [
      "mean, var, skew, kurt = binom.stats(n, p, moments='mvsk')"
     ],
     "language": "python",
     "metadata": {},
     "outputs": [],
     "prompt_number": 97
    },
    {
     "cell_type": "code",
     "collapsed": false,
     "input": [
      "x = np.arange(1,10)\n",
      "ax.plot(x, binom.pmf(x, n, p), 'bo', ms=8, label='binom pmf')\n"
     ],
     "language": "python",
     "metadata": {},
     "outputs": [
      {
       "metadata": {},
       "output_type": "pyout",
       "prompt_number": 191,
       "text": [
        "[<matplotlib.lines.Line2D at 0x1044514d0>]"
       ]
      }
     ],
     "prompt_number": 191
    },
    {
     "cell_type": "code",
     "collapsed": false,
     "input": [
      "plt.show()"
     ],
     "language": "python",
     "metadata": {},
     "outputs": [],
     "prompt_number": 99
    },
    {
     "cell_type": "code",
     "collapsed": false,
     "input": [
      "binom.pmf(5, n, p)*40000"
     ],
     "language": "python",
     "metadata": {},
     "outputs": [
      {
       "metadata": {},
       "output_type": "pyout",
       "prompt_number": 190,
       "text": [
        "5.8455539813193385"
       ]
      }
     ],
     "prompt_number": 190
    },
    {
     "cell_type": "code",
     "collapsed": false,
     "input": [
      "binom.pmf(1, n, p)"
     ],
     "language": "python",
     "metadata": {},
     "outputs": [
      {
       "metadata": {},
       "output_type": "pyout",
       "prompt_number": 200,
       "text": [
        "0.36972963764971983"
       ]
      }
     ],
     "prompt_number": 200
    },
    {
     "cell_type": "code",
     "collapsed": false,
     "input": [
      "binom.pmf(2, n, p)"
     ],
     "language": "python",
     "metadata": {},
     "outputs": [
      {
       "metadata": {},
       "output_type": "pyout",
       "prompt_number": 201,
       "text": [
        "0.18486481882486308"
       ]
      }
     ],
     "prompt_number": 201
    },
    {
     "cell_type": "code",
     "collapsed": false,
     "input": [
      "binom.pmf(3, n, p)"
     ],
     "language": "python",
     "metadata": {},
     "outputs": [
      {
       "metadata": {},
       "output_type": "pyout",
       "prompt_number": 202,
       "text": [
        "0.060999165807528455"
       ]
      }
     ],
     "prompt_number": 202
    },
    {
     "cell_type": "code",
     "collapsed": false,
     "input": [
      "binom.pmf(4, n, p)"
     ],
     "language": "python",
     "metadata": {},
     "outputs": [
      {
       "metadata": {},
       "output_type": "pyout",
       "prompt_number": 203,
       "text": [
        "0.014941714856894668"
       ]
      }
     ],
     "prompt_number": 203
    },
    {
     "cell_type": "code",
     "collapsed": false,
     "input": [
      "binom.pmf(5, n, p)"
     ],
     "language": "python",
     "metadata": {},
     "outputs": [
      {
       "metadata": {},
       "output_type": "pyout",
       "prompt_number": 278,
       "text": [
        "0.0028977871237616114"
       ]
      }
     ],
     "prompt_number": 278
    },
    {
     "cell_type": "code",
     "collapsed": false,
     "input": [
      "binom.pmf(6, n, p)"
     ],
     "language": "python",
     "metadata": {},
     "outputs": [
      {
       "metadata": {},
       "output_type": "pyout",
       "prompt_number": 279,
       "text": [
        "0.00046345080262179115"
       ]
      }
     ],
     "prompt_number": 279
    },
    {
     "cell_type": "code",
     "collapsed": false,
     "input": [
      "binom.pmf(0, n, p)"
     ],
     "language": "python",
     "metadata": {},
     "outputs": [
      {
       "metadata": {},
       "output_type": "pyout",
       "prompt_number": 205,
       "text": [
        "0.36603234127322948"
       ]
      }
     ],
     "prompt_number": 205
    },
    {
     "cell_type": "code",
     "collapsed": false,
     "input": [
      "4**19"
     ],
     "language": "python",
     "metadata": {},
     "outputs": [
      {
       "metadata": {},
       "output_type": "pyout",
       "prompt_number": 226,
       "text": [
        "274877906944"
       ]
      }
     ],
     "prompt_number": 226
    },
    {
     "cell_type": "code",
     "collapsed": false,
     "input": [
      "n, p = 100, 0.01\n",
      "# % of reads that are not affected by errors. \n",
      "unique = 1-(binom.pmf(0, n, p)+binom.pmf(1, n, p)+binom.pmf(2, n, p)+binom.pmf(3, n, p)*(1-0.439)+\n",
      "            binom.pmf(4, n, p)*(1-0.7598)+binom.pmf(5, n, p)*(1-0.9012))\n",
      "print unique\n",
      "\n",
      "unique*40000"
     ],
     "language": "python",
     "metadata": {},
     "outputs": [
      {
       "output_type": "stream",
       "stream": "stdout",
       "text": [
        "0.0412773689577\n"
       ]
      },
      {
       "metadata": {},
       "output_type": "pyout",
       "prompt_number": 281,
       "text": [
        "1651.0947583084201"
       ]
      }
     ],
     "prompt_number": 281
    },
    {
     "cell_type": "code",
     "collapsed": false,
     "input": [
      "n, p = 100, 0.01\n",
      "unique = 1-(binom.pmf(0, n, p)+binom.pmf(1, n, p)+binom.pmf(2, n, p)+binom.pmf(3, n, p)*(1-0.2352)+\n",
      "            binom.pmf(4, n, p)*(1-0.5804)+binom.pmf(5, n, p)*(1-0.7998))\n",
      "print unique\n",
      "\n",
      "unique*40000"
     ],
     "language": "python",
     "metadata": {},
     "outputs": [
      {
       "output_type": "stream",
       "stream": "stdout",
       "text": [
        "0.0258713597065\n"
       ]
      },
      {
       "metadata": {},
       "output_type": "pyout",
       "prompt_number": 289,
       "text": [
        "1034.8543882583926"
       ]
      }
     ],
     "prompt_number": 289
    },
    {
     "cell_type": "code",
     "collapsed": false,
     "input": [
      "binom.pmf(3, n, p)*0.2048*40000"
     ],
     "language": "python",
     "metadata": {},
     "outputs": [
      {
       "metadata": {},
       "output_type": "pyout",
       "prompt_number": 288,
       "text": [
        "499.7051662952731"
       ]
      }
     ],
     "prompt_number": 288
    },
    {
     "cell_type": "code",
     "collapsed": false,
     "input": [
      "n, p = 100, 0.005\n",
      "unique = 1-(binom.pmf(0, n, p)+binom.pmf(1, n, p)+binom.pmf(2, n, p)+binom.pmf(3, n, p)*(1-0.439)+\n",
      "            binom.pmf(4, n, p)*(1-0.7598)+binom.pmf(5, n, p)*(1-0.9012))\n",
      "print unique\n",
      "\n",
      "unique*40000"
     ],
     "language": "python",
     "metadata": {},
     "outputs": [
      {
       "output_type": "stream",
       "stream": "stdout",
       "text": [
        "0.00675162159947\n"
       ]
      },
      {
       "metadata": {},
       "output_type": "pyout",
       "prompt_number": 275,
       "text": [
        "270.06486397893161"
       ]
      }
     ],
     "prompt_number": 275
    },
    {
     "cell_type": "code",
     "collapsed": false,
     "input": [
      "# with fpr = 0.1\n",
      "n, p = 100, 0.005\n",
      "unique = 1-(binom.pmf(0, n, p)+binom.pmf(1, n, p)+binom.pmf(2, n, p)+binom.pmf(3, n, p)*(1-0.2352)+\n",
      "            binom.pmf(4, n, p)*(1-0.7598)+binom.pmf(5, n, p)*(1-0.9012))\n",
      "print unique\n",
      "\n",
      "unique*40000"
     ],
     "language": "python",
     "metadata": {},
     "outputs": [
      {
       "output_type": "stream",
       "stream": "stdout",
       "text": [
        "0.00421845913067\n"
       ]
      },
      {
       "metadata": {},
       "output_type": "pyout",
       "prompt_number": 286,
       "text": [
        "168.73836522666608"
       ]
      }
     ],
     "prompt_number": 286
    },
    {
     "cell_type": "code",
     "collapsed": false,
     "input": [
      "import random\n"
     ],
     "language": "python",
     "metadata": {},
     "outputs": [
      {
       "metadata": {},
       "output_type": "pyout",
       "prompt_number": 31,
       "text": [
        "[99, 51, 14]"
       ]
      }
     ],
     "prompt_number": 31
    },
    {
     "cell_type": "code",
     "collapsed": false,
     "input": [
      "954/40000.0"
     ],
     "language": "python",
     "metadata": {},
     "outputs": [
      {
       "metadata": {},
       "output_type": "pyout",
       "prompt_number": 67,
       "text": [
        "0.02385"
       ]
      }
     ],
     "prompt_number": 67
    },
    {
     "cell_type": "code",
     "collapsed": false,
     "input": [
      "t= 0 \n",
      "for i in range(1000):\n",
      "    mark = [0]*100\n",
      "    ran =  random.sample(range(100),4)\n",
      "    for l in ran:\n",
      "        mark[l] = 1\n",
      "    #print mark\n",
      "    count = 0\n",
      "    for d in range(0,81):\n",
      "        sub = mark[d:d+20]\n",
      "        for k in sub:\n",
      "            if k == 1:\n",
      "                count = count +1\n",
      "                next\n",
      "    #print count\n",
      "    if count >41:\n",
      "        t = t+1\n",
      "print t"
     ],
     "language": "python",
     "metadata": {},
     "outputs": [
      {
       "output_type": "stream",
       "stream": "stdout",
       "text": [
        "968\n"
       ]
      }
     ],
     "prompt_number": 221
    },
    {
     "cell_type": "code",
     "collapsed": false,
     "input": [
      "s='12345'\n",
      "s[0:4]\n",
      "l = range(100)\n",
      "l[81:100]\n"
     ],
     "language": "python",
     "metadata": {},
     "outputs": [
      {
       "metadata": {},
       "output_type": "pyout",
       "prompt_number": 215,
       "text": [
        "[81, 82, 83, 84, 85, 86, 87, 88, 89, 90, 91, 92, 93, 94, 95, 96, 97, 98, 99]"
       ]
      }
     ],
     "prompt_number": 215
    },
    {
     "cell_type": "code",
     "collapsed": false,
     "input": [
      "t= 0 \n",
      "freq = [0]*100\n",
      "for i in range(10000):\n",
      "    mark = [0]*100\n",
      "    ran =  random.sample(range(100),3)\n",
      "    for l in ran:\n",
      "        mark[l] = 1\n",
      "    #print mark\n",
      "    count = 0\n",
      "    for d in range(0,82):\n",
      "        sub = mark[d:d+19]\n",
      "        #print sub\n",
      "        for k in sub:\n",
      "            if k == 1:\n",
      "                count = count +1\n",
      "                break\n",
      "    #print count\n",
      "    freq[count]+=1\n",
      "print freq"
     ],
     "language": "python",
     "metadata": {},
     "outputs": [
      {
       "output_type": "stream",
       "stream": "stdout",
       "text": [
        "[0, 0, 0, 0, 0, 2, 1, 5, 6, 8, 9, 13, 18, 14, 22, 25, 23, 33, 34, 34, 37, 68, 97, 141, 164, 171, 206, 223, 211, 264, 255, 271, 287, 295, 307, 322, 336, 336, 329, 568, 544, 437, 442, 364, 399, 343, 356, 273, 254, 237, 191, 179, 160, 137, 121, 133, 87, 208, 0, 0, 0, 0, 0, 0, 0, 0, 0, 0, 0, 0, 0, 0, 0, 0, 0, 0, 0, 0, 0, 0, 0, 0, 0, 0, 0, 0, 0, 0, 0, 0, 0, 0, 0, 0, 0, 0, 0, 0, 0, 0]\n"
       ]
      }
     ],
     "prompt_number": 283
    },
    {
     "cell_type": "code",
     "collapsed": false,
     "input": [
      "plt.figure(figsize=(10, 8))\n",
      "plt.plot(range(100),[x/10000.9 for x in freq],'-*')\n",
      "\n",
      "\n",
      "plt.xlabel('number of k-mers affected by 3 sequencing errors')\n",
      "plt.ylabel('probability')\n",
      "plt.title('probability distribution of number of k-mers affected by 3 sequencing errors')"
     ],
     "language": "python",
     "metadata": {},
     "outputs": [
      {
       "metadata": {},
       "output_type": "pyout",
       "prompt_number": 292,
       "text": [
        "<matplotlib.text.Text at 0x112633c90>"
       ]
      },
      {
       "metadata": {},
       "output_type": "display_data",
       "png": "[encoded data removed]",
       "text": [
        "<matplotlib.figure.Figure at 0x1122c63d0>"
       ]
      }
     ],
     "prompt_number": 292
    },
    {
     "cell_type": "code",
     "collapsed": false,
     "input": [
      "sum(freq[41:46]) # will affect abundance = 2, decrease to 2, will not affect abundance = 1"
     ],
     "language": "python",
     "metadata": {},
     "outputs": [
      {
       "metadata": {},
       "output_type": "pyout",
       "prompt_number": 263,
       "text": [
        "2048"
       ]
      }
     ],
     "prompt_number": 263
    },
    {
     "cell_type": "code",
     "collapsed": false,
     "input": [
      "sum(freq[46:]) # will affect abundance =1, enough kmer drop to 1 because of error.(only with fpr, 2 is affected.)"
     ],
     "language": "python",
     "metadata": {},
     "outputs": [
      {
       "metadata": {},
       "output_type": "pyout",
       "prompt_number": 264,
       "text": [
        "2352"
       ]
      }
     ],
     "prompt_number": 264
    },
    {
     "cell_type": "code",
     "collapsed": false,
     "input": [
      "sum(freq[41:])"
     ],
     "language": "python",
     "metadata": {},
     "outputs": [
      {
       "metadata": {},
       "output_type": "pyout",
       "prompt_number": 285,
       "text": [
        "4321"
       ]
      }
     ],
     "prompt_number": 285
    },
    {
     "cell_type": "code",
     "collapsed": false,
     "input": [
      "sum(freq[:41])"
     ],
     "language": "python",
     "metadata": {},
     "outputs": [
      {
       "metadata": {},
       "output_type": "pyout",
       "prompt_number": 284,
       "text": [
        "5679"
       ]
      }
     ],
     "prompt_number": 284
    },
    {
     "cell_type": "code",
     "collapsed": false,
     "input": [
      "t= 0 \n",
      "freq = [0]*100\n",
      "for i in range(10000):\n",
      "    mark = [0]*100\n",
      "    ran =  random.sample(range(100),4)\n",
      "    for l in ran:\n",
      "        mark[l] = 1\n",
      "    #print mark\n",
      "    count = 0\n",
      "    for d in range(0,82):\n",
      "        sub = mark[d:d+19]\n",
      "        #print sub\n",
      "        for k in sub:\n",
      "            if k == 1:\n",
      "                count = count +1\n",
      "                break\n",
      "    #print count\n",
      "    freq[count]+=1\n",
      "print freq\n",
      "plt.plot(range(100),freq,'-*')\n"
     ],
     "language": "python",
     "metadata": {},
     "outputs": [
      {
       "output_type": "stream",
       "stream": "stdout",
       "text": [
        "[0, 0, 0, 0, 0, 0, 0, 0, 3, 0, 0, 0, 1, 1, 2, 4, 9, 9, 13, 10, 15, 16, 16, 30, 31, 42, 66, 56, 64, 79, 101, 104, 140, 144, 158, 184, 188, 201, 211, 247, 257, 344, 341, 360, 352, 397, 374, 448, 362, 383, 424, 379, 347, 372, 319, 330, 279, 262, 264, 211, 194, 159, 144, 124, 79, 83, 73, 51, 45, 30, 26, 12, 14, 5, 6, 5, 0, 0, 0, 0, 0, 0, 0, 0, 0, 0, 0, 0, 0, 0, 0, 0, 0, 0, 0, 0, 0, 0, 0, 0]\n"
       ]
      },
      {
       "metadata": {},
       "output_type": "pyout",
       "prompt_number": 267,
       "text": [
        "7598"
       ]
      },
      {
       "metadata": {},
       "output_type": "display_data",
       "png": "[encoded data removed]",
       "text": [
        "<matplotlib.figure.Figure at 0x10ea07510>"
       ]
      }
     ],
     "prompt_number": 267
    },
    {
     "cell_type": "code",
     "collapsed": false,
     "input": [
      "print sum(freq[,:46])\n",
      "print sum(freq[46:])\n",
      "print sum(freq[41:])"
     ],
     "language": "python",
     "metadata": {},
     "outputs": [
      {
       "output_type": "stream",
       "stream": "stdout",
       "text": [
        "1794\n",
        "5804\n",
        "7598\n"
       ]
      }
     ],
     "prompt_number": 271
    },
    {
     "cell_type": "code",
     "collapsed": false,
     "input": [
      "t= 0 \n",
      "freq = [0]*100\n",
      "for i in range(10000):\n",
      "    mark = [0]*100\n",
      "    ran =  random.sample(range(100),5)\n",
      "    for l in ran:\n",
      "        mark[l] = 1\n",
      "    #print mark\n",
      "    count = 0\n",
      "    for d in range(0,82):\n",
      "        sub = mark[d:d+19]\n",
      "        #print sub\n",
      "        for k in sub:\n",
      "            if k == 1:\n",
      "                count = count +1\n",
      "                break\n",
      "    #print count\n",
      "    freq[count]+=1\n",
      "print freq\n",
      "plt.plot(range(100),freq,'-*')\n"
     ],
     "language": "python",
     "metadata": {},
     "outputs": [
      {
       "output_type": "stream",
       "stream": "stdout",
       "text": [
        "[0, 0, 0, 0, 0, 0, 0, 0, 0, 0, 0, 0, 0, 1, 2, 0, 0, 1, 3, 2, 2, 2, 3, 7, 3, 10, 12, 17, 19, 36, 27, 24, 50, 44, 76, 72, 86, 93, 108, 138, 150, 161, 198, 203, 226, 226, 269, 276, 323, 322, 311, 345, 354, 385, 383, 427, 375, 382, 350, 370, 362, 347, 319, 292, 258, 230, 212, 205, 174, 148, 129, 101, 82, 78, 62, 42, 32, 20, 20, 4, 5, 2, 2, 0, 0, 0, 0, 0, 0, 0, 0, 0, 0, 0, 0, 0, 0, 0, 0, 0]\n"
       ]
      },
      {
       "metadata": {},
       "output_type": "pyout",
       "prompt_number": 272,
       "text": [
        "[<matplotlib.lines.Line2D at 0x112472dd0>]"
       ]
      },
      {
       "metadata": {},
       "output_type": "display_data",
       "png": "[encoded data removed]",
       "text": [
        "<matplotlib.figure.Figure at 0x111d997d0>"
       ]
      }
     ],
     "prompt_number": 272
    },
    {
     "cell_type": "code",
     "collapsed": false,
     "input": [
      "print sum(freq[41:46])\n",
      "print sum(freq[46:])\n",
      "print sum(freq[41:])"
     ],
     "language": "python",
     "metadata": {},
     "outputs": [
      {
       "output_type": "stream",
       "stream": "stdout",
       "text": [
        "1014\n",
        "7998\n",
        "9012\n"
       ]
      }
     ],
     "prompt_number": 273
    },
    {
     "cell_type": "code",
     "collapsed": false,
     "input": [
      "from itertools import groupby"
     ],
     "language": "python",
     "metadata": {},
     "outputs": [],
     "prompt_number": 167
    },
    {
     "cell_type": "code",
     "collapsed": false,
     "input": [
      "DIR = \"/Users/qingpeng/2013-diversity-Iterated/New_Test/\"\n",
      "\n",
      "comb = DIR+'Check_fp_0.0001/10.0_0.01_noerror/sample_1_10.0_0.01.fa.comb'\n",
      "fa = DIR+'Check_fp_0.0001/10.0_0.01_noerror/sample_1_10.0_0.01.fa'\n",
      "\n",
      "f_comb = open(comb,'r')\n",
      "f_fa = open(fa,'r')\n",
      "mark = {}\n",
      "for line in f_comb:\n",
      "    line = line.rstrip()\n",
      "    fields= line.split()\n",
      "    mark[fields[0]] = fields[1]\n",
      "count = {}\n",
      "for line in f_fa:\n",
      "    line = line.rstrip()\n",
      "    if line[0] == '>':\n",
      "        m = line.split('=')[-1]\n",
      "        read = line.split()[0].split('>')[1]\n",
      "        try:\n",
      "            count[m].append(mark[read])\n",
      "        except:\n",
      "            count[m] = [mark[read]]\n",
      "unique = 0\n",
      "for k in sort(count.keys()):\n",
      "    total = len(count[k])\n",
      "    print \"key\",k, total,total/40000.0\n",
      "    \n",
      "    for key, group in groupby(sort(count[k])):\n",
      "        #print total\n",
      "        size = len(list(group))\n",
      "        ratio = size /float(total)\n",
      "        print key, size,ratio\n",
      "        if key == '1':\n",
      "            unique = unique + size\n",
      "print unique\n"
     ],
     "language": "python",
     "metadata": {},
     "outputs": [
      {
       "output_type": "stream",
       "stream": "stdout",
       "text": [
        "key 0 14713 0.367825\n",
        "1 65 0.00441786175491\n",
        "10 886 0.0602188540746\n",
        "12 580 0.0394209202746\n",
        "13 269 0.0182831509549\n",
        "14 127 0.00863182219806\n",
        "15 102 0.00693264460001\n",
        "17 172 0.0116903418745\n",
        "18 192 0.013049683953\n",
        "19 359 0.0244001903079\n",
        "2 18 0.00122340787059\n",
        "20 529 0.0359545979746\n",
        "21 644 0.0437708149256\n",
        "23 976 0.0663358934276\n",
        "24 1043 0.0708896893903\n",
        "25 1053 0.0715693604296\n",
        "26 1056 0.0717732617413\n",
        "28 786 0.0534221436825\n",
        "29 736 0.0500237884864\n",
        "3 65 0.00441786175491\n",
        "30 552 0.0375178413648\n",
        "31 359 0.0244001903079\n",
        "32 266 0.0180792496432\n",
        "34 208 0.0141371576157\n",
        "35 105 0.00713654591178\n",
        "36 47 0.00319445388432\n",
        "37 31 0.00210698022157\n",
        "39 8 0.000543736831374\n",
        "4 238 0.0161761707334\n",
        "40 12 0.00081560524706\n",
        "41 5 0.000339835519609\n",
        "6 481 0.0326921769863\n",
        "7 805 0.054713518657\n",
        "8 902 0.0613063277374\n",
        "9 1036 0.0704139196629\n",
        "key 1 14554 0.36385\n",
        "1 54 0.00371032018689\n",
        "10 754 0.0518070633503\n",
        "12 386 0.026521918373\n",
        "13 195 0.0133983784527\n",
        "14 117 0.0080390270716\n",
        "15 141 0.00968805826577\n",
        "17 239 0.0164216023086\n",
        "18 304 0.0208877284595\n",
        "19 441 0.0303009481929\n",
        "2 21 0.0014429022949\n",
        "20 718 0.049333516559\n",
        "21 882 0.0606018963859\n",
        "23 1121 0.0770234986945\n",
        "24 1116 0.0766799505291\n",
        "25 1051 0.0722138243782\n",
        "26 904 0.0621135083139\n",
        "28 645 0.0443177133434\n",
        "29 575 0.0395080390271\n",
        "3 133 0.00913838120104\n",
        "30 389 0.0267280472722\n",
        "31 238 0.0163528926756\n",
        "32 174 0.0119554761578\n",
        "34 130 0.00893225230177\n",
        "35 45 0.00309193348908\n",
        "36 25 0.00171774082726\n",
        "37 11 0.000755805963996\n",
        "39 2 0.000137419266181\n",
        "4 335 0.0230177270853\n",
        "40 3 0.000206128899272\n",
        "41 1 6.87096330906e-05\n",
        "6 633 0.0434931977463\n",
        "7 867 0.0595712518895\n",
        "8 925 0.0635564106088\n",
        "9 979 0.0672667307957\n",
        "key 2 7379 0.184475\n",
        "1 58 0.0078601436509\n",
        "10 274 0.0371324027646\n",
        "12 186 0.0252066675701\n",
        "13 89 0.0120612549126\n",
        "14 112 0.0151782084293\n",
        "15 152 0.0205989971541\n",
        "17 204 0.0276460224963\n",
        "18 282 0.0382165605096\n",
        "19 341 0.0462122238786\n",
        "2 35 0.00474319013416\n",
        "20 443 0.0600352351267\n",
        "21 490 0.0664046618783\n",
        "23 548 0.0742648055292\n",
        "24 476 0.0645073858246\n",
        "25 428 0.0580024393549\n",
        "26 345 0.0467543027511\n",
        "28 263 0.0356416858653\n",
        "29 171 0.0231738717983\n",
        "3 99 0.0134164520938\n",
        "30 143 0.019379319691\n",
        "31 76 0.010299498577\n",
        "32 46 0.00623390703347\n",
        "34 32 0.00433663097981\n",
        "35 17 0.00230383520802\n",
        "36 12 0.00162623661743\n",
        "37 4 0.000542078872476\n",
        "39 1 0.000135519718119\n",
        "4 257 0.0348285675566\n",
        "40 1 0.000135519718119\n",
        "6 408 0.0552920449925\n",
        "7 496 0.067217780187\n",
        "8 465 0.0630166689253\n",
        "9 425 0.0575958802006\n",
        "key 3 2589 0.064725\n",
        "1 790 0.305137118579\n",
        "10 69 0.026651216686\n",
        "12 43 0.0166087292391\n",
        "13 17 0.0065662417922\n",
        "14 35 0.0135187331016\n",
        "15 46 0.0177674777907\n",
        "17 49 0.0189262263422\n",
        "18 58 0.0224024719969\n",
        "19 83 0.0320587099266\n",
        "2 165 0.063731170336\n",
        "20 88 0.0339899575126\n",
        "21 102 0.0393974507532\n",
        "23 100 0.0386249517188\n",
        "24 107 0.0413286983391\n",
        "25 86 0.0332174584782\n",
        "26 54 0.0208574739282\n",
        "28 60 0.0231749710313\n",
        "29 42 0.0162224797219\n",
        "3 28 0.0108149864813\n",
        "30 25 0.0096562379297\n",
        "31 11 0.00424874468907\n",
        "32 7 0.00270374662032\n",
        "34 3 0.00115874855156\n",
        "35 5 0.00193124758594\n",
        "36 3 0.00115874855156\n",
        "4 70 0.0270374662032\n",
        "6 99 0.0382387022016\n",
        "7 124 0.0478949401313\n",
        "8 111 0.0428736964079\n",
        "9 109 0.0421011973735\n",
        "key 4 602 0.01505\n",
        "1 347 0.576411960133\n",
        "10 19 0.031561461794\n",
        "12 9 0.014950166113\n",
        "13 4 0.00664451827243\n",
        "15 10 0.0166112956811\n",
        "17 9 0.014950166113\n",
        "18 9 0.014950166113\n",
        "19 5 0.00830564784053\n",
        "2 36 0.0598006644518\n",
        "20 9 0.014950166113\n",
        "21 15 0.0249169435216\n",
        "23 19 0.031561461794\n",
        "24 6 0.00996677740864\n",
        "25 7 0.0116279069767\n",
        "26 6 0.00996677740864\n",
        "28 2 0.00332225913621\n",
        "29 7 0.0116279069767\n",
        "3 4 0.00664451827243\n",
        "30 3 0.00498338870432\n",
        "4 8 0.0132890365449\n",
        "6 17 0.0282392026578\n",
        "7 16 0.0265780730897\n",
        "8 18 0.0299003322259\n",
        "9 17 0.0282392026578\n",
        "key 5 138 0.00345\n",
        "1 98 0.710144927536\n",
        "10 2 0.0144927536232\n",
        "12 3 0.0217391304348\n",
        "14 1 0.00724637681159\n",
        "18 1 0.00724637681159\n",
        "2 5 0.036231884058\n",
        "20 2 0.0144927536232\n",
        "21 1 0.00724637681159\n",
        "23 2 0.0144927536232\n",
        "24 2 0.0144927536232\n",
        "25 1 0.00724637681159\n",
        "26 1 0.00724637681159\n",
        "28 3 0.0217391304348\n",
        "6 3 0.0217391304348\n",
        "7 5 0.036231884058\n",
        "8 4 0.0289855072464\n",
        "9 4 0.0289855072464\n",
        "key 6 17 0.000425\n",
        "1 14 0.823529411765\n",
        "15 1 0.0588235294118\n",
        "23 1 0.0588235294118\n",
        "6 1 0.0588235294118\n",
        "key 7 7 0.000175\n",
        "1 5 0.714285714286\n",
        "13 1 0.142857142857\n",
        "7 1 0.142857142857\n",
        "key 8 1 2.5e-05\n",
        "1 1 1.0\n",
        "1432\n"
       ]
      }
     ],
     "prompt_number": 198
    },
    {
     "cell_type": "code",
     "collapsed": false,
     "input": [
      "sum([38, 39, 442, 249, 87, 12,  5, 1])"
     ],
     "language": "python",
     "metadata": {},
     "outputs": [
      {
       "metadata": {},
       "output_type": "pyout",
       "prompt_number": 175,
       "text": [
        "873"
       ]
      }
     ],
     "prompt_number": 175
    },
    {
     "cell_type": "code",
     "collapsed": false,
     "input": [
      "DIR = \"/Users/qingpeng/2013-diversity-Iterated/New_Reads/\"\n",
      "\n",
      "comb = DIR+'Low_fp/10.0_0.01_noerror/sample_1_10.0_0.01.fa.comb'\n",
      "fa = DIR+'Low_fp/10.0_0.01_noerror/sample_1_10.0_0.01.fa'\n",
      "\n",
      "f_comb = open(comb,'r')\n",
      "f_fa = open(fa,'r')\n",
      "mark = {}\n",
      "for line in f_comb:\n",
      "    line = line.rstrip()\n",
      "    fields= line.split()\n",
      "    mark[fields[0]] = fields[1]\n",
      "count = {}\n",
      "for line in f_fa:\n",
      "    line = line.rstrip()\n",
      "    if line[0] == '>':\n",
      "        m = line.split('=')[-1]\n",
      "        read = line.split()[0].split('>')[1]\n",
      "        try:\n",
      "            count[m].append(mark[read])\n",
      "        except:\n",
      "            count[m] = [mark[read]]\n",
      "unique = 0\n",
      "for k in sort(count.keys()):\n",
      "    total = len(count[k])\n",
      "    print \"key\",k, total,total/40000.0\n",
      "    \n",
      "    for key, group in groupby(sort(count[k])):\n",
      "        #print total\n",
      "        size = len(list(group))\n",
      "        ratio = size /float(total)\n",
      "        print key, size,ratio\n",
      "        if key == '1':\n",
      "            unique = unique + size\n",
      "print unique\n"
     ],
     "language": "python",
     "metadata": {},
     "outputs": [
      {
       "output_type": "stream",
       "stream": "stdout",
       "text": [
        "key 0 14783 0.369575\n",
        "1 9 0.000608807413921\n",
        "10 898 0.0607454508557\n",
        "12 540 0.0365284448353\n",
        "13 261 0.0176554150037\n",
        "14 133 0.00899682067239\n",
        "15 70 0.00473516877494\n",
        "17 142 0.00960562808632\n",
        "18 151 0.0102144355002\n",
        "19 323 0.021849421633\n",
        "2 3 0.00020293580464\n",
        "20 619 0.0418724210241\n",
        "21 810 0.0547926672529\n",
        "23 918 0.06209835622\n",
        "24 895 0.0605425150511\n",
        "25 1010 0.0683217208956\n",
        "26 1032 0.0698099167963\n",
        "28 847 0.0572955421768\n",
        "29 700 0.0473516877494\n",
        "3 36 0.00243522965569\n",
        "30 631 0.0426841642427\n",
        "31 445 0.030102144355\n",
        "32 269 0.0181965771494\n",
        "34 92 0.00622336467564\n",
        "35 88 0.00595278360279\n",
        "36 84 0.00568220252993\n",
        "37 28 0.00189406750998\n",
        "39 31 0.00209700331462\n",
        "4 211 0.014273151593\n",
        "41 8 0.000541162145708\n",
        "6 478 0.032334438206\n",
        "7 884 0.0597984171007\n",
        "8 1079 0.0729892444024\n",
        "9 1058 0.0715686937699\n",
        "key 1 14469 0.361725\n",
        "1 15 0.00103669914991\n",
        "10 688 0.0475499343424\n",
        "12 393 0.0271615177276\n",
        "13 181 0.0125095030755\n",
        "14 102 0.00704955421937\n",
        "15 154 0.0106434446057\n",
        "17 193 0.0133388623955\n",
        "18 306 0.0211486626581\n",
        "19 500 0.0345566383302\n",
        "2 16 0.00110581242657\n",
        "20 806 0.0557053009883\n",
        "21 872 0.0602667772479\n",
        "23 948 0.0655193862741\n",
        "24 915 0.0632386481443\n",
        "25 960 0.066348745594\n",
        "26 925 0.0639297809109\n",
        "28 750 0.0518349574953\n",
        "29 591 0.0408459465063\n",
        "3 103 0.00711866749603\n",
        "30 460 0.0317921072638\n",
        "31 335 0.0231529476812\n",
        "32 165 0.011403690649\n",
        "34 66 0.00456147625959\n",
        "35 55 0.00380123021632\n",
        "36 42 0.00290275761974\n",
        "37 20 0.00138226553321\n",
        "39 9 0.000622019489944\n",
        "4 309 0.0213560024881\n",
        "40 3 0.000207339829981\n",
        "41 7 0.000483792936623\n",
        "6 616 0.0425737784228\n",
        "7 948 0.0655193862741\n",
        "8 1034 0.0714631280669\n",
        "9 982 0.0678692376806\n",
        "key 2 7404 0.1851\n",
        "1 60 0.00810372771475\n",
        "10 261 0.0352512155592\n",
        "12 168 0.0226904376013\n",
        "13 84 0.0113452188006\n",
        "14 109 0.0147217720151\n",
        "15 123 0.0166126418152\n",
        "17 168 0.0226904376013\n",
        "18 285 0.0384927066451\n",
        "19 386 0.0521339816316\n",
        "2 50 0.00675310642896\n",
        "20 504 0.0680713128039\n",
        "21 495 0.0668557536467\n",
        "23 492 0.0664505672609\n",
        "24 462 0.0623987034036\n",
        "25 409 0.0552404105889\n",
        "26 337 0.0455159373312\n",
        "28 262 0.0353862776877\n",
        "29 226 0.0305240410589\n",
        "3 125 0.0168827660724\n",
        "30 138 0.0186385737439\n",
        "31 103 0.0139113992437\n",
        "32 48 0.0064829821718\n",
        "34 24 0.0032414910859\n",
        "35 12 0.00162074554295\n",
        "36 8 0.00108049702863\n",
        "37 2 0.000270124257158\n",
        "39 4 0.000540248514317\n",
        "4 268 0.0361966504592\n",
        "40 1 0.000135062128579\n",
        "41 1 0.000135062128579\n",
        "6 441 0.0595623987034\n",
        "7 483 0.0652350081037\n",
        "8 501 0.0676661264182\n",
        "9 364 0.0491626148028\n",
        "key 3 2542 0.06355\n",
        "1 809 0.318253343824\n",
        "10 62 0.0243902439024\n",
        "12 31 0.0121951219512\n",
        "13 21 0.00826121164437\n",
        "14 29 0.0114083398899\n",
        "15 40 0.0157356412274\n",
        "17 55 0.0216365066876\n",
        "18 88 0.0346184107002\n",
        "19 77 0.0302911093627\n",
        "2 143 0.0562549173879\n",
        "20 93 0.0365853658537\n",
        "21 99 0.0389457120378\n",
        "23 101 0.0397324940991\n",
        "24 83 0.0326514555468\n",
        "25 86 0.0338316286389\n",
        "26 63 0.0247836349331\n",
        "28 49 0.0192761605035\n",
        "29 37 0.0145554681353\n",
        "3 31 0.0121951219512\n",
        "30 17 0.00668764752164\n",
        "31 13 0.0051140833989\n",
        "32 6 0.00236034618411\n",
        "34 7 0.00275373721479\n",
        "35 2 0.000786782061369\n",
        "37 2 0.000786782061369\n",
        "4 58 0.0228166797797\n",
        "40 1 0.000393391030685\n",
        "6 139 0.0546813532651\n",
        "7 115 0.0452399685287\n",
        "8 110 0.0432730133753\n",
        "9 75 0.0295043273013\n",
        "key 4 636 0.0159\n",
        "1 395 0.62106918239\n",
        "10 2 0.00314465408805\n",
        "12 5 0.00786163522013\n",
        "13 3 0.00471698113208\n",
        "14 4 0.0062893081761\n",
        "15 7 0.0110062893082\n",
        "17 9 0.0141509433962\n",
        "18 12 0.0188679245283\n",
        "19 8 0.0125786163522\n",
        "2 38 0.059748427673\n",
        "20 11 0.0172955974843\n",
        "21 6 0.00943396226415\n",
        "23 15 0.0235849056604\n",
        "24 7 0.0110062893082\n",
        "25 10 0.0157232704403\n",
        "26 14 0.0220125786164\n",
        "28 6 0.00943396226415\n",
        "29 3 0.00471698113208\n",
        "3 5 0.00786163522013\n",
        "30 2 0.00314465408805\n",
        "31 1 0.00157232704403\n",
        "4 11 0.0172955974843\n",
        "6 12 0.0188679245283\n",
        "7 17 0.0267295597484\n",
        "8 20 0.0314465408805\n",
        "9 13 0.0204402515723\n",
        "key 5 138 0.00345\n",
        "1 109 0.789855072464\n",
        "10 1 0.00724637681159\n",
        "15 2 0.0144927536232\n",
        "17 2 0.0144927536232\n",
        "19 1 0.00724637681159\n",
        "2 7 0.0507246376812\n",
        "20 3 0.0217391304348\n",
        "23 2 0.0144927536232\n",
        "25 1 0.00724637681159\n",
        "26 1 0.00724637681159\n",
        "30 1 0.00724637681159\n",
        "4 1 0.00724637681159\n",
        "6 1 0.00724637681159\n",
        "7 1 0.00724637681159\n",
        "8 2 0.0144927536232\n",
        "9 3 0.0217391304348\n",
        "key 6 19 0.000475\n",
        "1 17 0.894736842105\n",
        "18 1 0.0526315789474\n",
        "19 1 0.0526315789474\n",
        "key 7 8 0.0002\n",
        "1 8 1.0\n",
        "key 8 1 2.5e-05\n",
        "1 1 1.0\n",
        "1423\n"
       ]
      }
     ],
     "prompt_number": 189
    },
    {
     "cell_type": "code",
     "collapsed": false,
     "input": [],
     "language": "python",
     "metadata": {},
     "outputs": []
    }
   ],
   "metadata": {}
  }
 ]
}