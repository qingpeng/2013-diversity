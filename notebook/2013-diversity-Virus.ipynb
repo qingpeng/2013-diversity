{
 "metadata": {
  "name": "",
  "signature": "sha256:cec394c65a449b073b2a6cba82c204d587c600fe4f6d4ffa7ad1ff1eba687289"
 },
 "nbformat": 3,
 "nbformat_minor": 0,
 "worksheets": [
  {
   "cells": [
    {
     "cell_type": "markdown",
     "metadata": {},
     "source": [
      "/mnt/scratch/tg/qingpeng/2014-virus-meta/IGS\n",
      "\n",
      "error correction -> chop reads -> get optimal parameter -> load into hash\n",
      "------\n",
      "ls *.fq |awk '{print \"qsub -v SAMPLE=\\\"\"$1\"\\\" to_load.qsub\" }'  >to_load.qsub.sh\n",
      "\n",
      "\n"
     ]
    },
    {
     "cell_type": "code",
     "collapsed": false,
     "input": [],
     "language": "python",
     "metadata": {},
     "outputs": []
    }
   ],
   "metadata": {}
  }
 ]
}